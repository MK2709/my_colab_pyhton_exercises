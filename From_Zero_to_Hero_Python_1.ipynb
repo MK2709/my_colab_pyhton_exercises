{
  "nbformat": 4,
  "nbformat_minor": 0,
  "metadata": {
    "colab": {
      "name": "From_Zero_to_Hero_Python-1.ipynb",
      "provenance": [],
      "collapsed_sections": [],
      "authorship_tag": "ABX9TyNUPTS9nWDoyNs2uM0uSy3i",
      "include_colab_link": true
    },
    "kernelspec": {
      "name": "python3",
      "display_name": "Python 3"
    },
    "language_info": {
      "name": "python"
    }
  },
  "cells": [
    {
      "cell_type": "markdown",
      "metadata": {
        "id": "view-in-github",
        "colab_type": "text"
      },
      "source": [
        "<a href=\"https://colab.research.google.com/github/MK2709/my_colab_pyhton_exercises/blob/main/From_Zero_to_Hero_Python_1.ipynb\" target=\"_parent\"><img src=\"https://colab.research.google.com/assets/colab-badge.svg\" alt=\"Open In Colab\"/></a>"
      ]
    },
    {
      "cell_type": "markdown",
      "source": [
        "print() kullanarak ekrana birseyler yazidirma"
      ],
      "metadata": {
        "id": "8DTvz_uiLMSd"
      }
    },
    {
      "cell_type": "code",
      "execution_count": null,
      "metadata": {
        "colab": {
          "base_uri": "https://localhost:8080/"
        },
        "id": "qlq3VuFAQRL3",
        "outputId": "a16e480f-6fed-4d64-ec8a-97351d0d21fa"
      },
      "outputs": [
        {
          "output_type": "stream",
          "name": "stdout",
          "text": [
            "Hello World!!\n",
            "Clarusway will change my life\n",
            "it's my pleasure\n",
            "the cosmos has no superiority to chaos\n",
            "\n",
            "Hi, I am the docstring of this code. \n",
            "If you need any information about this function or module, read me. \n",
            "It can help you understand how the module or function works.\n",
            "    \n"
          ]
        }
      ],
      "source": [
        "print('Hello World!!')\n",
        "print(\"Clarusway will change my life\")\n",
        "print(\"it's my pleasure\")\n",
        "print(\"the cosmos has no superiority to chaos\")\n",
        "\n",
        "def function(): # Don't be confused, we use 'def()' to create a function. \n",
        "                # You will see it in the next lessons.\n",
        "    \"\"\"\n",
        "Hi, I am the docstring of this code. \n",
        "If you need any information about this function or module, read me. \n",
        "It can help you understand how the module or function works.\n",
        "    \"\"\"\n",
        "print(function.__doc__)"
      ]
    },
    {
      "cell_type": "code",
      "source": [
        "a= 5\n",
        "b=55\n",
        "c=555\n",
        "print(a,b,c, sep='\\t')\n",
        "print(a,b,c, sep=',') #, ile ayirmak icin. sep ifadesinin icerisine yazilan ile ayrilir\n",
        "print(a,b,c, sep='+') # + isareti ile ayiriyor\n",
        "print(a,b,c, sep='-') # - isareti ile ayiriyor\n",
        "print(a,b,c, sep='\\n') # \\n new line ile ayiriyor\n",
        "print(a,b,c, sep='\\b') #backspace-555555 olmasi gerekirken 2 adet 5 rakamini sildi\n",
        "print('It\\'s funny to learn pyhton') # \\ ifadesi arkasindan gelen kesme isareti icin\n",
        "print(a,b,c, end='*') # * isareti bitiriyor"
      ],
      "metadata": {
        "colab": {
          "base_uri": "https://localhost:8080/"
        },
        "id": "rPlr6RHpBPDF",
        "outputId": "d100077d-e7bc-4410-f904-475453c58aef"
      },
      "execution_count": null,
      "outputs": [
        {
          "output_type": "stream",
          "name": "stdout",
          "text": [
            "5\t55\t555\n",
            "5,55,555\n",
            "5+55+555\n",
            "5-55-555\n",
            "5\n",
            "55\n",
            "555\n",
            "5\b55\b555\n",
            "It's funny to learn pyhton\n",
            "5 55 555*"
          ]
        }
      ]
    },
    {
      "cell_type": "markdown",
      "source": [
        "print() Matematiksel islemler"
      ],
      "metadata": {
        "id": "Nkykw5dOLH2j"
      }
    },
    {
      "cell_type": "code",
      "source": [
        "print(4+11)\n",
        "print(4/2) #bolme islemi herzaman float number verir\n",
        "print(7//2) # bolme islemi yapar ama tam sayiyi dondurur\n",
        "print(7%2) #bolme islemini yapar ve bolumden kalani dondurur\n",
        "print(3*2) #regular carpma  islemini yapar\n",
        "print(3**2) # iki yildiz ustu ifadesidir - 3 un karesi\n",
        "print(3**3) # 3 un kupu\n"
      ],
      "metadata": {
        "colab": {
          "base_uri": "https://localhost:8080/"
        },
        "id": "bueDz765Qjkj",
        "outputId": "ae56b1c4-f46d-401c-8706-fb6000c65b40"
      },
      "execution_count": null,
      "outputs": [
        {
          "output_type": "stream",
          "name": "stdout",
          "text": [
            "15\n",
            "2.0\n",
            "3\n",
            "1\n",
            "6\n",
            "9\n",
            "27\n"
          ]
        }
      ]
    },
    {
      "cell_type": "markdown",
      "source": [
        "print () operations- birden fazla islemi birlestirme"
      ],
      "metadata": {
        "id": "SLO3gKX2LFII"
      }
    },
    {
      "cell_type": "code",
      "source": [
        "number = 2020\n",
        "text = \"children deserve respect as much as adults in\"\n",
        "print(text, number)"
      ],
      "metadata": {
        "colab": {
          "base_uri": "https://localhost:8080/"
        },
        "id": "Bb9-VJFBIV2y",
        "outputId": "08cbd41a-bfdc-412d-ad43-721497ac2f66"
      },
      "execution_count": null,
      "outputs": [
        {
          "output_type": "stream",
          "name": "stdout",
          "text": [
            "children deserve respect as much as adults in 2020\n"
          ]
        }
      ]
    },
    {
      "cell_type": "code",
      "source": [
        "print('yesterday I ate', 2, 'apples') #default olarak araya bosluk verdi. Print fonksiyonu iceisinde"
      ],
      "metadata": {
        "colab": {
          "base_uri": "https://localhost:8080/"
        },
        "id": "cF9TGGlNLYvl",
        "outputId": "392ae01f-693a-4566-fc5a-b03ebc68c359"
      },
      "execution_count": null,
      "outputs": [
        {
          "output_type": "stream",
          "name": "stdout",
          "text": [
            "yesterday I ate 2 apples\n"
          ]
        }
      ]
    },
    {
      "cell_type": "code",
      "source": [
        "print('i')   #bu sekilde yazzildiginda print otomatik olarak yazilan karakterin \n",
        "print('will') #sonunda bir alta gecmek icin '\\n' koyuyor ve alt satira geciyor"
      ],
      "metadata": {
        "colab": {
          "base_uri": "https://localhost:8080/"
        },
        "id": "mApu43nbLj_3",
        "outputId": "cd4928a4-dc38-49bc-990a-ef0b03c14419"
      },
      "execution_count": null,
      "outputs": [
        {
          "output_type": "stream",
          "name": "stdout",
          "text": [
            "i\n",
            "will\n"
          ]
        }
      ]
    },
    {
      "cell_type": "code",
      "source": [
        "print ('i', end=' ') #i harfini yazdiktan sonra alt satira gecmesin ve \n",
        "print('will say', end=' ') #bosluk versin diye bunu yaziyor\n",
        "print(\"'I missed you'\", end=' ')# cift tirnak icerisinde tirnak icinde ifade \n",
        "print('to my son')              # kullanildi."
      ],
      "metadata": {
        "colab": {
          "base_uri": "https://localhost:8080/"
        },
        "id": "aKFWmZvmMUpG",
        "outputId": "312370c0-a2c0-4b29-ea6b-690de83e9e9c"
      },
      "execution_count": null,
      "outputs": [
        {
          "output_type": "stream",
          "name": "stdout",
          "text": [
            "i will say 'I missed you' to my son\n"
          ]
        }
      ]
    },
    {
      "cell_type": "code",
      "source": [
        "print('smoking', 'is','slowly', 'killing me',sep='+') #print icerisinde yazilan\n",
        "# her bir iterible objecti birlikte yazarken kullanilan ve aralarina gelecek karakteri\n",
        "#belirleyen ifade sep='+'.."
      ],
      "metadata": {
        "colab": {
          "base_uri": "https://localhost:8080/"
        },
        "id": "T5kopjqdNJKU",
        "outputId": "245519d3-0c61-4997-f0a0-0e0ffd71ca35"
      },
      "execution_count": null,
      "outputs": [
        {
          "output_type": "stream",
          "name": "stdout",
          "text": [
            "smoking+is+slowly+killing me\n"
          ]
        }
      ]
    },
    {
      "cell_type": "markdown",
      "source": [
        "-= decrements the variable in place,\n",
        "+= increment the variable in place,\n",
        "*= multiply the variable in place,\n",
        "/= divide the variable in place,\n",
        "//= ﬂoor divide the variable in place,\n",
        "%= returns the modulus of the variable in place,\n",
        "**= raise to power in place."
      ],
      "metadata": {
        "id": "Ac3PRU1fVKgm"
      }
    },
    {
      "cell_type": "code",
      "source": [
        "x=5\n",
        "print('value of x is', x)\n",
        "x+=2 \n",
        "print('2 more of x is ', x, '\\n') #we use \\n to get an extra empty line\n",
        "y=10\n",
        "print('value of y is', y)\n",
        "y-=2\n",
        "print('2 minus y is', y,'\\n')\n",
        "z=6\n",
        "print('value of z is', z)\n",
        "z*=2\n",
        "print('2 times z is', z,'\\n')"
      ],
      "metadata": {
        "colab": {
          "base_uri": "https://localhost:8080/"
        },
        "id": "mF8uwxsaNoHm",
        "outputId": "40ed5a9f-4785-41d4-cc69-11ee994d28b9"
      },
      "execution_count": null,
      "outputs": [
        {
          "output_type": "stream",
          "name": "stdout",
          "text": [
            "value of x is 5\n",
            "2 more of x is  7 \n",
            "\n",
            "value of y is 10\n",
            "2 minus y is 8 \n",
            "\n",
            "value of z is 6\n",
            "2 times z is 12 \n",
            "\n"
          ]
        }
      ]
    },
    {
      "cell_type": "code",
      "source": [
        "pi=3.14\n",
        "r=5\n",
        "alan=pi*r**2\n",
        "print(alan)"
      ],
      "metadata": {
        "colab": {
          "base_uri": "https://localhost:8080/"
        },
        "id": "YnF7IefjXjAR",
        "outputId": "4fb593e2-6fac-4506-c821-0df1fb18b986"
      },
      "execution_count": null,
      "outputs": [
        {
          "output_type": "stream",
          "name": "stdout",
          "text": [
            "78.5\n"
          ]
        }
      ]
    },
    {
      "cell_type": "code",
      "source": [
        "16 ** 0.5 # ustu 0.5 ifadesi kare koku icin kullaniyoruz"
      ],
      "metadata": {
        "colab": {
          "base_uri": "https://localhost:8080/"
        },
        "id": "W95Rez716wbl",
        "outputId": "b298647e-4397-42d1-88e0-a3844a7a3936"
      },
      "execution_count": null,
      "outputs": [
        {
          "output_type": "execute_result",
          "data": {
            "text/plain": [
              "4.0"
            ]
          },
          "metadata": {},
          "execution_count": 13
        }
      ]
    },
    {
      "cell_type": "code",
      "source": [
        "a=3\n",
        "b=4\n",
        "c=((a**2)+(b**2))**0.5\n",
        "print(c)  #hipotenus u bulma "
      ],
      "metadata": {
        "colab": {
          "base_uri": "https://localhost:8080/"
        },
        "id": "ojmFC6U2-5_U",
        "outputId": "400ae490-6985-470b-cb13-8e7807155547"
      },
      "execution_count": null,
      "outputs": [
        {
          "output_type": "stream",
          "name": "stdout",
          "text": [
            "5.0\n"
          ]
        }
      ]
    },
    {
      "cell_type": "code",
      "source": [
        "#Value1\t Logic\t  Value2  \tReturns\n",
        "#True\t   and\t     True\t     True\n",
        "#True\t   and\t     False\t   False\n",
        "#False\t and\t     False\t   False\n",
        "#False\t and\t     True      False\n",
        "#True   \tor       True\t     True\n",
        "#True\t    or    \t False\t   True\n",
        "#False\t  or\t     False\t   False\n",
        "#False\t  or\t     True\t     True"
      ],
      "metadata": {
        "id": "_VSgQ3tFJTz-"
      },
      "execution_count": null,
      "outputs": []
    },
    {
      "cell_type": "code",
      "source": [
        "print(2 and 'hello world')\n",
        "print([] and 'be happy!')\n",
        "print(None and ())"
      ],
      "metadata": {
        "colab": {
          "base_uri": "https://localhost:8080/"
        },
        "id": "zPfuXdKx_dOG",
        "outputId": "a0e69a2b-e7af-4319-d292-fae430c2e1de"
      },
      "execution_count": null,
      "outputs": [
        {
          "output_type": "stream",
          "name": "stdout",
          "text": [
            "hello world\n",
            "[]\n",
            "None\n"
          ]
        }
      ]
    },
    {
      "cell_type": "code",
      "source": [
        "fruit = 'Orange'\n",
        "#string[start:stop:step].\n",
        "print('Word                   : ' , fruit)\n",
        "print('First letter           : ' , fruit[0])\n",
        "print('Second letter          : ' , fruit[1])\n",
        "print(\"3rd to 5th letters     : \" , fruit[2:5])\n",
        "print(\"Letter all after 3rd   : \" , fruit[2:])\n"
      ],
      "metadata": {
        "colab": {
          "base_uri": "https://localhost:8080/"
        },
        "id": "u626pSKMIdDN",
        "outputId": "90da7e00-a3a0-4c9d-d3bd-ede89175d491"
      },
      "execution_count": null,
      "outputs": [
        {
          "output_type": "stream",
          "name": "stdout",
          "text": [
            "Word                   :  Orange\n",
            "First letter           :  O\n",
            "Second letter          :  r\n",
            "3rd to 5th letters     :  ang\n",
            "Letter all after 3rd   :  ange\n"
          ]
        }
      ]
    },
    {
      "cell_type": "code",
      "source": [
        "city = 'Phoenix'\n",
        "\n",
        "print(city[1:])  # starts from index 1 to the end\n",
        "print(city[:6])  # starts from zero to 5th index\n",
        "print(city[::2])  # starts from zero to end by 2 step\n",
        "print(city[1::2])  # starts from index 1 to the end by 2 step\n",
        "print(city[-3:])  # starts from index -3 to the end\n",
        "print(city[::-1])  # negative step starts from the end to zero"
      ],
      "metadata": {
        "colab": {
          "base_uri": "https://localhost:8080/"
        },
        "id": "GkIzvu5vM6qs",
        "outputId": "46b63b55-9b1a-44a5-e32f-e807d2f1d3bc"
      },
      "execution_count": null,
      "outputs": [
        {
          "output_type": "stream",
          "name": "stdout",
          "text": [
            "hoenix\n",
            "Phoeni\n",
            "Ponx\n",
            "hei\n",
            "nix\n",
            "xineohP\n"
          ]
        }
      ]
    },
    {
      "cell_type": "code",
      "source": [
        "vegetable = 'Tomato'\n",
        "\n",
        "print('length of the word', vegetable, 'is :', len(vegetable))\n",
        "\n",
        "#len() fonksiyonu string uzunlugunu (harflerin adedinin toplamini) verir\n"
      ],
      "metadata": {
        "colab": {
          "base_uri": "https://localhost:8080/"
        },
        "id": "JNCy9LnxNJgi",
        "outputId": "7a4e350a-11d1-4f9a-d448-ca515680664d"
      },
      "execution_count": null,
      "outputs": [
        {
          "output_type": "stream",
          "name": "stdout",
          "text": [
            "length of the word Tomato is : 6\n"
          ]
        }
      ]
    },
    {
      "cell_type": "markdown",
      "source": [
        "#Arithmetic syntax (+, *, and =),\n",
        "# % operator formatting,\n",
        "# string.format() method,\n",
        "# f-string formatting."
      ],
      "metadata": {
        "id": "UwhfSuHJStPY"
      }
    },
    {
      "cell_type": "code",
      "source": [
        "fruit = 'Orange'\n",
        "vegetable = 'Tomato'\n",
        "print(\"using + :\", fruit + vegetable)\n",
        "print(\"using * :\", 3 * fruit)\n"
      ],
      "metadata": {
        "colab": {
          "base_uri": "https://localhost:8080/"
        },
        "id": "1oPK4ywiNRiR",
        "outputId": "12faba2e-2f2d-4dc2-9501-3a6604a257c9"
      },
      "execution_count": null,
      "outputs": [
        {
          "output_type": "stream",
          "name": "stdout",
          "text": [
            "using + : OrangeTomato\n",
            "using * : OrangeOrangeOrange\n"
          ]
        }
      ]
    },
    {
      "cell_type": "code",
      "source": [
        "fruit = 'orange'\n",
        "fruit += ' apple'\n",
        "fruit += ' banana'\n",
        "fruit += ' apricot'\n",
        "\n",
        "print(fruit)"
      ],
      "metadata": {
        "colab": {
          "base_uri": "https://localhost:8080/"
        },
        "id": "5luKGCRMTVut",
        "outputId": "d66c43e8-3647-4ff6-dd4e-48f0498d5250"
      },
      "execution_count": null,
      "outputs": [
        {
          "output_type": "stream",
          "name": "stdout",
          "text": [
            "orange apple banana apricot\n"
          ]
        }
      ]
    },
    {
      "cell_type": "code",
      "source": [
        "phrase = 'I have %d %s and %.2f brothers' % (4, \"children\", 5)  \n",
        "print (phrase)\n",
        "#In the '%s' syntax : s stands for 'string'.\n",
        "#In the '%.2f' syntax : f stands for 'float'. In this example 2 digits after point.\n",
        "#In the '%d' syntax : d stands for 'numeric'"
      ],
      "metadata": {
        "colab": {
          "base_uri": "https://localhost:8080/"
        },
        "id": "7GtpcUzRTX6z",
        "outputId": "0b38a088-2ada-4528-9a77-45c5162ca15d"
      },
      "execution_count": null,
      "outputs": [
        {
          "output_type": "stream",
          "name": "stdout",
          "text": [
            "I have 4 children and 5.00 brothers\n"
          ]
        }
      ]
    },
    {
      "cell_type": "code",
      "source": [
        "sentence = \"apologizing is a virtue\"\n",
        "\n",
        "print(\"%.8s\" % sentence)  # we get first 8 characters of the string(sentence)\n",
        "                         #ayrica % ifadesi print fonksiyonu icerisinde de kullanilabiliyor"
      ],
      "metadata": {
        "colab": {
          "base_uri": "https://localhost:8080/"
        },
        "id": "OV0-hhP9Tp8o",
        "outputId": "4cc36762-81a9-4fe7-9376-ad0175d47e9b"
      },
      "execution_count": null,
      "outputs": [
        {
          "output_type": "stream",
          "name": "stdout",
          "text": [
            "apologiz\n"
          ]
        }
      ]
    },
    {
      "cell_type": "code",
      "source": [
        "print('%(amount)d pounds of %(fruit)s left' % {'amount': 33, 'fruit':'bananas'})\n",
        "#print fonksiyounu icerisinde degisken hem belirleniyor hem deger ataniyor\n",
        "#d for digit s for string .f for float.."
      ],
      "metadata": {
        "colab": {
          "base_uri": "https://localhost:8080/"
        },
        "id": "qPjSIuGLT2_v",
        "outputId": "1e2f0625-5c6e-4589-b4b9-d465220b0470"
      },
      "execution_count": null,
      "outputs": [
        {
          "output_type": "stream",
          "name": "stdout",
          "text": [
            "33 pounds of bananas left\n"
          ]
        }
      ]
    },
    {
      "cell_type": "code",
      "source": [
        "x = \"HelloWorld!\"\n",
        "print('%.5s' % x) #sadec ilk bes karakteri aldi"
      ],
      "metadata": {
        "colab": {
          "base_uri": "https://localhost:8080/"
        },
        "id": "miXdRD7YUTV5",
        "outputId": "edc0f0a6-e969-4790-cae7-947ae766f8bb"
      },
      "execution_count": null,
      "outputs": [
        {
          "output_type": "stream",
          "name": "stdout",
          "text": [
            "Hello\n"
          ]
        }
      ]
    },
    {
      "cell_type": "markdown",
      "source": [
        "#'string.format()' method\n",
        "#As in this example below, the value of expression comes from \n",
        "#.format() method in order. \n",
        "#Curly braces 👉🏻{} receives values from .format()."
      ],
      "metadata": {
        "id": "Tst2cy63VMJd"
      }
    },
    {
      "cell_type": "code",
      "source": [
        "fruit = 'Orange'\n",
        "vegetable = 'Tomato'\n",
        "amount = 4\n",
        "print('The amount of {} we bought is {} pounds'.format(fruit, amount))"
      ],
      "metadata": {
        "colab": {
          "base_uri": "https://localhost:8080/"
        },
        "id": "r8sPul62Us6u",
        "outputId": "c915c042-bb99-4217-df47-cd6c0307cd77"
      },
      "execution_count": null,
      "outputs": [
        {
          "output_type": "stream",
          "name": "stdout",
          "text": [
            "The amount of Orange we bought is 4 pounds\n"
          ]
        }
      ]
    },
    {
      "cell_type": "code",
      "source": [
        "age = 28\n",
        "ambition = \"high\"\n",
        "status = \"broke as hell\"\n",
        "goal = \"get a masters degree\"\n",
        "year = 2008\n",
        "print('when I was {}, my abitions are {}, but eventhough I was {} I decided to get {} and year was {}'\n",
        ".format(age, ambition, status, goal, year))"
      ],
      "metadata": {
        "colab": {
          "base_uri": "https://localhost:8080/"
        },
        "id": "-yU3PhiHVez3",
        "outputId": "b5338bfe-b66d-4239-8a4e-88f858d212e7"
      },
      "execution_count": null,
      "outputs": [
        {
          "output_type": "stream",
          "name": "stdout",
          "text": [
            "when I was 28, my abitions are high, but eventhough I was broke as hell I decided to get get a masters degree and year was 2008\n"
          ]
        }
      ]
    },
    {
      "cell_type": "code",
      "source": [
        "print('{state} is the most {adjective} state of the {country}'\n",
        ".format(state='California', country='USA', adjective='crowded'))\n",
        "#we don't have to write keyword in order but we have to address/define them"
      ],
      "metadata": {
        "colab": {
          "base_uri": "https://localhost:8080/"
        },
        "id": "c9cp5SBsWTxI",
        "outputId": "d7566140-58ce-471c-c9d8-ec127a4fd320"
      },
      "execution_count": null,
      "outputs": [
        {
          "output_type": "stream",
          "name": "stdout",
          "text": [
            "California is the most crowded state of the USA\n"
          ]
        }
      ]
    },
    {
      "cell_type": "code",
      "source": [
        "print(\"{6} {0} {5} {3} {4} {1} {2}\".format('have', 6, 'months', 'a job', 'in', 'found', 'I will'))\n",
        "#bu ornekte de pozisyon numralari verilerek cagiriliyor"
      ],
      "metadata": {
        "colab": {
          "base_uri": "https://localhost:8080/"
        },
        "id": "3OOuOnxpWzml",
        "outputId": "8aa58f5e-e92c-4648-f4ab-add86d170c80"
      },
      "execution_count": null,
      "outputs": [
        {
          "output_type": "stream",
          "name": "stdout",
          "text": [
            "I will have found a job in 6 months\n"
          ]
        }
      ]
    },
    {
      "cell_type": "markdown",
      "source": [
        "#String Formatting with 'f-string'\n",
        "# Sample of a formula syntax is :\n",
        "#f\"strings {variable1} {variable2} string {variable3}\""
      ],
      "metadata": {
        "id": "xHggtajkcSDC"
      }
    },
    {
      "cell_type": "code",
      "source": [
        "fruit = 'orange'\n",
        "vegetable = 'eggplant'\n",
        "amount=5\n",
        "output=f\"eve gelirken {amount}kg {fruit} ve {amount}kg {vegetable} getir\"\n",
        "print(output)\n"
      ],
      "metadata": {
        "colab": {
          "base_uri": "https://localhost:8080/"
        },
        "id": "FK8ehsiTXKQo",
        "outputId": "ac9eb93a-aa73-4744-8532-b192f75af472"
      },
      "execution_count": null,
      "outputs": [
        {
          "output_type": "stream",
          "name": "stdout",
          "text": [
            "eve gelirken 5kg orange ve 5 eggplant getir\n"
          ]
        }
      ]
    },
    {
      "cell_type": "code",
      "source": [
        "j=f'{4*5}' #cok onemli bir detay. nomal parantezle yazarsan () string ciktisi verir\n",
        "print (j) # suslu parantezi tirnak icine almazsan hata verir"
      ],
      "metadata": {
        "colab": {
          "base_uri": "https://localhost:8080/"
        },
        "id": "M5dy3KaTfo0h",
        "outputId": "a3dfd025-0f92-4a24-a645-831e0cfeb3ea"
      },
      "execution_count": null,
      "outputs": [
        {
          "output_type": "stream",
          "name": "stdout",
          "text": [
            "20\n"
          ]
        }
      ]
    },
    {
      "cell_type": "code",
      "source": [
        "text =f\"ali veli {'seli'.replace('s','d')}\" # suslu parantez icerisinde islem yapilabiliyor\n",
        "print(text)          "
      ],
      "metadata": {
        "id": "X-7Wl6DPJk27"
      },
      "execution_count": null,
      "outputs": []
    },
    {
      "cell_type": "code",
      "source": [
        "name = 'MARIAM'\n",
        "text=f'My name is {name.capitalize()}' # suslu parantez icerisinde islem yapilabiliyor\n",
        "print(text)                            # fonskiyon tanimlanip islem yapilabiliyor"
      ],
      "metadata": {
        "colab": {
          "base_uri": "https://localhost:8080/"
        },
        "id": "TGWx_dJ6Jl-d",
        "outputId": "17bf2012-e01a-459d-ef4b-d07b2b8ce822"
      },
      "execution_count": null,
      "outputs": [
        {
          "output_type": "stream",
          "name": "stdout",
          "text": [
            "My name is Mariam\n"
          ]
        }
      ]
    },
    {
      "cell_type": "code",
      "source": [
        "name='metin'\n",
        "output = f'My name is {name.upper()}'\n",
        "print(output)"
      ],
      "metadata": {
        "colab": {
          "base_uri": "https://localhost:8080/"
        },
        "id": "CAnwYrmgf39j",
        "outputId": "8fd375d2-4cbc-4e22-c284-232fdc1e50a5"
      },
      "execution_count": null,
      "outputs": [
        {
          "output_type": "stream",
          "name": "stdout",
          "text": [
            "My name is METIN\n"
          ]
        }
      ]
    },
    {
      "cell_type": "code",
      "source": [
        "name= 'metin'\n",
        "job= 'Elec.Engineer'\n",
        "age=42\n",
        "path='Data Science'\n",
        "output=(f'My name is {name.capitalize()}.'\n",
        "f'I\\'m an {job}. '\n",
        "f'I\\'m {age} years old and studying {path}')\n",
        "print(output)"
      ],
      "metadata": {
        "colab": {
          "base_uri": "https://localhost:8080/"
        },
        "id": "xaxPGc5pghZP",
        "outputId": "216fcb61-d71b-455a-b56d-137a150a57c5"
      },
      "execution_count": null,
      "outputs": [
        {
          "output_type": "stream",
          "name": "stdout",
          "text": [
            "My name is Metin.I'm an Elec.Engineer. I'm 42 years old and studying Data Science\n"
          ]
        }
      ]
    },
    {
      "cell_type": "code",
      "source": [
        "#If you want to use multiple f-string formatting lines without parentheses, \n",
        "#you will have the other option that you can use backslash 👉🏻\\ between lines.\n",
        "\n",
        "name= 'metin'\n",
        "job= 'Elec.Engineer'\n",
        "age=42\n",
        "path='Data Science'\n",
        "output=f'My name is {name.capitalize()}.'\\\n",
        "f'I\\'m an {job}. '\\\n",
        "f'I\\'m {age} years old and studying {path}'\n",
        "print(output)"
      ],
      "metadata": {
        "colab": {
          "base_uri": "https://localhost:8080/"
        },
        "id": "Ssn2tDXrhe9s",
        "outputId": "2db61323-91d0-47e4-d1fd-fda4592a9ce4"
      },
      "execution_count": null,
      "outputs": [
        {
          "output_type": "stream",
          "name": "stdout",
          "text": [
            "My name is Metin.I'm an Elec.Engineer. I'm 42 years old and studying Data Science\n"
          ]
        }
      ]
    },
    {
      "cell_type": "code",
      "source": [
        "phrase = \"myemailaddress@clarusway.com\"\n",
        "\n",
        "print(len(phrase))\n",
        "print(phrase.startswith(\"@\", 14))\n",
        "print(phrase.endswith(\".\", 15, 24))"
      ],
      "metadata": {
        "colab": {
          "base_uri": "https://localhost:8080/"
        },
        "id": "97DY4Biph6Bf",
        "outputId": "3dd06792-b785-476c-e8af-36836974a6ee"
      },
      "execution_count": null,
      "outputs": [
        {
          "output_type": "stream",
          "name": "stdout",
          "text": [
            "28\n",
            "True\n",
            "False\n"
          ]
        }
      ]
    },
    {
      "cell_type": "markdown",
      "source": [
        "Problem : If you had deposited a coin on the cryptocurrency exchange that brought 7% fixed profit daily for a week, how much would your $ 1000 reach at the end of the 7th day?"
      ],
      "metadata": {
        "id": "CAHYhCWmlXQR"
      }
    },
    {
      "cell_type": "code",
      "source": [
        "ana_para=1000\n",
        "rate= 1.07\n",
        "day = 7\n",
        "faiz = ana_para*rate**day\n",
        "print(faiz)"
      ],
      "metadata": {
        "id": "zGlzg8sLxmYC",
        "colab": {
          "base_uri": "https://localhost:8080/"
        },
        "outputId": "aeb045b8-b288-4b28-aa25-373d3d7b3d8d"
      },
      "execution_count": null,
      "outputs": [
        {
          "output_type": "stream",
          "name": "stdout",
          "text": [
            "1605.7814764784307\n"
          ]
        }
      ]
    },
    {
      "cell_type": "markdown",
      "source": [
        "Problem : If you had deposited a coin on the cryptocurrency exchange that brought 7% fixed profit daily for a week, how much would your $ 1000 reach at the end of the 7th day?"
      ],
      "metadata": {
        "id": "-GYsJeKIlb0X"
      }
    },
    {
      "cell_type": "code",
      "source": [
        "n=7\n",
        "para = 1000\n",
        "faiz =1.07\n",
        "vade = 0\n",
        "while vade <= n:\n",
        "  print (vade,\"gün\", para)\n",
        "  para*= faiz\n",
        "  vade = vade + 1  "
      ],
      "metadata": {
        "colab": {
          "base_uri": "https://localhost:8080/"
        },
        "id": "XXoAPF6JkLN6",
        "outputId": "000e91a0-52df-4baa-f9e4-3fea908dac32"
      },
      "execution_count": null,
      "outputs": [
        {
          "output_type": "stream",
          "name": "stdout",
          "text": [
            "0 gün 1000\n",
            "1 gün 1070.0\n",
            "2 gün 1144.9\n",
            "3 gün 1225.0430000000001\n",
            "4 gün 1310.7960100000003\n",
            "5 gün 1402.5517307000005\n",
            "6 gün 1500.7303518490005\n",
            "7 gün 1605.7814764784307\n"
          ]
        }
      ]
    },
    {
      "cell_type": "markdown",
      "source": [
        "Main String Operations"
      ],
      "metadata": {
        "id": "ayXer_AbmSV9"
      }
    },
    {
      "cell_type": "code",
      "source": [
        "text = 'www.clarusway.com'\n",
        "print(text.endswith('om'))  #endswith ve startswith ifadeleri True/False dondurur\n",
        "print(text.startswith('w'))\n",
        "email = \"clarusway@clarusway.com is my e-mail address\"\n",
        "print(email.startswith(\"@\", 9)) #index number 0 dan baslar ve kosulun saglanmasi\n",
        "print(email.endswith(\"-\", 10, 32)) # durumunda True/False dondurur"
      ],
      "metadata": {
        "colab": {
          "base_uri": "https://localhost:8080/"
        },
        "id": "4uJg22Jqkakx",
        "outputId": "71763efa-6f53-4a1a-a74b-91d4fd7798ee"
      },
      "execution_count": null,
      "outputs": [
        {
          "output_type": "stream",
          "name": "stdout",
          "text": [
            "True\n",
            "True\n",
            "True\n",
            "True\n"
          ]
        }
      ]
    },
    {
      "cell_type": "code",
      "source": [
        "phrase = \"myemailaddress@clarusway.com\"\n",
        "\n",
        "print(len(phrase))  \n",
        "print(phrase.startswith(\"@\", 14))\n",
        "print(phrase.endswith(\".\", 15, 24))"
      ],
      "metadata": {
        "colab": {
          "base_uri": "https://localhost:8080/"
        },
        "id": "09MD8a2LmVXN",
        "outputId": "c5419c69-187b-4b41-d9d4-a643588e788d"
      },
      "execution_count": null,
      "outputs": [
        {
          "output_type": "stream",
          "name": "stdout",
          "text": [
            "28\n",
            "True\n",
            "False\n"
          ]
        }
      ]
    },
    {
      "cell_type": "code",
      "source": [
        "sentence = \"I live and work in Virginia\"\n",
        "swap_case = sentence.swapcase()\n",
        "swap_case_c=swap_case.capitalize()\n",
        "swap_case_u=swap_case.upper()\n",
        "swap_case_l=swap_case.lower()\n",
        "swap_case_t=swap_case.title()\n",
        "swap_case_r=swap_case_t.replace('v', 'V')\n",
        "print(swap_case) # buyuk harfleri kucuk kucuk harfleri buyuk yapti\n",
        "print(swap_case_u) #butun harfleri buyuk harf yapti\n",
        "print(swap_case_l) #butun harfleri kucuk yapti\n",
        "print(swap_case_c) # sadece string in birinci harfini buyuk yapti\n",
        "print(swap_case_r) #sadece kucuk v harfini buyuk V ile degistirdi"
      ],
      "metadata": {
        "colab": {
          "base_uri": "https://localhost:8080/"
        },
        "id": "5BQrDsqHnYX9",
        "outputId": "9ed1f16e-2fa7-457f-b22e-a056de03a3a3"
      },
      "execution_count": null,
      "outputs": [
        {
          "output_type": "stream",
          "name": "stdout",
          "text": [
            "i LIVE AND WORK IN vIRGINIA\n",
            "I LIVE AND WORK IN VIRGINIA\n",
            "i live and work in virginia\n",
            "I live and work in virginia\n",
            "I LiVe And Work In Virginia\n"
          ]
        }
      ]
    },
    {
      "cell_type": "code",
      "source": [
        "space_string = \"     listen first      \"\n",
        "print(space_string.strip()) # removes all spaces from both sides\n",
        "source_string = \"interoperability\"\n",
        "print(source_string.strip(\"yi\"))  \n",
        "# removes trailing \"y\" or \"i\" or \"yi\" or \"iy\" from both sides\n",
        "ource_string = \"interoperability\"\n",
        "print(source_string.lstrip(\"in\"))  \n",
        "# removes \"i\" or \"n\" or \"in\" or \"ni\" from the left side\n",
        "ace_string = \"     listen first      \"\n",
        "print(space_string.rstrip())  # removes spaces from ONLY the right side\n",
        "source_string = \"interoperability\"\n",
        "print(source_string.rstrip(\"yt\"))  \n",
        "# removes \"y\" or \"t\" or \"yt\" or \"ty\" from the right side\n"
      ],
      "metadata": {
        "colab": {
          "base_uri": "https://localhost:8080/"
        },
        "id": "oA3ae0pKouzD",
        "outputId": "9cf71fec-74ef-4f70-bf1f-7ec05eed0bf3"
      },
      "execution_count": null,
      "outputs": [
        {
          "output_type": "stream",
          "name": "stdout",
          "text": [
            "listen first\n",
            "nteroperabilit\n",
            "teroperability\n",
            "     listen first\n",
            "interoperabili\n"
          ]
        }
      ]
    },
    {
      "cell_type": "code",
      "source": [
        "print(0xA + 0xB + 0xC)"
      ],
      "metadata": {
        "colab": {
          "base_uri": "https://localhost:8080/"
        },
        "id": "7xlHnQWrvtAU",
        "outputId": "750b41e2-212c-4f5d-a23a-55edae84ed27"
      },
      "execution_count": null,
      "outputs": [
        {
          "output_type": "stream",
          "name": "stdout",
          "text": [
            "33\n"
          ]
        }
      ]
    },
    {
      "cell_type": "code",
      "source": [
        "print(r\"\\nhello\")"
      ],
      "metadata": {
        "colab": {
          "base_uri": "https://localhost:8080/"
        },
        "id": "Z1UeOdowz_Vj",
        "outputId": "9191762d-2616-42b0-c782-ae9f7f9fea33"
      },
      "execution_count": null,
      "outputs": [
        {
          "output_type": "stream",
          "name": "stdout",
          "text": [
            "\\nhello\n"
          ]
        }
      ]
    },
    {
      "cell_type": "code",
      "source": [
        "print(\"new\" \"line\")"
      ],
      "metadata": {
        "colab": {
          "base_uri": "https://localhost:8080/"
        },
        "id": "4Q-0OtPo0ZD1",
        "outputId": "c63b97e1-15d7-45c8-c785-7e9083d6197b"
      },
      "execution_count": null,
      "outputs": [
        {
          "output_type": "stream",
          "name": "stdout",
          "text": [
            "newline\n"
          ]
        }
      ]
    },
    {
      "cell_type": "markdown",
      "source": [
        "#Clarusway, Clarusway, Clarusway, \n",
        "\t#Clarusway, Clarusway, Clarusway, \n",
        "\t\t#Clarusway, Clarusway, Clarusway"
      ],
      "metadata": {
        "id": "221i8xjU1aTv"
      }
    },
    {
      "cell_type": "code",
      "source": [
        "text = \"Clarusway, Clarusway, Clarusway\"\n",
        "\n",
        "print(text,end=',''\\n''\\t')\n",
        "print(text,end=',''\\n''\\t''\\t')\n",
        "print(text)"
      ],
      "metadata": {
        "colab": {
          "base_uri": "https://localhost:8080/"
        },
        "id": "myvcSYZv1VHO",
        "outputId": "a17c1000-150a-4bfe-d418-7b002ad969ce"
      },
      "execution_count": null,
      "outputs": [
        {
          "output_type": "stream",
          "name": "stdout",
          "text": [
            "Clarusway, Clarusway, Clarusway,\n",
            "\tClarusway, Clarusway, Clarusway,\n",
            "\t\tClarusway, Clarusway, Clarusway\n"
          ]
        }
      ]
    },
    {
      "cell_type": "code",
      "source": [
        "text = \"{0}! I am a {1} programmer and I {2} Clarusway \".format(\"Hello\", \"new\", \"love\")\n",
        "print(text)"
      ],
      "metadata": {
        "colab": {
          "base_uri": "https://localhost:8080/"
        },
        "id": "ndBpUJaI1qIe",
        "outputId": "5e1d9ca9-0fd1-4892-a417-b2da0b864088"
      },
      "execution_count": null,
      "outputs": [
        {
          "output_type": "stream",
          "name": "stdout",
          "text": [
            "Hello! I am a new programmer and I love Clarusway \n"
          ]
        }
      ]
    },
    {
      "cell_type": "markdown",
      "source": [
        "Assignment - 010/02 (Measure Converter)\n",
        "\n",
        "Task-1:\n",
        "\n",
        "Write a short Python program that asks the user to enter Celsius temperature (it can be a decimal number), converts the entered temperature into Fahrenheit degree and prints the result."
      ],
      "metadata": {
        "id": "w3g-wU2B5fzu"
      }
    },
    {
      "cell_type": "code",
      "source": [
        "text =f\"ali veli {'seli'.replace('s','d')}\" # suslu parantez icerisinde islem yapilabiliyor\n",
        "print(text)                                # he m yazi yazdirip hem fonksiyon calisiyor. Onemli"
      ],
      "metadata": {
        "colab": {
          "base_uri": "https://localhost:8080/"
        },
        "id": "8MZp_5OGH3_X",
        "outputId": "a2cdcb55-7036-47e5-d1b6-899d5339b388"
      },
      "execution_count": null,
      "outputs": [
        {
          "output_type": "stream",
          "name": "stdout",
          "text": [
            "ali veli deli\n"
          ]
        }
      ]
    },
    {
      "cell_type": "code",
      "source": [
        "celcius= float(input('Please enter degree in Celcius'))\n",
        "fahrenheit= (celcius *1.8)+32\n",
        "print('{} degree is equal {} degree in fahrenheit'.format(celcius,fahrenheit))\n",
        "text=f'{celcius} degree is equal {fahrenheit} degree in fahrenheit'\n",
        "print(text)\n"
      ],
      "metadata": {
        "colab": {
          "base_uri": "https://localhost:8080/"
        },
        "id": "MoRRVPE75EBJ",
        "outputId": "144104cd-3e1c-477b-c985-61f958021c1f"
      },
      "execution_count": null,
      "outputs": [
        {
          "output_type": "stream",
          "name": "stdout",
          "text": [
            "Please enter degree in Celcius35\n",
            "35.0 degree is equal 95.0 degree in fahrenheit\n",
            "35.0 degree is equal 95.0 degree in fahrenheit\n"
          ]
        }
      ]
    },
    {
      "cell_type": "markdown",
      "source": [
        "Assignment - 010/02 (Measure Converter)\n",
        "\n",
        "Task-2:\n",
        "\n",
        "Write a short Python program that asks the user to enter a distance (it can be a decimal number) in kilometers, converts the entered distance into miles and prints the result."
      ],
      "metadata": {
        "id": "x4z-QRPC7c1n"
      }
    },
    {
      "cell_type": "code",
      "source": [
        "kilometer= float(input('Please enter distance in kilometers : '))\n",
        "miles= kilometer *0.6214\n",
        "print('{} km is equal to {} miles'.format(kilometer,miles))\n",
        "distance=f'{kilometer} is equal to {miles} miles.'\n",
        "print(distance)\n",
        "print(kilometer)\n",
        "print(miles)"
      ],
      "metadata": {
        "colab": {
          "base_uri": "https://localhost:8080/"
        },
        "id": "3qFiXtOa6P8I",
        "outputId": "0c83b783-616d-47cc-fd49-99b495707812"
      },
      "execution_count": null,
      "outputs": [
        {
          "output_type": "stream",
          "name": "stdout",
          "text": [
            "Please enter distance in kilometers : 100\n",
            "100.0 km is equal to 62.13999999999999 miles\n",
            "100.0 is equal to 62.13999999999999 miles.\n",
            "100.0\n",
            "62.13999999999999\n"
          ]
        }
      ]
    },
    {
      "cell_type": "code",
      "source": [
        "print (* \"clarusway\") # '*' isareti ile stringin her bir elemanini aralarina \n",
        "                      # 1er bosluk birakarak yazdirdik."
      ],
      "metadata": {
        "id": "_sWe8D9j8U4k",
        "colab": {
          "base_uri": "https://localhost:8080/"
        },
        "outputId": "2141aa3a-4824-413e-b531-78eb94c076b3"
      },
      "execution_count": null,
      "outputs": [
        {
          "output_type": "stream",
          "name": "stdout",
          "text": [
            "c l a r u s w a y\n"
          ]
        }
      ]
    },
    {
      "cell_type": "code",
      "source": [
        "text:\"Clarusway\"\n",
        "test=\"{:>10}\".format('text') #10 karakter saga dogru yaslar\n",
        "test_2=\"{:<10}\".format('text') #10 karakter sola yaslar\n",
        "test_3=\"burada daha degisik {:>20} yontem ile ortada 20 karakter bosluk\".format(\"text\")\n",
        "test_4='{:^20}'.format('abc') #'abc' stringini sagdan ve soldan 10'ar bosluk birakarak yaziyor\n",
        "test_5='{:^20.5}'.format(\"Clarusway\") #Clasrusway kelimesinin ilk 5 harfini aldi bosluk verdi\n",
        "test_6='{:>20.5}'.format(\"Clarusway\") #Clasrusway kelimesinin ilk 5 harfini aldi sag tarafa 20bosluk verdi\n",
        "test_7='{:+}'.format(55) # 55 rakaminin basina + isareti koydu\n",
        "print(test)\n",
        "print(test_2)\n",
        "print(test_3)\n",
        "print(test_4)\n",
        "print(test_5)\n",
        "print(test_6)\n",
        "print(test_7)"
      ],
      "metadata": {
        "id": "BwpxaSmLKlNU",
        "colab": {
          "base_uri": "https://localhost:8080/"
        },
        "outputId": "c7498d78-9f25-4e61-f288-c122b0c6c5a3"
      },
      "execution_count": 29,
      "outputs": [
        {
          "output_type": "stream",
          "name": "stdout",
          "text": [
            "      text\n",
            "text      \n",
            "burada daha degisik                 text yontem ile ortada 20 karakter bosluk\n",
            "        abc         \n",
            "       Claru        \n",
            "               Claru\n",
            "+55\n"
          ]
        }
      ]
    },
    {
      "cell_type": "code",
      "source": [
        ""
      ],
      "metadata": {
        "id": "i66vfOskwojn"
      },
      "execution_count": null,
      "outputs": []
    }
  ]
}