{
  "nbformat": 4,
  "nbformat_minor": 0,
  "metadata": {
    "colab": {
      "name": "FZTH_2_Additional Exercises_CollectionTypes.ipynb",
      "provenance": [],
      "collapsed_sections": [],
      "authorship_tag": "ABX9TyORhUHAjEyLV/fYRjxhbrc/",
      "include_colab_link": true
    },
    "kernelspec": {
      "name": "python3",
      "display_name": "Python 3"
    },
    "language_info": {
      "name": "python"
    }
  },
  "cells": [
    {
      "cell_type": "markdown",
      "metadata": {
        "id": "view-in-github",
        "colab_type": "text"
      },
      "source": [
        "<a href=\"https://colab.research.google.com/github/MK2709/my_colab_pyhton_exercises/blob/main/FZTH_2_Additional_Exercises_CollectionTypes.ipynb\" target=\"_parent\"><img src=\"https://colab.research.google.com/assets/colab-badge.svg\" alt=\"Open In Colab\"/></a>"
      ]
    },
    {
      "cell_type": "code",
      "execution_count": null,
      "metadata": {
        "id": "Wdc3DKV1Q6vu"
      },
      "outputs": [],
      "source": [
        "#max(a, b, c, ...[, key=func]) -> value\n",
        "numbers_1 = [1, 3, 7, 4, 3, 0, 3, 6, 3, 6, 7, 7, 7, 7, 7, 7, 2, 4, 5, 5, 6, 6, 7, 6, 6, 12]\n",
        "the_most=max(numbers_1, key=numbers_1.count)\n",
        "print(the_most)\n",
        "a=numbers_1.count(the_most)\n",
        "print(a)\n",
        "print('the most frequent number is {} and it repeats {} times'.format(the_most, a))\n",
        "text=f'the most frequent number is {the_most} and it repeats {numbers_1.count(the_most)}'"
      ]
    },
    {
      "cell_type": "markdown",
      "source": [
        "Q2. Write a Python program to find the most common elements and their counts of a specified text. Go to the editor\n",
        "Original string: lkseropewdssafsdfafkpwe\n",
        "Most common three characters of the said string:\n",
        "[('s', 4), ('e', 3), ('f', 3)] "
      ],
      "metadata": {
        "id": "DC_auGJ3RcIH"
      }
    },
    {
      "cell_type": "code",
      "source": [
        "#A2\n",
        "string = 'lkseropewdssafsdfafkpwe'\n",
        "letter=max(string, key=string.count) #verilen deger icersinde en fazla tekrar edeni karakteri bulmak icin bulan\n",
        "print(letter)\n",
        "harf=string.count(letter)\n",
        "print(harf)"
      ],
      "metadata": {
        "colab": {
          "base_uri": "https://localhost:8080/"
        },
        "id": "XKTuyZhaRbsr",
        "outputId": "ded2a65a-c2fd-4d75-a61f-34b3ca1bbdeb"
      },
      "execution_count": 22,
      "outputs": [
        {
          "output_type": "stream",
          "name": "stdout",
          "text": [
            "s\n",
            "4\n"
          ]
        }
      ]
    },
    {
      "cell_type": "code",
      "source": [
        "#Find out if the given word is \"comfortable words\" \n",
        "#in relation to the ten-finger keyboard use.\n",
        "\n",
        "left=set(\"qwertasdfgzxcvb\")\n",
        "right=set(\"yuiophjklmn\")\n",
        "word =set(input(\"word:\"))\n",
        "leftcheck=bool(word.intersection(left))\n",
        "rightcheck=bool(word.intersection(right))\n",
        "print(\"leftcheck value is \", leftcheck)\n",
        "print('rightcheck value is ', rightcheck)\n",
        "sonuc=leftcheck and rightcheck\n",
        "\n",
        "sonuc\n"
      ],
      "metadata": {
        "id": "zS6xwkiQQ8ux"
      },
      "execution_count": null,
      "outputs": []
    },
    {
      "cell_type": "markdown",
      "source": [
        "Q3.write a program that swaps first and last digit of the given number and returns an integer number"
      ],
      "metadata": {
        "id": "rM9XgjjSXexg"
      }
    },
    {
      "cell_type": "code",
      "source": [
        "sayi=input('please your number :') #girilen sayi otomatik olarak str oluyor\n",
        "a, *b, c= sayi # ilk ve son rakam haric diger rakamlarin hepsi yildizla isaretli olan b'de\n",
        "a, b, c= c, b, a #tuple ile basitce swap ediyoruz\n",
        "#print(type(a)) #str type\n",
        "#print(type(b)) #birden fazla karakter olacagi icin list type\n",
        "#print(type(c)) #str type\n",
        "new_b= ''.join(str(e) for e in b) # listedeki her bir rakam icin toplu str cevirme\n",
        "#print(new_b) #str type b'yi yazdiriyoruz\n",
        "#print(type(new_b)) #type in str oldugundan emin oluyoruz\n",
        "new_sayi=a+new_b+c #butun degerler str oldugundan birlestirebiliyoruz\n",
        "print(new_sayi) #yeni sayi ekrana yazdiriyoruz-Dikkat Sayi hala str type\n",
        "new_sayi=int(new_sayi) #sayi yi int type ceviriyoruz\n",
        "#print(type(new_sayi)) #sayini int type oldugundan emin oluyioruz\n",
        "\n",
        "\n"
      ],
      "metadata": {
        "colab": {
          "base_uri": "https://localhost:8080/"
        },
        "id": "Elzx5EM1Xqx-",
        "outputId": "e913a9ec-3df0-404e-c561-17f79cbc6d3c"
      },
      "execution_count": 101,
      "outputs": [
        {
          "output_type": "stream",
          "name": "stdout",
          "text": [
            "please your number :42543532566580\n",
            "02543532566584\n"
          ]
        }
      ]
    },
    {
      "cell_type": "markdown",
      "source": [
        "**Write python code that outputs \"clarusway.com\" from the string in the \"mail\" variable.**\n",
        "\n",
        "**Expected Output: clarusway.com**\n",
        "\n",
        "##mail = \"mailto: Clarusway admission@clarusway.com, 6 Haz 2021 Paz, 21:08 tarihinde şunu yazdı:\"\n",
        "##output = mail[mail.index(\"@\") + 1 : mail.index(\",\")]\n",
        "##output"
      ],
      "metadata": {
        "id": "QEgpUp5RmNF6"
      }
    },
    {
      "cell_type": "code",
      "source": [
        "email= input('please enter the email address :')\n",
        "#hoppa=(email.index('@')+1)\n",
        "#nanik = email[hoppa : ]\n",
        "nanik = email[(email.index('@')+1) : ]\n",
        "print('Server is \"{}\"'.format(nanik))\n"
      ],
      "metadata": {
        "colab": {
          "base_uri": "https://localhost:8080/"
        },
        "id": "UetGri3aSRLB",
        "outputId": "fdc8458c-7303-4f53-d942-d6a7fd517cb9"
      },
      "execution_count": 138,
      "outputs": [
        {
          "output_type": "stream",
          "name": "stdout",
          "text": [
            "please enter the email address :m@gmail.xom\n",
            "Server is \"gmail.xom\"\n"
          ]
        }
      ]
    },
    {
      "cell_type": "markdown",
      "source": [
        "1 ve 10 arasında sayıları azalana doğru sıralayan bir program yazınız\n"
      ],
      "metadata": {
        "id": "U_Yn_VXjt5ys"
      }
    },
    {
      "cell_type": "code",
      "source": [
        "liste=[]\n",
        "for i in range(1,11) : #range fonksiyonu ile 1'den baslayip 10 a kadar dondur\n",
        "  liste.append(i) #for dongusu icerisinde 1den 10 a kadar butun sayilari teker teker listeye append ettik\n",
        "print(liste)\n",
        "liste.reverse() #olusturdugumuz listeyi ters cevirdik.\n",
        "print(liste)\n"
      ],
      "metadata": {
        "colab": {
          "base_uri": "https://localhost:8080/"
        },
        "id": "De9h4SBqa5dv",
        "outputId": "56aa79a4-f5d1-4d72-bc3e-f5b9b4f58e3e"
      },
      "execution_count": 18,
      "outputs": [
        {
          "output_type": "stream",
          "name": "stdout",
          "text": [
            "[1, 2, 3, 4, 5, 6, 7, 8, 9]\n",
            "[9, 8, 7, 6, 5, 4, 3, 2, 1]\n"
          ]
        }
      ]
    },
    {
      "cell_type": "code",
      "source": [
        "liste=[]\n",
        "for i in range(10,0,-1) : #range fonksiyonu testen de saydirilabilir\n",
        "  liste.append(i) #for dongusu icerisinde 10dan 1'e kadar butun sayilari teker teker listeye append ettik\n",
        "print(liste) #olusan ilk listeyi yazdirdik\n",
        "liste.reverse() #olusturdugumuz listeyi ters cevirdik.\n",
        "print(liste) #terse cevirdigimiz listeyi tekrar yazdirdik.\n"
      ],
      "metadata": {
        "colab": {
          "base_uri": "https://localhost:8080/"
        },
        "id": "k10C3mCWuXaC",
        "outputId": "50ce7d2d-606e-4f17-9ca8-e5af1302194c"
      },
      "execution_count": 19,
      "outputs": [
        {
          "output_type": "stream",
          "name": "stdout",
          "text": [
            "[10, 9, 8, 7, 6, 5, 4, 3, 2, 1]\n",
            "[1, 2, 3, 4, 5, 6, 7, 8, 9, 10]\n"
          ]
        }
      ]
    },
    {
      "cell_type": "code",
      "source": [
        "liste = [12, 'burak', 3.14, 12, 'burak', 'foo', 'burak', 'foo', 3.14, 'bilgisayarisayar', 12]\n",
        "for i in liste :\n",
        "  kackere={i:[liste.count(i), liste.index(i), (type(i))]}\n",
        "  print(kackere)\n",
        "#kackere = {i: [liste.count(i), liste.index(i), (type(i))] for i in liste}\n",
        "#print(kackere)"
      ],
      "metadata": {
        "id": "-y5NA7NT2fEx"
      },
      "execution_count": null,
      "outputs": []
    },
    {
      "cell_type": "code",
      "source": [
        "liste_2=[1,3,(5,766,984,'Python'),11,'a'] #lsitenin ikinci elemani bir tuple\n",
        "liste_2[2].index('Python') #Python i bulmak icin index yapmak istersek sadece\n",
        "                          #oncelikle tuple'in liste icersindeki adresini belirleyip \n",
        "                          #sonra indeks ile istenilen veriyi aratabiliriz. Sonu 3\n"
      ],
      "metadata": {
        "colab": {
          "base_uri": "https://localhost:8080/"
        },
        "id": "zMctdjIa2hNA",
        "outputId": "cf60437a-16d6-408f-c833-5c0de5a83d81"
      },
      "execution_count": 46,
      "outputs": [
        {
          "output_type": "execute_result",
          "data": {
            "text/plain": [
              "3"
            ]
          },
          "metadata": {},
          "execution_count": 46
        }
      ]
    },
    {
      "cell_type": "code",
      "source": [
        ""
      ],
      "metadata": {
        "id": "iIBlisIv5_t-"
      },
      "execution_count": null,
      "outputs": []
    }
  ]
}