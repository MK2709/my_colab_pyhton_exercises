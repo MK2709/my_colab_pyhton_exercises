{
  "nbformat": 4,
  "nbformat_minor": 0,
  "metadata": {
    "colab": {
      "name": "From_Zero_To_Hero_3.ipynb",
      "provenance": [],
      "collapsed_sections": [],
      "authorship_tag": "ABX9TyMub5LwGWEnKtxi6Of7GHIc",
      "include_colab_link": true
    },
    "kernelspec": {
      "name": "python3",
      "display_name": "Python 3"
    },
    "language_info": {
      "name": "python"
    }
  },
  "cells": [
    {
      "cell_type": "markdown",
      "metadata": {
        "id": "view-in-github",
        "colab_type": "text"
      },
      "source": [
        "<a href=\"https://colab.research.google.com/github/MK2709/my_colab_pyhton_exercises/blob/main/From_Zero_To_Hero_3.ipynb\" target=\"_parent\"><img src=\"https://colab.research.google.com/assets/colab-badge.svg\" alt=\"Open In Colab\"/></a>"
      ]
    },
    {
      "cell_type": "markdown",
      "source": [
        "CONTROL FLOW STATEMENTS\n",
        "\n",
        "\n",
        "> if & elif & else\n",
        "\n",
        "\n"
      ],
      "metadata": {
        "id": "SvweAreW7MB2"
      }
    },
    {
      "cell_type": "code",
      "source": [
        "if True: #default value olarak True\n",
        "    print('it is true')\n",
        "if False: #sonucu dondurmeyecektir.\n",
        "  print('no Way')"
      ],
      "metadata": {
        "colab": {
          "base_uri": "https://localhost:8080/"
        },
        "id": "zLMN_w247LF9",
        "outputId": "3cf95381-fbfb-48f1-d5f3-57311e9184fd"
      },
      "execution_count": 2,
      "outputs": [
        {
          "output_type": "stream",
          "name": "stdout",
          "text": [
            "it is true\n"
          ]
        }
      ]
    },
    {
      "cell_type": "code",
      "execution_count": 3,
      "metadata": {
        "colab": {
          "base_uri": "https://localhost:8080/"
        },
        "id": "NptZYooB7DWl",
        "outputId": "c18decc2-c492-476d-8dad-e8cf77e1c9d5"
      },
      "outputs": [
        {
          "output_type": "stream",
          "name": "stdout",
          "text": [
            "there is still seat to sit\n"
          ]
        }
      ],
      "source": [
        "empty_seat = 14\n",
        "\n",
        "if empty_seat > 3:  # in this case, 14>3=True, so the body will execute\n",
        "    print('there is still seat to sit')"
      ]
    },
    {
      "cell_type": "code",
      "source": [
        "x = 6\n",
        "y = 9\n",
        "print (\"is x equal to y?                 :\" , x == y) #virgulden sonraki islemin sonucu True/False olarak donduruyor\n",
        "print (\"is x not equal to y?             :\" , x != y)\n",
        "print (\"is x less than y?                :\" , x < y)\n",
        "print (\"is x greater than y?             :\" , x > y)\n",
        "print (\"is x less than or equal to y?    :\" , x <= y)\n",
        "print (\"is x greater than or equal to y? :\" , x >= y)"
      ],
      "metadata": {
        "colab": {
          "base_uri": "https://localhost:8080/"
        },
        "id": "u_TKnkq5GDqy",
        "outputId": "877a65d6-a6f0-403f-8584-379b39dd8c56"
      },
      "execution_count": 4,
      "outputs": [
        {
          "output_type": "stream",
          "name": "stdout",
          "text": [
            "is x equal to y?                 : False\n",
            "is x not equal to y?             : True\n",
            "is x less than y?                : True\n",
            "is x greater than y?             : False\n",
            "is x less than or equal to y?    : True\n",
            "is x greater than or equal to y? : False\n"
          ]
        }
      ]
    },
    {
      "cell_type": "code",
      "source": [
        "course = 'clarusway'\n",
        "\n",
        "if course == \"clarusway\":\n",
        "    print(\"you guaranteed the job\")\n",
        "else:\n",
        "    print(\"think about it again\")"
      ],
      "metadata": {
        "colab": {
          "base_uri": "https://localhost:8080/"
        },
        "id": "rps175B2GWwg",
        "outputId": "a0478ffa-5b65-4c2a-cc5e-e775403fc60d"
      },
      "execution_count": 5,
      "outputs": [
        {
          "output_type": "stream",
          "name": "stdout",
          "text": [
            "you guaranteed the job\n"
          ]
        }
      ]
    },
    {
      "cell_type": "code",
      "source": [
        "number= int(input(\"Please enter a number : \"))\n",
        "if number % 2 !=0 : #2 ile bolumden kalan 2'ye esit degilse \n",
        "  print(number**2) #number'in karesini al\n",
        "else : #eger if te belirtilen sart saglanmiyorsa bbu sarti dondur\n",
        "  print(number **3)"
      ],
      "metadata": {
        "colab": {
          "base_uri": "https://localhost:8080/"
        },
        "id": "v0HPa0J6IECT",
        "outputId": "3a0015a9-eaff-4767-f6bb-cc7328b0b7be"
      },
      "execution_count": 8,
      "outputs": [
        {
          "output_type": "stream",
          "name": "stdout",
          "text": [
            "Please enter a number : 54\n",
            "157464\n"
          ]
        }
      ]
    },
    {
      "cell_type": "code",
      "source": [
        "#audience = \"baby\"\n",
        "\n",
        "audience =input('Please enter introduce your age : ')\n",
        "\n",
        "if audience == \"kid\":\n",
        "    print(\"it is free to go to cinema\")\n",
        "elif audience == \"teen\":\n",
        "    print(\"discounted price!\")\n",
        "elif audience == \"adult\":\n",
        "    print(\"normal price\")\n",
        "else:\n",
        "    print(\"No such audience, stay at your home!\")"
      ],
      "metadata": {
        "colab": {
          "base_uri": "https://localhost:8080/"
        },
        "id": "iRR1w_FDIxkn",
        "outputId": "b54c60ac-f833-4e11-e34a-eb7c40ebb7dd"
      },
      "execution_count": 14,
      "outputs": [
        {
          "output_type": "stream",
          "name": "stdout",
          "text": [
            "Please enter introduce your age : adult\n",
            "normal price\n"
          ]
        }
      ]
    },
    {
      "cell_type": "code",
      "source": [
        "cust_age= int(input('Please enetr your age : '))\n",
        "\n",
        "if cust_age <= 7 :\n",
        "  print('You are allowed to go in for free with an adult!!')\n",
        "elif cust_age <= 18:\n",
        "  print('You can get 50% discount')\n",
        "elif cust_age <= 45 :\n",
        "  print('you have to pay full price')\n",
        "else :\n",
        "  print('Dayko sen evde otur')"
      ],
      "metadata": {
        "colab": {
          "base_uri": "https://localhost:8080/"
        },
        "id": "cRN8XcpFJ_vY",
        "outputId": "819dfc64-1aa6-4f8b-cc04-2280e09aaed4"
      },
      "execution_count": 18,
      "outputs": [
        {
          "output_type": "stream",
          "name": "stdout",
          "text": [
            "Please enetr your age : 65\n",
            "Dayko sen evde otur\n"
          ]
        }
      ]
    },
    {
      "cell_type": "markdown",
      "source": [
        "If the number is equal or greater than 10, print : 'The number is equal or greater than 10',\n",
        "If the number is less than 10, print : 'The number is less than 10'.\n"
      ],
      "metadata": {
        "id": "lj_K6glvMQEK"
      }
    },
    {
      "cell_type": "code",
      "source": [
        "number = int(input('Please enter a number'))\n",
        "if number >= 10 :\n",
        "  print('The number is equal or greater than 10')\n",
        "else :\n",
        "  print('The number is less than 10')"
      ],
      "metadata": {
        "colab": {
          "base_uri": "https://localhost:8080/"
        },
        "id": "rnRSor8ALm_b",
        "outputId": "f491ea6e-2a98-403f-bcf6-e7be91c05679"
      },
      "execution_count": 20,
      "outputs": [
        {
          "output_type": "stream",
          "name": "stdout",
          "text": [
            "Please enter a number-4\n",
            "The number is less than 10\n"
          ]
        }
      ]
    },
    {
      "cell_type": "code",
      "source": [
        "grade = int(input('please enter students grade : '))\n",
        "if grade<=100 and grade >=95 :\n",
        "  Student_grade = 'A+'\n",
        "elif grade<=94 and grade >=90 :\n",
        "  Student_grade = 'A'\n",
        "elif grade<=89 and grade >=85 :\n",
        "  Student_grade = 'A-'\n",
        "elif grade<=84 and grade >=80 :\n",
        "  Student_grade = 'B+'\n",
        "elif grade<=79 and grade >=75 :\n",
        "  Student_grade = 'B'\n",
        "elif grade<=74 and grade >=70 :\n",
        "  Student_grade = 'B-'\n",
        "elif grade<=69 and grade >=65 :\n",
        "  Student_grade = 'C+'\n",
        "elif grade<=64 and grade >=60 :\n",
        "  Student_grade = 'C'\n",
        "elif grade<=59 and grade >=55 :\n",
        "  Student_grade = 'C-'\n",
        "elif grade<=54 and grade >=50 :\n",
        "  Student_grade = 'D+'\n",
        "elif grade<=49 and grade >=45 :\n",
        "  Student_grade = 'D'\n",
        "elif grade<=44 and grade >=40 :\n",
        "  Student_grade = 'D-'\n",
        "elif grade<=40 :\n",
        "  Student_grade = 'F'\n",
        "else:\n",
        "  Student_grade = \"invalid\"\n",
        "print('student grade is %s' % Student_grade)"
      ],
      "metadata": {
        "colab": {
          "base_uri": "https://localhost:8080/"
        },
        "id": "ZyKZ65E4NSwy",
        "outputId": "17d6ab59-3066-41b0-f2e6-fc3b988ff41e"
      },
      "execution_count": 35,
      "outputs": [
        {
          "output_type": "stream",
          "name": "stdout",
          "text": [
            "please enter students grade : 76\n",
            "student grade is B\n"
          ]
        }
      ]
    },
    {
      "cell_type": "markdown",
      "source": [
        "CONTROL FLOW STATEMENTS\n",
        "\n",
        "> while & for loops\n",
        "\n"
      ],
      "metadata": {
        "id": "OLucwbgnTGI3"
      }
    },
    {
      "cell_type": "code",
      "source": [
        "number = 0\n",
        "\n",
        "while number < 6:\n",
        "    print(number, end=\"*\")\n",
        "    number += 1\n",
        "print('now, number is bigger or equal to 6')"
      ],
      "metadata": {
        "colab": {
          "base_uri": "https://localhost:8080/"
        },
        "id": "0NTxUQCrMigl",
        "outputId": "5eeff172-5af3-4eb8-d9e9-8f404fe960a1"
      },
      "execution_count": 39,
      "outputs": [
        {
          "output_type": "stream",
          "name": "stdout",
          "text": [
            "0*1*2*3*4*5*now, number is bigger or equal to 6\n"
          ]
        }
      ]
    },
    {
      "cell_type": "code",
      "source": [
        "my_list=[\"a\", \"b\", \"c\", \"d\", \"e\"] #listemizin uzunlugunu  kadar while dongusunu dondurebiliriz\n",
        "a = 0                            \n",
        "while a < len(my_list): #listenin uzunlugu kadar\n",
        "\n",
        "    print('square of {} is : {}'.format(a, a**2))\n",
        "    a+=1"
      ],
      "metadata": {
        "id": "9aYvnG9dT4W9"
      },
      "execution_count": 42,
      "outputs": []
    },
    {
      "cell_type": "code",
      "source": [
        "answer = 44                     #sabit deger\n",
        "\n",
        "question = 'What number am I thinking of?' \n",
        "print (\"Let's play the guessing game!\")\n",
        "\n",
        "while True:                       #while kosul saglanana kadar surekli TRUE \n",
        "    guess = int(input(question ))\n",
        "\n",
        "    if guess < answer:\n",
        "        print('Little higher')\n",
        "    elif guess > answer:\n",
        "        print('Little lower')\n",
        "    else:  # guess == answer\n",
        "        print('Are you a MINDREADER!!!')\n",
        "        break"
      ],
      "metadata": {
        "colab": {
          "base_uri": "https://localhost:8080/"
        },
        "id": "cJ8D1En6UiQP",
        "outputId": "0c2cce26-8b63-4efa-8260-15b4013a41a4"
      },
      "execution_count": 44,
      "outputs": [
        {
          "output_type": "stream",
          "name": "stdout",
          "text": [
            "Let's play the guessing game!\n",
            "What number am I thinking of?77\n",
            "Little lower\n",
            "What number am I thinking of?83\n",
            "Little lower\n",
            "What number am I thinking of?77\n",
            "Little lower\n",
            "What number am I thinking of?44\n",
            "Are you a MINDREADER!!!\n"
          ]
        }
      ]
    },
    {
      "cell_type": "code",
      "source": [
        "answer = 44                     #sabit deger\n",
        "\n",
        "question = 'What number am I thinking of? ' \n",
        "print (\"Let's play the guessing game!\")\n",
        "print('you have only 3 guess')\n",
        "print()\n",
        "guess_no=0\n",
        "\n",
        "#while True:\n",
        "while guess_no <=3 :   \n",
        "  guess_no +=1 \n",
        "  print(guess_no)                   #while kosul saglanana kadar surekli TRUE \n",
        "  guess = int(input(question )) \n",
        "  if guess < answer:\n",
        "      print('Little higher')\n",
        "  elif guess > answer:\n",
        "       print('Little lower')\n",
        "  else:  # guess == answer\n",
        "       print('Are you a MINDREADER!!!')\n",
        "       break\n",
        "  "
      ],
      "metadata": {
        "colab": {
          "base_uri": "https://localhost:8080/"
        },
        "id": "3Yi8g_qBV5D8",
        "outputId": "409efe0c-49b4-4ba8-8b1e-6e74c2f070e1"
      },
      "execution_count": 60,
      "outputs": [
        {
          "output_type": "stream",
          "name": "stdout",
          "text": [
            "Let's play the guessing game!\n",
            "you have only 3 guess\n",
            "\n",
            "1\n",
            "What number am I thinking of? 88\n",
            "Little lower\n",
            "2\n",
            "What number am I thinking of? 00\n",
            "Little higher\n",
            "3\n",
            "What number am I thinking of? 99\n",
            "Little lower\n",
            "4\n",
            "What number am I thinking of? 77\n",
            "Little lower\n"
          ]
        }
      ]
    },
    {
      "cell_type": "code",
      "source": [
        "flowers = ['Rose', 'Orchid', 'Tulip']\n",
        "\n",
        "count1 = len(flowers)\n",
        "count2 = 0\n",
        "\n",
        "while count1 > 0 :\n",
        "    print(flowers[count2])\n",
        "    count1 -= 1\n",
        "    count2 += 1"
      ],
      "metadata": {
        "colab": {
          "base_uri": "https://localhost:8080/"
        },
        "id": "49zcBXOoWi3u",
        "outputId": "c3a10563-e7b0-48d1-ea01-a75af31eeb72"
      },
      "execution_count": 50,
      "outputs": [
        {
          "output_type": "stream",
          "name": "stdout",
          "text": [
            "Rose\n",
            "Orchid\n",
            "Tulip\n"
          ]
        }
      ]
    },
    {
      "cell_type": "code",
      "source": [
        "answer = 44                     #sabit deger\n",
        "\n",
        "question = 'What number am I thinking of? ' \n",
        "print (\"Let's play the guessing game!\")\n",
        "print('you have only 3 guess')\n",
        "print()\n",
        "guess_no=1\n",
        "\n",
        "#while True:\n",
        "while guess_no <=3 :   \n",
        "  guess_no +=1                  #while kosul saglanana kadar surekli TRUE \n",
        "  guess = int(input(question )) \n",
        "  if guess < answer:\n",
        "      print('Little higher')\n",
        "  elif guess > answer:\n",
        "       print('Little lower')\n",
        "  else:  # guess == answer\n",
        "       print('Are you a MINDREADER!!!')\n",
        "       break\n",
        "print(\"GAME OVER\")"
      ],
      "metadata": {
        "colab": {
          "base_uri": "https://localhost:8080/"
        },
        "id": "Jh9XdEA-YaAi",
        "outputId": "68f4a8de-f160-4c19-d7a1-022406242268"
      },
      "execution_count": 69,
      "outputs": [
        {
          "output_type": "stream",
          "name": "stdout",
          "text": [
            "Let's play the guessing game!\n",
            "you have only 3 guess\n",
            "\n",
            "What number am I thinking of? 45\n",
            "Little lower\n",
            "What number am I thinking of? 89\n",
            "Little lower\n",
            "What number am I thinking of? 97\n",
            "Little lower\n",
            "GAME OVER\n"
          ]
        }
      ]
    },
    {
      "cell_type": "code",
      "source": [
        ""
      ],
      "metadata": {
        "id": "7er27kK5adXQ"
      },
      "execution_count": null,
      "outputs": []
    }
  ]
}