{
  "nbformat": 4,
  "nbformat_minor": 0,
  "metadata": {
    "colab": {
      "name": "FZTH_Reduce_Fonksiyonu.ipynb",
      "provenance": [],
      "authorship_tag": "ABX9TyNoaf7TW2NdNo7BBfyEcG/X",
      "include_colab_link": true
    },
    "kernelspec": {
      "name": "python3",
      "display_name": "Python 3"
    },
    "language_info": {
      "name": "python"
    }
  },
  "cells": [
    {
      "cell_type": "markdown",
      "metadata": {
        "id": "view-in-github",
        "colab_type": "text"
      },
      "source": [
        "<a href=\"https://colab.research.google.com/github/MK2709/my_colab_pyhton_exercises/blob/main/FZTH_Reduce_Fonksiyonu.ipynb\" target=\"_parent\"><img src=\"https://colab.research.google.com/assets/colab-badge.svg\" alt=\"Open In Colab\"/></a>"
      ]
    },
    {
      "cell_type": "code",
      "execution_count": 3,
      "metadata": {
        "colab": {
          "base_uri": "https://localhost:8080/"
        },
        "id": "fQQt0NZFt7q3",
        "outputId": "67f9fe94-534c-493a-ec22-3645ad2ad79b"
      },
      "outputs": [
        {
          "output_type": "stream",
          "name": "stdout",
          "text": [
            "Merhaba benim adım Sinan Python yazmayı seviyorum\n",
            "['Merhaba', 'benim', 'adım', 'Sinan', 'Python', 'yazmayı', 'seviyorum']\n"
          ]
        }
      ],
      "source": [
        "\n",
        "from functools import reduce\n",
        "text = \"Merhaba, benim adım Sinan. Python yazmayı seviyorum!\"\n",
        "\n",
        "# regex ile istemediğim karakterleri siliyorum.\n",
        "clean_text = re.sub('[!.,]','',text)\n",
        "print(clean_text)  # 'Merhaba benim adım Sinan Python yazmayı seviyorum'\n",
        "\n",
        "#Boşluğa göre split ediyorum böylece kelimeleri buluyorum.\n",
        "words = clean_text.split()\n",
        "print(words)  # ['Merhaba', 'benim', 'adım', 'Sinan', 'Python', 'yazmayı', 'seviyorum']\n",
        "\n",
        "# 6 karakterden fazla olan kelimeleri ayıklayalım.\n",
        "list(filter(lambda word:len(word) > 6,words))  # ['Merhaba', 'yazmayı', 'seviyorum']\n",
        "\n",
        "# Kelimeler kaç karakterli onların listesini görelim\n",
        "word_chars = list(map(lambda word:len(word),words))  # [7, 5, 4, 5, 6, 7, 9]\n",
        "\n",
        "# Toplam tüm kelimelerin karakter sayısını bulalım.\n",
        "total_chars = reduce(lambda x,y:x+y, word_chars)  # 43"
      ]
    },
    {
      "cell_type": "code",
      "source": [
        ""
      ],
      "metadata": {
        "id": "DpYyUXmRxI5D"
      },
      "execution_count": null,
      "outputs": []
    }
  ]
}