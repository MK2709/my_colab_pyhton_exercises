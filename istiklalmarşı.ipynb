{
  "nbformat": 4,
  "nbformat_minor": 0,
  "metadata": {
    "colab": {
      "name": "istiklalmarşı.ipynb",
      "provenance": [],
      "authorship_tag": "ABX9TyMUNmQtP+JTJzNab/WyOl7Y",
      "include_colab_link": true
    },
    "kernelspec": {
      "name": "python3",
      "display_name": "Python 3"
    },
    "language_info": {
      "name": "python"
    }
  },
  "cells": [
    {
      "cell_type": "markdown",
      "metadata": {
        "id": "view-in-github",
        "colab_type": "text"
      },
      "source": [
        "<a href=\"https://colab.research.google.com/github/MK2709/my_colab_pyhton_exercises/blob/main/istiklalmar%C5%9F%C4%B1.ipynb\" target=\"_parent\"><img src=\"https://colab.research.google.com/assets/colab-badge.svg\" alt=\"Open In Colab\"/></a>"
      ]
    },
    {
      "cell_type": "code",
      "execution_count": 9,
      "metadata": {
        "colab": {
          "base_uri": "https://localhost:8080/"
        },
        "id": "KvWJchovPTGB",
        "outputId": "e340bbf4-f7ac-4f20-9fda-c2f486a2c3ed"
      },
      "outputs": [
        {
          "output_type": "stream",
          "name": "stdout",
          "text": [
            "Korkma, sönmez bu şafaklarda yüzen al sancak;\n",
            "Sönmeden yurdumun üstünde tüten en son ocak.\n",
            "O benim milletimin yıldızıdır, parlayacak;\n",
            "O benimdir, o benim milletimindir ancak.\n",
            "\n",
            "Çatma, kurban olayım, çehreni ey nazlı hilal!\n",
            "Kahraman ırkıma bir gül! Ne bu şiddet, bu celal?\n",
            "Sana olmaz dökülen kanlarımız sonra helal...\n",
            "Hakkıdır, hakk'a tapan, milletimin istiklal!\n",
            "\n",
            "Ben ezelden beridir hür yaşadım, hür yaşarım.\n",
            "Hangi çılgın bana zincir vuracakmış? Şaşarım!\n",
            "Kükremiş sel gibiyim, bendimi çiğner, aşarım.\n",
            "Yırtarım dağları, enginlere sığmam, taşarım.\n",
            "\n",
            "Garbın afakını sarmışsa çelik zırhlı duvar,\n",
            "Benim iman dolu göğsüm gibi serhaddim var.\n",
            "Ulusun, korkma! Nasıl böyle bir imanı boğar,\n",
            "'Medeniyet!' dediğin tek dişi kalmış canavar?\n",
            "\n",
            "Arkadaş! Yurduma alçakları uğratma, sakın.\n",
            "Siper et gövdeni, dursun bu hayasızca akın.\n",
            "Doğacaktır sana va'dettigi günler hakk'ın...\n",
            "Kim bilir, belki yarın, belki yarından da yakın.\n",
            "\n",
            "Bastığın yerleri 'toprak!' diyerek geçme, tanı:\n",
            "Düşün altında binlerce kefensiz yatanı.\n",
            "Sen şehit oğlusun, incitme, yazıktır, atanı:\n",
            "Verme, dünyaları alsan da, bu cennet vatanı.\n",
            "\n",
            "Kim bu cennet vatanın uğruna olmaz ki feda?\n",
            "Şuheda fışkıracak toprağı sıksan, şuheda!\n",
            "Canı, cananı, bütün varımı alsın da hüda,\n",
            "Etmesin tek vatanımdan beni dünyada cüda.\n",
            "\n",
            "Ruhumun senden, ilahi, şudur ancak emeli:\n",
            "Değmesin mabedimin göğsüne namahrem eli.\n",
            "Bu ezanlar-ki şahadetleri dinin temeli,\n",
            "Ebedi yurdumun üstünde benim inlemeli.\n",
            "\n",
            "\n"
          ]
        }
      ],
      "source": [
        "with open(\"istiklal.txt\", \"r\", encoding =\"utf-8\") as istiklal_22 :\n",
        "  istiklal_2 = istiklal_22.readlines()\n",
        "istiklal_2\n",
        "\n",
        "counter =0\n",
        "with open(\"istiklal_new.txt\",\"w\",encoding=\"utf-8\") as istiklal_new_22 :\n",
        "  for i in istiklal_2:\n",
        "    counter +=1\n",
        "    if counter %4 == 0:\n",
        "      istiklal_new_22.write(i+\"\\n\")\n",
        "    else :\n",
        "      istiklal_new_22.write(i)\n",
        "with open (\"istiklal_new.txt\",\"r\", encoding = \"utf-8\") as istiklal_new_22:\n",
        "  print(istiklal_new_22.read())"
      ]
    },
    {
      "cell_type": "code",
      "source": [
        "with open(\"istiklal.txt\", \"r\", encoding =\"utf-8\") as istiklal_22 :\n",
        "  istiklal_2 = istiklal_22.readlines()\n",
        "istiklal_2\n",
        "\n",
        "counter =0\n",
        "with open(\"istiklal_new.txt\",\"w\",encoding=\"utf-8\") as istiklal_new_22 :\n",
        "  for i in istiklal_2:\n",
        "    counter +=1\n",
        "    if counter %4 == 0:\n",
        "      istiklal_new_22.write(i+\"\\n\")\n",
        "    else :\n",
        "      istiklal_new_22.write(i)\n",
        "with open (\"istiklal_new.txt\",\"r\", encoding = \"utf-8\") as istiklal_new_22:\n",
        "  print(istiklal_new_22.read())"
      ],
      "metadata": {
        "id": "MTsu1nbeP6t3"
      },
      "execution_count": null,
      "outputs": []
    }
  ]
}