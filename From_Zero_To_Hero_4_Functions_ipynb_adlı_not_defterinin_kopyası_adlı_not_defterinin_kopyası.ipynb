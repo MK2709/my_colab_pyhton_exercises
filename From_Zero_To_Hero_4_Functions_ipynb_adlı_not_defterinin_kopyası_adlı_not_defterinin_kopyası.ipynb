{
  "nbformat": 4,
  "nbformat_minor": 0,
  "metadata": {
    "colab": {
      "name": "From_Zero_To_Hero_4_Functions.ipynb adlı not defterinin kopyası adlı not defterinin kopyası",
      "provenance": [],
      "collapsed_sections": [],
      "authorship_tag": "ABX9TyOGfSKOdd+lS3akzWQPx46g",
      "include_colab_link": true
    },
    "kernelspec": {
      "name": "python3",
      "display_name": "Python 3"
    },
    "language_info": {
      "name": "python"
    }
  },
  "cells": [
    {
      "cell_type": "markdown",
      "metadata": {
        "id": "view-in-github",
        "colab_type": "text"
      },
      "source": [
        "<a href=\"https://colab.research.google.com/github/MK2709/my_colab_pyhton_exercises/blob/main/From_Zero_To_Hero_4_Functions_ipynb_adl%C4%B1_not_defterinin_kopyas%C4%B1_adl%C4%B1_not_defterinin_kopyas%C4%B1.ipynb\" target=\"_parent\"><img src=\"https://colab.research.google.com/assets/colab-badge.svg\" alt=\"Open In Colab\"/></a>"
      ]
    },
    {
      "cell_type": "markdown",
      "source": [
        "Functions"
      ],
      "metadata": {
        "id": "pIHUGn3N4YVk"
      }
    },
    {
      "cell_type": "code",
      "source": [
        "##Enumerate fonksiyonunun tanimi\n",
        ">>> seasons = ['Spring', 'Summer', 'Fall', 'Winter']\n",
        ">>> list(enumerate(seasons)) #enumerate is a built in function liste yapıyor\n",
        "#[(0, 'Spring'), (1, 'Summer'), (2, 'Fall'), (3, 'Winter')]\n",
        ">>> list(enumerate(seasons, start=1))\n",
        "#[(1, 'Spring'), (2, 'Summer'), (3, 'Fall'), (4, 'Winter')]"
      ],
      "metadata": {
        "colab": {
          "base_uri": "https://localhost:8080/"
        },
        "id": "UEDWOr3Q4buU",
        "outputId": "b1cd0eba-823b-47ee-900d-4ce3f501d6e9"
      },
      "execution_count": null,
      "outputs": [
        {
          "output_type": "execute_result",
          "data": {
            "text/plain": [
              "[(1, 'Spring'), (2, 'Summer'), (3, 'Fall'), (4, 'Winter')]"
            ]
          },
          "metadata": {},
          "execution_count": 1
        }
      ]
    },
    {
      "cell_type": "code",
      "source": [
        "def first_function(argument_1, argument_2) : #fonksiyon tanimlaniyor\n",
        "    print(argument_1**2 + argument_2**2) #yapacagi islem belirleniyor\n",
        "\n",
        "first_function(2,3) #fonksiyon cagiriliyor"
      ],
      "metadata": {
        "colab": {
          "base_uri": "https://localhost:8080/"
        },
        "id": "fkRrkDQX6FZl",
        "outputId": "200a2415-2794-4983-bc5e-8f998c9ac31f"
      },
      "execution_count": null,
      "outputs": [
        {
          "output_type": "stream",
          "name": "stdout",
          "text": [
            "13\n"
          ]
        }
      ]
    },
    {
      "cell_type": "code",
      "source": [
        "def multiply(a, b) : #baska bir fonksiyon tanimlama. Argumanlari ile \n",
        "    print(a * b)     #girilen a ve b degeri ile carpim islemi yapip ekrana yazdiriyor\n",
        "\n",
        "multiply(3, 5)\n",
        "multiply(-1, 2.5)\n",
        "multiply('amazing ', 3)  # it's really amazing, right?"
      ],
      "metadata": {
        "colab": {
          "base_uri": "https://localhost:8080/"
        },
        "id": "hTQBrr959Yot",
        "outputId": "43ead21b-cc7f-4533-ef40-707a8e869aac"
      },
      "execution_count": null,
      "outputs": [
        {
          "output_type": "stream",
          "name": "stdout",
          "text": [
            "15\n",
            "-2.5\n",
            "amazing amazing amazing \n"
          ]
        }
      ]
    },
    {
      "cell_type": "code",
      "source": [
        "def motto() : #argumanlari olmadan fonksiyon isletilebilir\n",
        "    print(\"Don't hesitate to reinvent yourself!\")\n",
        "\n",
        "motto()  # it takes no argument\n",
        "#motto(5) #hata verir!!!!"
      ],
      "metadata": {
        "colab": {
          "base_uri": "https://localhost:8080/"
        },
        "id": "jlIigxJw-Iss",
        "outputId": "862bc7d5-1af5-4f2b-a9da-c51fc648cd1f"
      },
      "execution_count": null,
      "outputs": [
        {
          "output_type": "stream",
          "name": "stdout",
          "text": [
            "Don't hesitate to reinvent yourself!\n"
          ]
        }
      ]
    },
    {
      "cell_type": "code",
      "source": [
        "def multiply_1(a, b) :\n",
        "    print(a * b)  # it prints something\n",
        "\n",
        "def multiply_2(a, b) :\n",
        "    return a * b  # returns any numeric data type value\n",
        "                  #buradan elde edilen int degeri baska bir yerde value olarak kullanabilirsin\n",
        "\n",
        "\n",
        "multiply_1(10, 5)\n",
        "print(multiply_2(10, 5))\n",
        "print(type(multiply_1(10, 5)))\n",
        "print(type(multiply_2(10, 5)))\n",
        "multiply_2(5,10)"
      ],
      "metadata": {
        "colab": {
          "base_uri": "https://localhost:8080/"
        },
        "id": "-w5mJ4rF-YMl",
        "outputId": "581ef740-cc5e-4e11-8c5c-93e3efd190a9"
      },
      "execution_count": null,
      "outputs": [
        {
          "output_type": "execute_result",
          "data": {
            "text/plain": [
              "50"
            ]
          },
          "metadata": {},
          "execution_count": 3
        }
      ]
    },
    {
      "cell_type": "code",
      "source": [
        "#define a function that compares the lengths of its iterable arguments and returns the longer one. \n",
        "#Try this function to compare the lengths of \"Richard\" and \"John\". \n",
        "\n",
        "def longer(a, b):\n",
        "    if len(a) >= len(b):\n",
        "        return a\n",
        "    else:\n",
        "        return b\n",
        "\n",
        "print(longer('Richard', 'John'))"
      ],
      "metadata": {
        "id": "bdWY75UCBCMv"
      },
      "execution_count": null,
      "outputs": []
    },
    {
      "cell_type": "markdown",
      "source": [
        "#Arguments\n",
        "\n",
        "\n",
        "> Positiona + KeyWord Arguments etc\n",
        "\n"
      ],
      "metadata": {
        "id": "D-mhXrUtD-Wd"
      }
    },
    {
      "cell_type": "code",
      "source": [
        "def parrot(voltage, state='a stiff', action='voom', type='Norwegian Blue'):\n",
        "    print(\"-- This parrot wouldn't\", action, end=' ')\n",
        "    print(\"if you put\", voltage, \"volts through it.\")\n",
        "    print(\"-- Lovely plumage, the\", type)\n",
        "    print(\"-- It's\", state, \"!\")"
      ],
      "metadata": {
        "id": "hMwbblVaC4MR"
      },
      "execution_count": null,
      "outputs": []
    },
    {
      "cell_type": "code",
      "source": [
        "parrot(1000)                                          # 1 positional argument\n",
        "parrot(voltage=1000)                                  # 1 keyword argument\n",
        "parrot(voltage=1000000, action='VOOOOOM')             # 2 keyword arguments\n",
        "parrot(action='VOOOOOM', voltage=1000000)             # 2 keyword arguments \n",
        "parrot('a million', 'bereft of life', 'jump')         # 3 positional arguments\n",
        "parrot('a thousand', state='pushing up the daisies')  # 1 positional, 1 keyword"
      ],
      "metadata": {
        "colab": {
          "base_uri": "https://localhost:8080/"
        },
        "id": "OdWAqPKeELOw",
        "outputId": "13f1d893-5e3d-41a9-8b18-0ed334e41443"
      },
      "execution_count": null,
      "outputs": [
        {
          "output_type": "stream",
          "name": "stdout",
          "text": [
            "-- This parrot wouldn't voom if you put 1000 volts through it.\n",
            "-- Lovely plumage, the Norwegian Blue\n",
            "-- It's a stiff !\n",
            "-- This parrot wouldn't voom if you put 1000 volts through it.\n",
            "-- Lovely plumage, the Norwegian Blue\n",
            "-- It's a stiff !\n",
            "-- This parrot wouldn't VOOOOOM if you put 1000000 volts through it.\n",
            "-- Lovely plumage, the Norwegian Blue\n",
            "-- It's a stiff !\n",
            "-- This parrot wouldn't VOOOOOM if you put 1000000 volts through it.\n",
            "-- Lovely plumage, the Norwegian Blue\n",
            "-- It's a stiff !\n",
            "-- This parrot wouldn't jump if you put a million volts through it.\n",
            "-- Lovely plumage, the Norwegian Blue\n",
            "-- It's bereft of life !\n",
            "-- This parrot wouldn't voom if you put a thousand volts through it.\n",
            "-- Lovely plumage, the Norwegian Blue\n",
            "-- It's pushing up the daisies !\n"
          ]
        }
      ]
    },
    {
      "cell_type": "code",
      "source": [
        "def city(capital, continent='Europe'): #continent default olarak Europe olarak belirlenmis. \n",
        "    print(capital, 'is in', continent)    #eger bos birakilirsa Europe yazar, yada hangi deger verilirse onu yazar\n",
        "\n",
        "city('Athens')  # we don't have to pass any arguments into 'continent'\n",
        "city('Ulaanbaatar', continent='Asia')  # we can change the default value by kwargs\n",
        "city('Cape Town', 'Africa')  # we can change the default value by positional args."
      ],
      "metadata": {
        "colab": {
          "base_uri": "https://localhost:8080/"
        },
        "id": "bac08kHNETSu",
        "outputId": "9c6b04af-fad6-4ffb-9a8f-f1bb3acca78b"
      },
      "execution_count": null,
      "outputs": [
        {
          "output_type": "stream",
          "name": "stdout",
          "text": [
            "Athens is in Europe\n",
            "Ulaanbaatar is in Asia\n",
            "Cape Town is in Africa\n"
          ]
        }
      ]
    },
    {
      "cell_type": "code",
      "source": [
        "def fruiterer(*fruit) : #burada kullanilan * isareti syntax formulu\n",
        "    print('I want to get :')\n",
        "    for i in fruit :\n",
        "        print('-', i) #As you can see above, we passed a list of fruits (arguments) into one parameter (fruit).\n",
        "        \n",
        "fruiterer('orange', 'banana', 'melon', 'ananas') #fonksiyonda 1 tane parametre tanimlanmasina ragmen\n",
        "                                                # 1 den fazla arguman gondererek islem yaptirdik"
      ],
      "metadata": {
        "colab": {
          "base_uri": "https://localhost:8080/"
        },
        "id": "N_IrNsSHEr7B",
        "outputId": "17dac3ed-5a18-428b-d8f3-c4f80f8f7fa2"
      },
      "execution_count": null,
      "outputs": [
        {
          "output_type": "stream",
          "name": "stdout",
          "text": [
            "I want to get :\n",
            "- orange\n",
            "- banana\n",
            "- melon\n",
            "- ananas\n"
          ]
        }
      ]
    },
    {
      "cell_type": "code",
      "source": [
        "def animals(**kwargs): #burada da key word argumans islemi var ** syntx formulu\n",
        "    for key, value in kwargs.items(): #key,value formulu\n",
        "        print(value, \"are\", key)\n",
        "animals(Carnivores=\"Lions\", Omnivores=\"Bears\", Herbivores=\"Deers\", Nomnivores=\"Human\")\n",
        "#ustte kullanilacagi yerler belirtilerek arguman veriliyor"
      ],
      "metadata": {
        "colab": {
          "base_uri": "https://localhost:8080/"
        },
        "id": "RnLlvKdsHIq1",
        "outputId": "da1a046d-2c60-4372-ae7e-1245a2407fd8"
      },
      "execution_count": null,
      "outputs": [
        {
          "output_type": "stream",
          "name": "stdout",
          "text": [
            "Lions are Carnivores\n",
            "Bears are Omnivores\n",
            "Deers are Herbivores\n",
            "Human are Nomnivores\n"
          ]
        }
      ]
    },
    {
      "cell_type": "code",
      "source": [
        "(lambda x: 'odd' if x % 2 != 0 else 'even') (12)\n",
        "\n"
      ],
      "metadata": {
        "id": "gATv5jX0Heu7",
        "colab": {
          "base_uri": "https://localhost:8080/",
          "height": 35
        },
        "outputId": "9293cb4f-1b38-4ac0-8468-a7327ed612a2"
      },
      "execution_count": null,
      "outputs": [
        {
          "output_type": "execute_result",
          "data": {
            "application/vnd.google.colaboratory.intrinsic+json": {
              "type": "string"
            },
            "text/plain": [
              "'even'"
            ]
          },
          "metadata": {},
          "execution_count": 10
        }
      ]
    },
    {
      "cell_type": "code",
      "source": [
        "average=(lambda x,y:(x+y)/2)\n",
        "average(10,15)"
      ],
      "metadata": {
        "colab": {
          "base_uri": "https://localhost:8080/"
        },
        "id": "XFkEOF8wzWnA",
        "outputId": "b72fb7e2-8314-4f06-ffa3-f430080291d4"
      },
      "execution_count": null,
      "outputs": [
        {
          "output_type": "execute_result",
          "data": {
            "text/plain": [
              "12.5"
            ]
          },
          "metadata": {},
          "execution_count": 14
        }
      ]
    },
    {
      "cell_type": "code",
      "source": [
        "iterable = [1, 2, 3, 4, 5]\n",
        "map(lambda x:x**2, iterable)\n",
        "result = map(lambda x:x**2, iterable)\n",
        "print(result)\n",
        "print(type(result))  # it's a map type\n",
        "print(list(result))  # we've converted it to list type to print\n",
        "print(list(map(lambda x:x**2, iterable)))  # you can print directly"
      ],
      "metadata": {
        "colab": {
          "base_uri": "https://localhost:8080/"
        },
        "id": "9LVmQzA8z7HU",
        "outputId": "1a482cbb-7593-4902-e843-defe421a71c4"
      },
      "execution_count": null,
      "outputs": [
        {
          "output_type": "stream",
          "name": "stdout",
          "text": [
            "<map object at 0x7f4cd000b9d0>\n",
            "<class 'map'>\n",
            "[1, 4, 9, 16, 25]\n",
            "[1, 4, 9, 16, 25]\n"
          ]
        }
      ]
    },
    {
      "cell_type": "code",
      "source": [
        "def square(n):\n",
        "  return n**2\n",
        "listem= [1, 2, 3, 4, 5, 6, 7, 8, 9]\n",
        "result=map(square, listem)\n",
        "print(list(result))\n"
      ],
      "metadata": {
        "colab": {
          "base_uri": "https://localhost:8080/"
        },
        "id": "FegDZyo21SA_",
        "outputId": "2cf31db8-b820-4255-d4c8-7ba416a8c6e9"
      },
      "execution_count": null,
      "outputs": [
        {
          "output_type": "stream",
          "name": "stdout",
          "text": [
            "[1, 4, 9, 16, 25, 36, 49, 64, 81]\n"
          ]
        }
      ]
    },
    {
      "cell_type": "code",
      "source": [
        "letter1 = ['o', 's', 't', 't']\n",
        "letter2 = ['n', 'i', 'e', 'w']\n",
        "letter3 = ['e', 'x', 'n', 'o']\n",
        "\n",
        "numbers= map(lambda x,y,z: x+y+z, letter1, letter2, letter3)\n",
        "\n",
        "print(list(numbers))"
      ],
      "metadata": {
        "colab": {
          "base_uri": "https://localhost:8080/"
        },
        "id": "sZedGU1P2tKj",
        "outputId": "a0b21c13-3684-4413-8d88-7f37608f0de5"
      },
      "execution_count": null,
      "outputs": [
        {
          "output_type": "stream",
          "name": "stdout",
          "text": [
            "['one', 'six', 'ten', 'two']\n"
          ]
        }
      ]
    },
    {
      "cell_type": "code",
      "source": [
        "number_list = [1, 2, 3, 4, 5]\n",
        "\n",
        "result = list(map(lambda x:x*3, number_list))\n",
        "\n",
        "print(list(result))"
      ],
      "metadata": {
        "colab": {
          "base_uri": "https://localhost:8080/"
        },
        "id": "utjI_cZr3iL9",
        "outputId": "0625cb0e-4da0-4b2c-c5ad-7d6293980f4d"
      },
      "execution_count": null,
      "outputs": [
        {
          "output_type": "stream",
          "name": "stdout",
          "text": [
            "[3, 6, 9, 12, 15]\n"
          ]
        }
      ]
    },
    {
      "cell_type": "code",
      "source": [
        "first_ten = [0, 1, 2, 3, 4, 5, 6, 7, 8, 9] \n",
        "  \n",
        "even = filter(lambda x:x%2==0, first_ten) #filter the even numbers in a list.\n",
        "print(type(even))  # it's 'filter' type, \n",
        "                   # in order to print the result,\n",
        "                   # we'd better convert it into the list type\n",
        "\n",
        "print('Even numbers are :', list(even))"
      ],
      "metadata": {
        "colab": {
          "base_uri": "https://localhost:8080/"
        },
        "id": "gt7ZLOV33-oF",
        "outputId": "ba6ea080-ca50-46fc-a772-3c4a834decaf"
      },
      "execution_count": null,
      "outputs": [
        {
          "output_type": "stream",
          "name": "stdout",
          "text": [
            "<class 'filter'>\n",
            "Even numbers are : [0, 2, 4, 6, 8]\n"
          ]
        }
      ]
    },
    {
      "cell_type": "code",
      "source": [
        "vowel_list = ['a', 'e', 'i', 'o', 'u']\n",
        "first_ten = ['a', 'b', 'c', 'd', 'e', 'f', 'g', 'h', 'i', 'j']\n",
        "  \n",
        "vowels = filter(lambda x: True if x in vowel_list else False, first_ten) \n",
        "\n",
        "print('Vowels are :', list(vowels))"
      ],
      "metadata": {
        "colab": {
          "base_uri": "https://localhost:8080/"
        },
        "id": "dTg1TVtc8_JO",
        "outputId": "74f6cb6c-f44c-46ba-b827-0a2a0a1fdf09"
      },
      "execution_count": null,
      "outputs": [
        {
          "output_type": "stream",
          "name": "stdout",
          "text": [
            "Vowels are : ['a', 'e', 'i']\n"
          ]
        }
      ]
    },
    {
      "cell_type": "code",
      "source": [
        "number_list=[1, 2, 3, 4, 5, 6, 7, 8, 9, 10]\n",
        "sayılar_1= filter(lambda x:True if x >= 6 in number_list else False, number_list)\n",
        "print(list(sayılar_1))\n",
        "sayılar_odd= filter(lambda x:True if x %2  in number_list else False, number_list)\n",
        "print(list(sayılar_odd))\n",
        "sayılar_even= filter(lambda x:False if x%2 in number_list else True, number_list)\n",
        "print(list(sayılar_even))"
      ],
      "metadata": {
        "colab": {
          "base_uri": "https://localhost:8080/"
        },
        "id": "vP6bgJ2r9qe7",
        "outputId": "adc6e612-1fbd-4e6f-a31e-d928bb24ae01"
      },
      "execution_count": 6,
      "outputs": [
        {
          "output_type": "stream",
          "name": "stdout",
          "text": [
            "[6, 7, 8, 9, 10]\n",
            "[1, 3, 5, 7, 9]\n",
            "[2, 4, 6, 8, 10]\n"
          ]
        }
      ]
    },
    {
      "cell_type": "code",
      "source": [
        ""
      ],
      "metadata": {
        "id": "LTCeYgvU-SnC"
      },
      "execution_count": null,
      "outputs": []
    }
  ]
}