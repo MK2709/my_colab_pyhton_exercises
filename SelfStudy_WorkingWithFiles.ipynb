{
  "nbformat": 4,
  "nbformat_minor": 0,
  "metadata": {
    "colab": {
      "name": "SelfStudy_WorkingWithFiles.ipynb",
      "provenance": [],
      "collapsed_sections": [],
      "authorship_tag": "ABX9TyPz0ZowXMfF41lEGWH/1CwO",
      "include_colab_link": true
    },
    "kernelspec": {
      "name": "python3",
      "display_name": "Python 3"
    },
    "language_info": {
      "name": "python"
    }
  },
  "cells": [
    {
      "cell_type": "markdown",
      "metadata": {
        "id": "view-in-github",
        "colab_type": "text"
      },
      "source": [
        "<a href=\"https://colab.research.google.com/github/MK2709/my_colab_pyhton_exercises/blob/main/SelfStudy_WorkingWithFiles.ipynb\" target=\"_parent\"><img src=\"https://colab.research.google.com/assets/colab-badge.svg\" alt=\"Open In Colab\"/></a>"
      ]
    },
    {
      "cell_type": "code",
      "execution_count": null,
      "metadata": {
        "colab": {
          "base_uri": "https://localhost:8080/"
        },
        "id": "JhFrtFuxcA8u",
        "outputId": "a38c90b3-d43d-4eb3-ab5f-acaec0be9e8e"
      },
      "outputs": [
        {
          "output_type": "stream",
          "name": "stdout",
          "text": [
            "Orca is a kind of Dolphin.\n",
            "Blue Whale is the largest animal known on earth.\n",
            "Sharks are the sister group to the Rays (batoids).\n",
            "The Tuna Fish can weigh up to 260 kg.\n",
            "Squid and Octopus are in the same class.\n"
          ]
        }
      ],
      "source": [
        "sea = open(\"fishes.txt\", 'r')   # 'r' is for read\n",
        "\n",
        "print(sea.read())  # displays the entire text content\n",
        "\n",
        "sea.close()  # be sure to close the file\n"
      ]
    },
    {
      "cell_type": "code",
      "source": [
        "sea = open(\"fishes.txt\", 'r')   # 'r' is for read\n",
        "\n",
        "content = sea.read()\n",
        "print(len(content))\n",
        "print(content)\n",
        "\n",
        "sea.close()  # be sure to close the file"
      ],
      "metadata": {
        "colab": {
          "base_uri": "https://localhost:8080/"
        },
        "id": "5lGFyI8y2nD0",
        "outputId": "623393ee-7a1c-4b6f-80c6-646b4bea9eab"
      },
      "execution_count": null,
      "outputs": [
        {
          "output_type": "stream",
          "name": "stdout",
          "text": [
            "205\n",
            "Orca is a kind of Dolphin.\n",
            "Blue Whale is the largest animal known on earth.\n",
            "Sharks are the sister group to the Rays (batoids).\n",
            "The Tuna Fish can weigh up to 260 kg.\n",
            "Squid and Octopus are in the same class.\n"
          ]
        }
      ]
    },
    {
      "cell_type": "code",
      "source": [
        "sea = open(\"fishes.txt\", 'r')   \n",
        "\n",
        "print(sea.read(33))  # displays the first 33 chars of the text\n",
        "print()\n",
        "print(sea.read(25))  # displays the next 25 chars of the text\n",
        "print()\n",
        "sea.seek(0)  # changes the stream (cursor) position to zero\n",
        "print(sea.read(33))  # displays the first 33 chars again\n",
        "print()\n",
        "print(sea.tell())  # returns the current stream (cursor) position\n",
        "\n",
        "sea.close()"
      ],
      "metadata": {
        "colab": {
          "base_uri": "https://localhost:8080/"
        },
        "id": "rND40jJOcmtt",
        "outputId": "9762dc97-069d-4c67-ea4d-782fa08cb33f"
      },
      "execution_count": null,
      "outputs": [
        {
          "output_type": "stream",
          "name": "stdout",
          "text": [
            "Orca is a kind of Dolphin.\n",
            "Blue W\n",
            "\n",
            "hale is the largest anima\n",
            "\n",
            "Orca is a kind of Dolphin.\n",
            "Blue W\n",
            "\n",
            "34\n"
          ]
        }
      ]
    },
    {
      "cell_type": "code",
      "source": [
        "sea = open(\"fishes.txt\", 'r')   \n",
        "\n",
        "print(sea.readline())  # displays the first line of the text\n",
        "print(sea.readline())  # displays the second line\n",
        "print(sea.readline())  # each time it goes to the new line\n",
        "\n",
        "sea.close()"
      ],
      "metadata": {
        "colab": {
          "base_uri": "https://localhost:8080/"
        },
        "id": "_94teWoMc80C",
        "outputId": "051aabe5-2d9b-41ca-fb9d-b27d440a5297"
      },
      "execution_count": null,
      "outputs": [
        {
          "output_type": "stream",
          "name": "stdout",
          "text": [
            "Orca is a kind of Dolphin.\n",
            "\n",
            "Blue Whale is the largest animal known on earth.\n",
            "\n",
            "Sharks are the sister group to the Rays (batoids).\n",
            "\n"
          ]
        }
      ]
    },
    {
      "cell_type": "code",
      "source": [
        "sea = open(\"fishes.txt\", 'r')   \n",
        "\n",
        "print(sea.readline(13))\n",
        "print(sea.readline(13))\n",
        "print(sea.readline(13))\n",
        "print(sea.readline(13))\n",
        "\n",
        "sea.close()"
      ],
      "metadata": {
        "colab": {
          "base_uri": "https://localhost:8080/"
        },
        "id": "VnumnnDTeKZN",
        "outputId": "8dd66199-caf7-4e45-b829-07e624969c92"
      },
      "execution_count": null,
      "outputs": [
        {
          "output_type": "stream",
          "name": "stdout",
          "text": [
            "Orca is a kin\n",
            "d of Dolphin.\n",
            "\n",
            "\n",
            "Blue Whale is\n"
          ]
        }
      ]
    },
    {
      "cell_type": "code",
      "source": [
        "sea = open(\"fishes.txt\", 'r')   \n",
        "\n",
        "print(sea.readline())  # first line\n",
        "print(sea.readlines())  # the rest of the lines\n",
        "\n",
        "sea.close()"
      ],
      "metadata": {
        "colab": {
          "base_uri": "https://localhost:8080/"
        },
        "id": "nGputwbneqcU",
        "outputId": "78586d9f-76a9-4aa2-fcd0-45212e2aac41"
      },
      "execution_count": null,
      "outputs": [
        {
          "output_type": "stream",
          "name": "stdout",
          "text": [
            "['Orca is a kind of Dolphin.\\n', 'Blue Whale is the largest animal known on earth.\\n', 'Sharks are the sister group to the Rays (batoids).\\n', 'The Tuna Fish can weigh up to 260 kg.\\n', 'Squid and Octopus are in the same class.']\n"
          ]
        }
      ]
    },
    {
      "cell_type": "code",
      "source": [
        "sea = open(\"fishes.txt\", \"r\")\n",
        "for i in sea:\n",
        "  print (i)\n",
        "sea.close()"
      ],
      "metadata": {
        "colab": {
          "base_uri": "https://localhost:8080/"
        },
        "id": "R8RaqnMpg3jv",
        "outputId": "cdda5c39-477d-4a74-9cdc-19aaa6d62e91"
      },
      "execution_count": null,
      "outputs": [
        {
          "output_type": "stream",
          "name": "stdout",
          "text": [
            "Orca is a kind of Dolphin.\n",
            "\n",
            "Blue Whale is the largest animal known on earth.\n",
            "\n",
            "Sharks are the sister group to the Rays (batoids).\n",
            "\n",
            "The Tuna Fish can weigh up to 260 kg.\n",
            "\n",
            "Squid and Octopus are in the same class.\n"
          ]
        }
      ]
    },
    {
      "cell_type": "code",
      "source": [
        "sea = open(\"fishes.txt\", 'r')   \n",
        "\n",
        "for line in sea.readlines(): #burada da list olarak her satırı ayrı okuyoruz\n",
        "    print(line)\n",
        "\n",
        "sea.close()"
      ],
      "metadata": {
        "colab": {
          "base_uri": "https://localhost:8080/"
        },
        "id": "6eXfmubdiQkM",
        "outputId": "82648ceb-fb7b-439c-a22e-c023c7845f72"
      },
      "execution_count": null,
      "outputs": [
        {
          "output_type": "stream",
          "name": "stdout",
          "text": [
            "Orca is a kind of Dolphin.\n",
            "\n",
            "Blue Whale is the largest animal known on earth.\n",
            "\n",
            "Sharks are the sister group to the Rays (batoids).\n",
            "\n",
            "The Tuna Fish can weigh up to 260 kg.\n",
            "\n",
            "Squid and Octopus are in the same class.\n"
          ]
        }
      ]
    },
    {
      "cell_type": "code",
      "source": [
        "with open(\"fishes.txt\", \"r\") as sea:\n",
        "    print(sea.read())  # needs indented code block\n",
        "\n",
        "    #in this example we do not need to use close() cuz it closes itself auto"
      ],
      "metadata": {
        "colab": {
          "base_uri": "https://localhost:8080/"
        },
        "id": "y95dvVSco0L8",
        "outputId": "ed7b2f97-3018-4c54-930c-35218d93bccd"
      },
      "execution_count": null,
      "outputs": [
        {
          "output_type": "stream",
          "name": "stdout",
          "text": [
            "Orca is a kind of Dolphin.\n",
            "Blue Whale is the largest animal known on earth.\n",
            "Sharks are the sister group to the Rays (batoids).\n",
            "The Tuna Fish can weigh up to 260 kg.\n",
            "Squid and Octopus are in the same class.\n"
          ]
        }
      ]
    },
    {
      "cell_type": "markdown",
      "source": [
        "*****Buradan itibaren Joseph Hocanın Ders notları********"
      ],
      "metadata": {
        "id": "X4XOu_zH0QfH"
      }
    },
    {
      "cell_type": "code",
      "source": [
        "import os #os modulu dosya ile pek çok fonksiyon kullanılabbilir. araştır"
      ],
      "metadata": {
        "id": "rGWbG_VZrqrb"
      },
      "execution_count": null,
      "outputs": []
    },
    {
      "cell_type": "code",
      "source": [
        "dosya_içeriği=os.listdir()\n",
        "dosya_içeriği"
      ],
      "metadata": {
        "colab": {
          "base_uri": "https://localhost:8080/"
        },
        "id": "6HEOvqfw0XNg",
        "outputId": "12af81d7-5ac3-4e9f-f287-0283e41eaa08"
      },
      "execution_count": null,
      "outputs": [
        {
          "output_type": "execute_result",
          "data": {
            "text/plain": [
              "['.config', 'fishes.txt', 'sample_data']"
            ]
          },
          "metadata": {},
          "execution_count": 25
        }
      ]
    },
    {
      "cell_type": "code",
      "source": [
        "import shutil #shutill modulu dosya ile pek çok fonksiyon kullanılabbilir. araştır\n",
        "\n",
        "shutil.make_archive(\"fishes.txt\",\"zip\",\"/content\") #fishes.txt dosyasını \"zip\" formatında yaparak\n",
        "                                                  # belirttiğimiz dosya oluna kayıt ediyor."
      ],
      "metadata": {
        "colab": {
          "base_uri": "https://localhost:8080/",
          "height": 35
        },
        "id": "uk5_-O3d0yCP",
        "outputId": "6a6c00d2-ef7d-4eed-a286-0b7d64b640d4"
      },
      "execution_count": null,
      "outputs": [
        {
          "output_type": "execute_result",
          "data": {
            "application/vnd.google.colaboratory.intrinsic+json": {
              "type": "string"
            },
            "text/plain": [
              "'/content/fishes.txt.zip'"
            ]
          },
          "metadata": {},
          "execution_count": 29
        }
      ]
    },
    {
      "cell_type": "code",
      "source": [
        "dosya_içeriği"
      ],
      "metadata": {
        "colab": {
          "base_uri": "https://localhost:8080/"
        },
        "id": "y_BTGavY2Nv4",
        "outputId": "dc9535e3-9c7c-4215-8494-d3e063e15fe0"
      },
      "execution_count": null,
      "outputs": [
        {
          "output_type": "execute_result",
          "data": {
            "text/plain": [
              "['.config', 'fishes.txt', 'sample_data']"
            ]
          },
          "metadata": {},
          "execution_count": 28
        }
      ]
    },
    {
      "cell_type": "markdown",
      "source": [
        ""
      ],
      "metadata": {
        "id": "YWqEpt5r2Rgk"
      }
    },
    {
      "cell_type": "code",
      "source": [
        "with open(\"dummy_file.txt\", 'w', encoding=\"utf-8\") as file:  \n",
        "# we create and open the file\n",
        "\n",
        "    file.write('This is the first line of my text file')  \n",
        "    # writes str data into the file\n",
        "\n",
        "with open(\"dummy_file.txt\", 'r', encoding=\"utf-8\") as file:\n",
        "    print(file.read())  # reads the content of the 'dummy_file'"
      ],
      "metadata": {
        "colab": {
          "base_uri": "https://localhost:8080/"
        },
        "id": "1PxcMoSK2Qvg",
        "outputId": "a3f6c541-ee31-45d4-ad36-53ee65876265"
      },
      "execution_count": null,
      "outputs": [
        {
          "output_type": "stream",
          "name": "stdout",
          "text": [
            "This is the first line of my text file\n"
          ]
        }
      ]
    },
    {
      "cell_type": "code",
      "source": [
        "with open(\"dummy_file.txt\",\"w\", encoding=\"utf-8\") as file:\n",
        "  file.write(\"this is the new line of my dummy_file\")    # we write new str data into it \n",
        "\n",
        "with open(\"dummy_file.txt\",\"r\", encoding=\"utf-8\") as file:\n",
        "  print(file.read()) # reads the content of the 'dummy_file'"
      ],
      "metadata": {
        "colab": {
          "base_uri": "https://localhost:8080/"
        },
        "id": "N8yNSFqr-id0",
        "outputId": "38f7890a-f48c-4299-dacb-aad79364bca9"
      },
      "execution_count": null,
      "outputs": [
        {
          "output_type": "stream",
          "name": "stdout",
          "text": [
            "this is the new line of my dummy_file\n"
          ]
        }
      ]
    },
    {
      "cell_type": "code",
      "source": [
        "with open(\"dummy_file.txt\", 'w', encoding=\"utf-8\") as file:\n",
        "    file.write(\"My first Sentece, \")\n",
        "    file.write(\"My Second Sentence, \")\n",
        "    file.write(\"My Third Sentence, \\n\")\n",
        "    file.write(\"My Fourth Sentence, \")\n",
        "    file.write(\"My last/final sentence!!!\")\n",
        "\n",
        "with open(\"dummy_file.txt\",\"r\", encoding=\"utf-8\") as file:\n",
        "    print(file.read())\n"
      ],
      "metadata": {
        "colab": {
          "base_uri": "https://localhost:8080/"
        },
        "id": "xF8y2zr9_Mof",
        "outputId": "bc46db99-7a04-4b70-93fd-14d6e7c8e1dc"
      },
      "execution_count": null,
      "outputs": [
        {
          "output_type": "stream",
          "name": "stdout",
          "text": [
            "My first Sentece, My Second Sentence, My Third Sentence, \n",
            "My Fourth Sentence, My last/final sentence!!!\n"
          ]
        }
      ]
    },
    {
      "cell_type": "code",
      "source": [
        "fruits=[\"Banana\", \"Orange\",\"Apple\", \"Cherry\"]\n",
        "\n",
        "with open(\"fruits.txt\",\"w\", encoding=\"utf-8\") as file:\n",
        "  for i in fruits:\n",
        "    file.write( i + \"\\n\")\n",
        "with open(\"fruits.txt\", \"r\", encoding=\"utf-8\") as file:\n",
        "  print(file.read())\n",
        "with open(\"fruits.txt\",\"r\", encoding=\"utf-8\") as file:\n",
        "  print(file.readlines())"
      ],
      "metadata": {
        "colab": {
          "base_uri": "https://localhost:8080/"
        },
        "id": "oXfaqxbFA_CT",
        "outputId": "951e3460-ef36-4782-a6e9-f6793b72dfea"
      },
      "execution_count": null,
      "outputs": [
        {
          "output_type": "stream",
          "name": "stdout",
          "text": [
            "Banana\n",
            "Orange\n",
            "Apple\n",
            "Cherry\n",
            "\n",
            "['Banana\\n', 'Orange\\n', 'Apple\\n', 'Cherry\\n']\n"
          ]
        }
      ]
    },
    {
      "cell_type": "code",
      "source": [
        "fruits=[\"Banana\", \"Orange\",\"Apple\", \"Cherry\"]\n",
        "\n",
        "with open(\"fruits.txt\",\"w\", encoding=\"utf-8\") as file:\n",
        "  for i in fruits:\n",
        "    file.write( i + \"\\t\")\n",
        "with open(\"fruits.txt\", \"r\", encoding=\"utf-8\") as file:\n",
        "  print(file.read())\n",
        "with open(\"fruits.txt\",\"r\", encoding=\"utf-8\") as file:\n",
        "  print(file.readlines())"
      ],
      "metadata": {
        "colab": {
          "base_uri": "https://localhost:8080/"
        },
        "id": "L_kqBT7JB9O5",
        "outputId": "bdb60b0e-7c21-4326-a1b8-f02c679d0c2b"
      },
      "execution_count": null,
      "outputs": [
        {
          "output_type": "stream",
          "name": "stdout",
          "text": [
            "Banana\tOrange\tApple\tCherry\t\n",
            "['Banana\\tOrange\\tApple\\tCherry\\t']\n"
          ]
        }
      ]
    },
    {
      "cell_type": "code",
      "source": [
        "fruits2=[\"Banana\\n\",\"Orange\\n\",\"Apple\\n\",\"Strawbeyy\\n\",\"Cherry\\n\"]\n",
        "\n",
        "\n",
        "with open(\"fruits2.txt\",\"w\", encoding=\"utf-8\") as file:\n",
        "  file.writelines(fruits2)\n",
        "\n",
        "with open(\"fruits2.txt\", \"r\",encoding=\"utf-8\") as file:\n",
        "  print(file.read())\n",
        "with open(\"fruits2.txt\", \"r\", encoding=\"utf-8\") as file:\n",
        "  print(file.readlines())"
      ],
      "metadata": {
        "colab": {
          "base_uri": "https://localhost:8080/"
        },
        "id": "wGL5UBVzEFmT",
        "outputId": "dfafbf06-fa4e-4fd7-9464-4f7e0d2051a2"
      },
      "execution_count": null,
      "outputs": [
        {
          "output_type": "stream",
          "name": "stdout",
          "text": [
            "Banana\n",
            "Orange\n",
            "Apple\n",
            "Strawbeyy\n",
            "Cherry\n",
            "\n",
            "['Banana\\n', 'Orange\\n', 'Apple\\n', 'Strawbeyy\\n', 'Cherry\\n']\n"
          ]
        }
      ]
    },
    {
      "cell_type": "code",
      "source": [
        "fruits2=[\"Banana\\t\",\"Orange\\t\",\"Apple\\t\",\"Strawbeyy\\t\",\"Cherry\\t\"]\n",
        "\n",
        "\n",
        "with open(\"fruits2.txt\",\"w\", encoding=\"utf-8\") as file:\n",
        "  file.writelines(fruits2)\n",
        "\n",
        "with open(\"fruits2.txt\", \"r\",encoding=\"utf-8\") as file:\n",
        "  print(file.read())\n",
        "\n",
        "with open(\"fruits2.txt\", \"r\",encoding=\"utf-8\") as file:\n",
        "  print(file.readlines())"
      ],
      "metadata": {
        "colab": {
          "base_uri": "https://localhost:8080/"
        },
        "id": "y_MUHOefGnCA",
        "outputId": "2ed174c0-0b4a-4ea0-dcfb-6342ebc842b5"
      },
      "execution_count": null,
      "outputs": [
        {
          "output_type": "stream",
          "name": "stdout",
          "text": [
            "Banana\tOrange\tApple\tStrawbeyy\tCherry\t\n",
            "['Banana\\tOrange\\tApple\\tStrawbeyy\\tCherry\\t']\n"
          ]
        }
      ]
    },
    {
      "cell_type": "code",
      "source": [
        "##Write a code that inserts a newline char \\n to between lines \n",
        "##of the text of the 'fishes.txt' file and reads the new content\n",
        "##of that file. \n",
        "\n",
        "with open(\"fishes.txt\",\"r\", encoding=\"utf-8\") as sea_2:\n",
        "    fish_lines = sea_2.readlines()\n",
        "\n",
        "with open(\"fishes.txt\",\"w\",encoding =\"utf-8\") as sea_2:\n",
        "  for reef in fish_lines:\n",
        "    sea_2.write(reef + \"\\n\")\n",
        "\n",
        "with open(\"fishes.txt\", \"r\", encoding=\"utf-8\") as sea_2:\n",
        "    print(sea_2.read())\n",
        "###bu souyuda cvbı da anlamadım#####"
      ],
      "metadata": {
        "id": "__20S-AnHVzA"
      },
      "execution_count": null,
      "outputs": []
    },
    {
      "cell_type": "code",
      "source": [
        "fruits_3=['Banana\\n', 'Orange\\n', 'Apple\\n', 'Peach\\n', 'Strawberry\\n', 'Cherry\\n']\n",
        "\n",
        "with open(\"fruits_3.txt\",\"w\",encoding=\"utf-8\") as file: \n",
        "  file.writelines(fruits_3)  # creates a file containing the elements of the list\n",
        "\n",
        "with open(\"fruits_3.txt\",\"r\", encoding=\"utf-8\") as file:\n",
        "  print(file.read()) # reads the content of the file\n",
        "\n",
        "with open(\"fruits_3.txt\", \"a\", encoding=\"utf-8\") as file:\n",
        "  file.write(\"Melon\\n\") # adds \"Melon\" to the end of the existing file\n",
        "   \n",
        "with open(\"fruits_3.txt\",\"r\", encoding=\"utf-8\") as file:\n",
        "  print(file.read())  # reads the last content of the file\n",
        "\n",
        "with open(\"fruits_3.txt\",\"r\", encoding=\"utf-8\") as file:\n",
        "  print(file.readlines())  # reads the last content of the file in same line"
      ],
      "metadata": {
        "colab": {
          "base_uri": "https://localhost:8080/"
        },
        "id": "rmG5xRnVJB_Z",
        "outputId": "c3fc6bad-b86a-43ff-8880-a8429d2e58de"
      },
      "execution_count": null,
      "outputs": [
        {
          "output_type": "stream",
          "name": "stdout",
          "text": [
            "Banana\n",
            "Orange\n",
            "Apple\n",
            "Peach\n",
            "Strawberry\n",
            "Cherry\n",
            "\n",
            "Banana\n",
            "Orange\n",
            "Apple\n",
            "Peach\n",
            "Strawberry\n",
            "Cherry\n",
            "Melon\n",
            "\n",
            "['Banana\\n', 'Orange\\n', 'Apple\\n', 'Peach\\n', 'Strawberry\\n', 'Cherry\\n', 'Melon\\n']\n"
          ]
        }
      ]
    },
    {
      "cell_type": "markdown",
      "source": [
        "\n",
        "buradan itibaren Joseph hocanın 16/12/2021 tarihindeki dersindeki in-class exercises\n"
      ],
      "metadata": {
        "id": "xXJiEKIIxZVl"
      }
    },
    {
      "cell_type": "code",
      "source": [
        "rumi= open(\"rumi.txt\",\"r\",encoding=\"utf=8\")\n",
        "\n",
        "print(rumi.read())\n",
        "\n",
        "rumi.close()\n",
        "\n",
        "\n"
      ],
      "metadata": {
        "id": "FTBNJDC_NKLX",
        "colab": {
          "base_uri": "https://localhost:8080/"
        },
        "outputId": "78e6e17e-0b1b-4fd4-8304-8172c165156e"
      },
      "execution_count": null,
      "outputs": [
        {
          "output_type": "stream",
          "name": "stdout",
          "text": [
            "I want to sing\n",
            "Like the birds sing,\n",
            "Not worrying about\n",
            "Who hears or\n",
            "What they think.\n"
          ]
        }
      ]
    },
    {
      "cell_type": "code",
      "source": [
        "rumi= open(\"rumi.txt\",\"r\",encoding=\"utf=8\")\n",
        "\n",
        "print(rumi.read(35))\n",
        "#print(rumi.tell())\n",
        "print(rumi.read(13))\n",
        "print(rumi.tell())\n",
        "rumi.seek(15)\n",
        "print(rumi.read(21))\n",
        "rumi.close()"
      ],
      "metadata": {
        "colab": {
          "base_uri": "https://localhost:8080/"
        },
        "id": "2jQJI20Q6mIw",
        "outputId": "4f852940-407e-45c8-c1a6-0ce7e7771d91"
      },
      "execution_count": null,
      "outputs": [
        {
          "output_type": "stream",
          "name": "stdout",
          "text": [
            "I want to sing\n",
            "Like the birds sing,\n",
            "\n",
            "Not worrying\n",
            "50\n",
            "\n",
            "Like the birds sing,\n"
          ]
        }
      ]
    },
    {
      "cell_type": "code",
      "source": [
        "with open(\"rumi.txt\",\"r\", encoding=\"utf-8\") as file :\n",
        "  print(file.read())"
      ],
      "metadata": {
        "colab": {
          "base_uri": "https://localhost:8080/"
        },
        "id": "EsBbgGXy6JEw",
        "outputId": "8daaf343-eda0-49d2-9470-6b4c472365de"
      },
      "execution_count": null,
      "outputs": [
        {
          "output_type": "stream",
          "name": "stdout",
          "text": [
            "I want to sing\n",
            "Like the birds sing,\n",
            "Not worrying about\n",
            "Who hears or\n",
            "What they think.\n"
          ]
        }
      ]
    },
    {
      "cell_type": "code",
      "source": [
        "rumi= open(\"rumi.txt\",\"r\",encoding=\"utf-8\")\n",
        "print(rumi.readline())\n",
        "print(rumi.readline())\n",
        "print(rumi.readline())\n",
        "\n",
        "rumi.close()"
      ],
      "metadata": {
        "colab": {
          "base_uri": "https://localhost:8080/"
        },
        "id": "vkVNmfNN6fOM",
        "outputId": "cc938590-8a77-4e4c-9224-5829e5c8dbb5"
      },
      "execution_count": null,
      "outputs": [
        {
          "output_type": "stream",
          "name": "stdout",
          "text": [
            "I want to sing\n",
            "\n",
            "Like the birds sing,\n",
            "\n",
            "Not worrying about\n",
            "\n"
          ]
        }
      ]
    },
    {
      "cell_type": "code",
      "source": [
        "sea =open(\"fishes.txt\",\"r\", encoding=\"utf-8\")\n",
        "\n",
        "print(sea.readline())\n",
        "\n",
        "sea.close()"
      ],
      "metadata": {
        "colab": {
          "base_uri": "https://localhost:8080/"
        },
        "id": "y7e-F2RY99v_",
        "outputId": "5079e6d4-38f0-4799-a725-dafb2397ea3a"
      },
      "execution_count": null,
      "outputs": [
        {
          "output_type": "stream",
          "name": "stdout",
          "text": [
            "Orca is a kind of Dolphin.\n",
            "\n"
          ]
        }
      ]
    },
    {
      "cell_type": "code",
      "source": [
        "sea_1=open(\"fishes.txt\",\"r\", encoding=\"utf-8\")\n",
        "part_1 = sea_1.readline(13)\n",
        "part_2 = sea_1.readline(13)\n",
        "part_3 = sea_1.readline(13)\n",
        "part_4 = sea_1.readline(13)\n",
        "\n",
        "print(sea_1.tell())\n",
        "\n",
        "sea_1.close()\n"
      ],
      "metadata": {
        "colab": {
          "base_uri": "https://localhost:8080/"
        },
        "id": "ZUrDOzXn-jYY",
        "outputId": "f4a14069-93cf-4e81-d605-5ebe60b17fb7"
      },
      "execution_count": null,
      "outputs": [
        {
          "output_type": "stream",
          "name": "stdout",
          "text": [
            "41\n"
          ]
        }
      ]
    },
    {
      "cell_type": "code",
      "source": [
        "part_3"
      ],
      "metadata": {
        "colab": {
          "base_uri": "https://localhost:8080/",
          "height": 35
        },
        "id": "r63vgS5mJ9h8",
        "outputId": "81827f0b-7517-4f3f-e8cf-9bd28ba09070"
      },
      "execution_count": null,
      "outputs": [
        {
          "output_type": "execute_result",
          "data": {
            "application/vnd.google.colaboratory.intrinsic+json": {
              "type": "string"
            },
            "text/plain": [
              "'\\n'"
            ]
          },
          "metadata": {},
          "execution_count": 39
        }
      ]
    },
    {
      "cell_type": "code",
      "source": [
        "rumi=open(\"rumi.txt\", \"r\", encoding=\"utf-8\")\n",
        "\n",
        "print(rumi.readline())\n",
        "print(rumi.readline())\n",
        "print(rumi.readline(110)) #burada sayıyı ne kadar fazla yazarsanız yazın alt satıra \n",
        "                          #geçmez. alt satıra geçmek için yeni bir readline gerekli\n",
        "rumi.close()"
      ],
      "metadata": {
        "colab": {
          "base_uri": "https://localhost:8080/"
        },
        "id": "eSxrZS7zNrFi",
        "outputId": "292c4f72-7b58-4de7-eedd-509a91dddebc"
      },
      "execution_count": null,
      "outputs": [
        {
          "output_type": "stream",
          "name": "stdout",
          "text": [
            "I want to sing\n",
            "\n",
            "Like the birds sing,\n",
            "\n",
            "Not worrying about\n",
            "\n"
          ]
        }
      ]
    },
    {
      "cell_type": "code",
      "source": [
        "rumi=open(\"rumi.txt\", \"r\", encoding=\"utf-8\")\n",
        "\n",
        "for i in rumi.readline():\n",
        "    print (i)\n",
        "rumi.close()"
      ],
      "metadata": {
        "colab": {
          "base_uri": "https://localhost:8080/"
        },
        "id": "8fIhdQ8fKdbm",
        "outputId": "a323686a-6f98-4f60-a086-2389b2480f52"
      },
      "execution_count": null,
      "outputs": [
        {
          "output_type": "stream",
          "name": "stdout",
          "text": [
            "I\n",
            " \n",
            "w\n",
            "a\n",
            "n\n",
            "t\n",
            " \n",
            "t\n",
            "o\n",
            " \n",
            "s\n",
            "i\n",
            "n\n",
            "g\n",
            "\n",
            "\n"
          ]
        }
      ]
    },
    {
      "cell_type": "code",
      "source": [
        "with open(\"fishes.txt\",\"r\", encoding=\"utf-8\") as file_1 :\n",
        "  fish_1=file_1.readlines()\n",
        "print(fish_1)\n",
        "print(type(fish_1))\n",
        "print()\n",
        "for line_1 in fish_1 :\n",
        "  print(line_1)"
      ],
      "metadata": {
        "colab": {
          "base_uri": "https://localhost:8080/"
        },
        "id": "ree1E7taMK08",
        "outputId": "4047e848-2963-42e7-ef3d-5f425e95ef99"
      },
      "execution_count": null,
      "outputs": [
        {
          "output_type": "stream",
          "name": "stdout",
          "text": [
            "['Orca is a kind of Dolphin.\\n', 'Blue Whale is the largest animal known on earth.\\n', 'Sharks are the sister group to the Rays (batoids).\\n', 'The Tuna Fish can weigh up to 260 kg.\\n', 'Squid and Octopus are in the same class.']\n",
            "<class 'list'>\n",
            "\n",
            "Orca is a kind of Dolphin.\n",
            "\n",
            "Blue Whale is the largest animal known on earth.\n",
            "\n",
            "Sharks are the sister group to the Rays (batoids).\n",
            "\n",
            "The Tuna Fish can weigh up to 260 kg.\n",
            "\n",
            "Squid and Octopus are in the same class.\n"
          ]
        }
      ]
    },
    {
      "cell_type": "code",
      "source": [
        "with open(\"rumi.txt\",\"r\", encoding=\"utf-8\") as file_2:\n",
        "  for line_2 in file_2:\n",
        "    print (line_2)"
      ],
      "metadata": {
        "colab": {
          "base_uri": "https://localhost:8080/"
        },
        "id": "Frac56wGPV-U",
        "outputId": "eba144f3-c490-4da0-b707-d65b0b32e7fa"
      },
      "execution_count": null,
      "outputs": [
        {
          "output_type": "stream",
          "name": "stdout",
          "text": [
            "I want to sing\n",
            "\n",
            "Like the birds sing,\n",
            "\n",
            "Not worrying about\n",
            "\n",
            "Who hears or\n",
            "\n",
            "What they think.\n"
          ]
        }
      ]
    },
    {
      "cell_type": "code",
      "source": [
        "with open(\"dummy_file_1.txt\", \"w\", encoding=\"utf-8\") as dummy_1: #olmaya bir dosyayı açtı ve içerisine yazdı\n",
        "  dummy_1.write(\"This is my first line of the dummy file\")\n",
        "with open(\"dummy_file_1.txt\",\"r\",encoding=\"utf-8\") as dummy_1:\n",
        "  print(dummy_1.read())"
      ],
      "metadata": {
        "colab": {
          "base_uri": "https://localhost:8080/"
        },
        "id": "k68M6WecP1lZ",
        "outputId": "345fc10c-2447-4f9d-94b8-60aefa6b9639"
      },
      "execution_count": null,
      "outputs": [
        {
          "output_type": "stream",
          "name": "stdout",
          "text": [
            "This is my first line of the dummy file\n"
          ]
        }
      ]
    },
    {
      "cell_type": "code",
      "source": [
        "with open(\"dummy_1.txt\",\"w\",encoding=\"utf-8\") as dummy_1 : #burada yine 'w' ile eski dosyayı silip yenisini yazdı\n",
        "  dummy_1.write(\"This is the NEW line of my dummy_1 file\")\n",
        "with open(\"dummy_1.txt\",\"r\", encoding=\"utf-8\") as dummy_1:\n",
        "  print(dummy_1.read())"
      ],
      "metadata": {
        "colab": {
          "base_uri": "https://localhost:8080/"
        },
        "id": "C9Q9f_eAS_C-",
        "outputId": "b0bc8bb9-cadf-4099-d80a-fd9fb80bb1b1"
      },
      "execution_count": null,
      "outputs": [
        {
          "output_type": "stream",
          "name": "stdout",
          "text": [
            "This is the NEW line of my dummy_1 file\n"
          ]
        }
      ]
    },
    {
      "cell_type": "code",
      "source": [
        "with open(\"dummy_1.txt\", \"a\", encoding=\"utf-8\") as dummy_1 : #burada 'a' kullandığımız için yazdığımızı append etti\n",
        "  dummy_1.write(\"\\nand this is the second line of my Dummy line\")\n",
        "with open(\"dummy_1.txt\",\"r\", encoding=\"utf-8\") as dummy_1:\n",
        "  print(dummy_1.read())"
      ],
      "metadata": {
        "colab": {
          "base_uri": "https://localhost:8080/"
        },
        "id": "ETf3PmNLTrES",
        "outputId": "f253bb0c-3d68-462f-f88a-1f0d25393c92"
      },
      "execution_count": null,
      "outputs": [
        {
          "output_type": "stream",
          "name": "stdout",
          "text": [
            "This is the NEW line of my dummy_1 file\n",
            "and this is the second line of my Dummy line\n"
          ]
        }
      ]
    },
    {
      "cell_type": "code",
      "source": [
        "meyveler=[\"Muz\",\"Elma\", \"Armut\",\"Portakal\", \"Mandalina\",\"Greyfurt\"]\n",
        "with open (\"Meyveler.txt\",\"w\", encoding=\"utf-8\") as meyve_list:\n",
        "  for meyve in meyveler :\n",
        "    meyve_list.write(meyve + \"\\n\")  \n",
        "with open(\"Meyveler.txt\",\"r\", encoding=\"utf-8\") as meyve_list:\n",
        "  print(meyve_list.read())"
      ],
      "metadata": {
        "colab": {
          "base_uri": "https://localhost:8080/"
        },
        "id": "HDS_PuO6Uh0D",
        "outputId": "b62a2b0f-0750-44df-8e37-1770222b1b96"
      },
      "execution_count": null,
      "outputs": [
        {
          "output_type": "stream",
          "name": "stdout",
          "text": [
            "Muz\n",
            "Elma\n",
            "Armut\n",
            "Portakal\n",
            "Mandalina\n",
            "Greyfurt\n",
            "\n"
          ]
        }
      ]
    },
    {
      "cell_type": "code",
      "source": [
        "with open(\"Meyveler.txt\") as file_22:\n",
        "  meyveler_2=file_22.readlines () #burada readlines kullanarak liste halinde her bir eleman bir satır oalcak şekilde\n",
        "meyveler_2"
      ],
      "metadata": {
        "colab": {
          "base_uri": "https://localhost:8080/"
        },
        "id": "fLfiZa2nbwiW",
        "outputId": "db43ee46-028b-406d-8e15-dff248108ecf"
      },
      "execution_count": null,
      "outputs": [
        {
          "output_type": "execute_result",
          "data": {
            "text/plain": [
              "['Muz\\n', 'Elma\\n', 'Armut\\n', 'Portakal\\n', 'Mandalina\\n', 'Greyfurt\\n']"
            ]
          },
          "metadata": {},
          "execution_count": 99
        }
      ]
    },
    {
      "cell_type": "code",
      "source": [
        "with open(\"meyveler_2.txt\", \"w\", encoding=\"utf-8\") as meyve_list_2 :\n",
        "  meyve_list_2.writelines(meyveler)\n",
        "with open(\"meyveler_2.txt\",\"r\", encoding=\"utf-8\")as meyve_list_2 :\n",
        "     print(meyve_list_2.read())"
      ],
      "metadata": {
        "colab": {
          "base_uri": "https://localhost:8080/"
        },
        "id": "3mKXikZqYJjJ",
        "outputId": "248c81c5-c22d-4b04-99a0-147bfc0c80a5"
      },
      "execution_count": null,
      "outputs": [
        {
          "output_type": "stream",
          "name": "stdout",
          "text": [
            "MuzElmaArmutPortakalMandalinaGreyfurt\n"
          ]
        }
      ]
    },
    {
      "cell_type": "code",
      "source": [
        "with open(\"meyveler_2.txt\", \"w\", encoding=\"utf-8\") as meyve_list_2 :\n",
        "  meyve_list_2.writelines(meyveler_2)  #bu kod blokunda meyveler_ hersatırı bir elaman olacak bir liste atıldığı için\n",
        "with open(\"meyveler_2.txt\",\"r\", encoding=\"utf-8\")as meyve_list_2 :\n",
        "     print(meyve_list_2.read())"
      ],
      "metadata": {
        "colab": {
          "base_uri": "https://localhost:8080/"
        },
        "id": "78bsFEEmZseM",
        "outputId": "55e89616-2a74-4a94-9fe8-e4969fc3539b"
      },
      "execution_count": null,
      "outputs": [
        {
          "output_type": "stream",
          "name": "stdout",
          "text": [
            "Muz\n",
            "Elma\n",
            "Armut\n",
            "Portakal\n",
            "Mandalina\n",
            "Greyfurt\n",
            "\n"
          ]
        }
      ]
    },
    {
      "cell_type": "code",
      "source": [
        "with open(\"meyveler_2.txt\", \"a\", encoding=\"utf-8\") as meyve_list_2 : #burada 'a' kullanıldıgı için append yaptı\n",
        "  meyve_list_2.writelines(meyveler_2)  #bu kod blokunda meyveler_ hersatırı bir elaman olacak bir liste atıldığı için\n",
        "with open(\"meyveler_2.txt\",\"r\", encoding=\"utf-8\")as meyve_list_2 :\n",
        "     print(meyve_list_2.read())"
      ],
      "metadata": {
        "colab": {
          "base_uri": "https://localhost:8080/"
        },
        "id": "GrDozm82dKCp",
        "outputId": "bd18f0c1-bb20-4362-a5bf-05617f575187"
      },
      "execution_count": null,
      "outputs": [
        {
          "output_type": "stream",
          "name": "stdout",
          "text": [
            "Muz\n",
            "Elma\n",
            "Armut\n",
            "Portakal\n",
            "Mandalina\n",
            "Greyfurt\n",
            "Muz\n",
            "Elma\n",
            "Armut\n",
            "Portakal\n",
            "Mandalina\n",
            "Greyfurt\n",
            "\n"
          ]
        }
      ]
    },
    {
      "cell_type": "code",
      "source": [
        "meyveler_3= meyveler_2+[\"Lemon\\n\"]\n",
        "meyveler_3"
      ],
      "metadata": {
        "colab": {
          "base_uri": "https://localhost:8080/"
        },
        "id": "WljHWhvhdzrW",
        "outputId": "aef99741-5809-4305-f9f1-5e1fda3b2c19"
      },
      "execution_count": null,
      "outputs": [
        {
          "output_type": "execute_result",
          "data": {
            "text/plain": [
              "['Muz\\n',\n",
              " 'Elma\\n',\n",
              " 'Armut\\n',\n",
              " 'Portakal\\n',\n",
              " 'Mandalina\\n',\n",
              " 'Greyfurt\\n',\n",
              " 'Lemon\\n']"
            ]
          },
          "metadata": {},
          "execution_count": 106
        }
      ]
    },
    {
      "cell_type": "code",
      "source": [
        "with open(\"meyveler_3.txt\", \"w\", encoding=\"utf-8\") as meyve_list_3 :\n",
        "  meyve_list_3.writelines(meyveler_3)  #bu kod blokunda meyveler_ hersatırı bir elaman olacak bir liste atıldığı için\n",
        "with open(\"meyveler_3.txt\",\"r\", encoding=\"utf-8\")as meyve_list_3 :\n",
        "     print(meyve_list_3.read())"
      ],
      "metadata": {
        "colab": {
          "base_uri": "https://localhost:8080/"
        },
        "id": "Lyf40Fyze6ZZ",
        "outputId": "6467889f-0289-478f-cd61-98f8fcba7e8b"
      },
      "execution_count": null,
      "outputs": [
        {
          "output_type": "stream",
          "name": "stdout",
          "text": [
            "Muz\n",
            "Elma\n",
            "Armut\n",
            "Portakal\n",
            "Mandalina\n",
            "Greyfurt\n",
            "Lemon\n",
            "\n"
          ]
        }
      ]
    },
    {
      "cell_type": "code",
      "source": [
        "with open(\"meyveler_3.txt\", \"a\", encoding=\"utf-8\") as meyve_list_3 : #burada 'a' kullanıldıgı için append yaptı\n",
        "  meyve_list_3.writelines(meyveler_3)  #bu kod blokunda meyveler_ hersatırı bir elaman olacak bir liste atıldığı için\n",
        "with open(\"meyveler_3.txt\",\"r\", encoding=\"utf-8\")as meyve_list_3 :\n",
        "     print(meyve_list_3.read())"
      ],
      "metadata": {
        "colab": {
          "base_uri": "https://localhost:8080/"
        },
        "id": "uGB6wVw5fNoY",
        "outputId": "a633abe2-d3d2-427d-ec21-e00fa653f91f"
      },
      "execution_count": null,
      "outputs": [
        {
          "output_type": "stream",
          "name": "stdout",
          "text": [
            "Muz\n",
            "Elma\n",
            "Armut\n",
            "Portakal\n",
            "Mandalina\n",
            "Greyfurt\n",
            "Lemon\n",
            "Muz\n",
            "Elma\n",
            "Armut\n",
            "Portakal\n",
            "Mandalina\n",
            "Greyfurt\n",
            "Lemon\n",
            "\n"
          ]
        }
      ]
    },
    {
      "cell_type": "code",
      "source": [
        "with open(\"istiklal.txt\",\"r\", encoding=\"utf-8\") as istiklal_22:\n",
        "  istiklal_2=istiklal_22.readlines () #burada readlines kullanarak liste halinde her bir eleman bir satır oalcak şekilde\n",
        "istiklal_2"
      ],
      "metadata": {
        "colab": {
          "base_uri": "https://localhost:8080/"
        },
        "id": "JHEZrOKgfgtX",
        "outputId": "66dd9298-77b4-4580-f643-c5d6914cd2ce"
      },
      "execution_count": null,
      "outputs": [
        {
          "output_type": "execute_result",
          "data": {
            "text/plain": [
              "['Korkma, sönmez bu şafaklarda yüzen al sancak;\\n',\n",
              " 'Sönmeden yurdumun üstünde tüten en son ocak.\\n',\n",
              " 'O benim milletimin yıldızıdır, parlayacak;\\n',\n",
              " 'O benimdir, o benim milletimindir ancak.\\n',\n",
              " 'Çatma, kurban olayım, çehreni ey nazlı hilal!\\n',\n",
              " 'Kahraman ırkıma bir gül! Ne bu şiddet, bu celal?\\n',\n",
              " 'Sana olmaz dökülen kanlarımız sonra helal...\\n',\n",
              " \"Hakkıdır, hakk'a tapan, milletimin istiklal!\\n\",\n",
              " 'Ben ezelden beridir hür yaşadım, hür yaşarım.\\n',\n",
              " 'Hangi çılgın bana zincir vuracakmış? Şaşarım!\\n',\n",
              " 'Kükremiş sel gibiyim, bendimi çiğner, aşarım.\\n',\n",
              " 'Yırtarım dağları, enginlere sığmam, taşarım.\\n',\n",
              " 'Garbın afakını sarmışsa çelik zırhlı duvar,\\n',\n",
              " 'Benim iman dolu göğsüm gibi serhaddim var.\\n',\n",
              " 'Ulusun, korkma! Nasıl böyle bir imanı boğar,\\n',\n",
              " \"'Medeniyet!' dediğin tek dişi kalmış canavar?\\n\",\n",
              " 'Arkadaş! Yurduma alçakları uğratma, sakın.\\n',\n",
              " 'Siper et gövdeni, dursun bu hayasızca akın.\\n',\n",
              " \"Doğacaktır sana va'dettigi günler hakk'ın...\\n\",\n",
              " 'Kim bilir, belki yarın, belki yarından da yakın.\\n',\n",
              " \"Bastığın yerleri 'toprak!' diyerek geçme, tanı:\\n\",\n",
              " 'Düşün altında binlerce kefensiz yatanı.\\n',\n",
              " 'Sen şehit oğlusun, incitme, yazıktır, atanı:\\n',\n",
              " 'Verme, dünyaları alsan da, bu cennet vatanı.\\n',\n",
              " 'Kim bu cennet vatanın uğruna olmaz ki feda?\\n',\n",
              " 'Şuheda fışkıracak toprağı sıksan, şuheda!\\n',\n",
              " 'Canı, cananı, bütün varımı alsın da hüda,\\n',\n",
              " 'Etmesin tek vatanımdan beni dünyada cüda.\\n',\n",
              " 'Ruhumun senden, ilahi, şudur ancak emeli:\\n',\n",
              " 'Değmesin mabedimin göğsüne namahrem eli.\\n',\n",
              " 'Bu ezanlar-ki şahadetleri dinin temeli,\\n',\n",
              " 'Ebedi yurdumun üstünde benim inlemeli.\\n']"
            ]
          },
          "metadata": {},
          "execution_count": 35
        }
      ]
    },
    {
      "cell_type": "code",
      "source": [
        "counter = 0\n",
        "with open (\"istiklal_new.txt\", \"w\", encoding=\"utf-8\") as new_file_22:\n",
        "  for i in istiklal_2:             \n",
        "    counter +=1\n",
        "    if counter % 4==0 :        #burada her dört satırda kıta olarak ayırıyoruz.\n",
        "      new_file_22.write(i+'\\n')\n",
        "\n",
        "    else :\n",
        "      new_file_22.write(i)\n",
        "\n",
        "with open(\"istiklal_new.txt\",\"r\",encoding=\"utf-8\") as new_file_22 :\n",
        "  print(new_file_22.read())\n"
      ],
      "metadata": {
        "colab": {
          "base_uri": "https://localhost:8080/"
        },
        "id": "KoxCxnbAgmKL",
        "outputId": "c8faa926-b005-4fc2-f607-879ee742700e"
      },
      "execution_count": null,
      "outputs": [
        {
          "output_type": "stream",
          "name": "stdout",
          "text": [
            "Korkma, sönmez bu şafaklarda yüzen al sancak;\n",
            "Sönmeden yurdumun üstünde tüten en son ocak.\n",
            "O benim milletimin yıldızıdır, parlayacak;\n",
            "O benimdir, o benim milletimindir ancak.\n",
            "\n",
            "Çatma, kurban olayım, çehreni ey nazlı hilal!\n",
            "Kahraman ırkıma bir gül! Ne bu şiddet, bu celal?\n",
            "Sana olmaz dökülen kanlarımız sonra helal...\n",
            "Hakkıdır, hakk'a tapan, milletimin istiklal!\n",
            "\n",
            "Ben ezelden beridir hür yaşadım, hür yaşarım.\n",
            "Hangi çılgın bana zincir vuracakmış? Şaşarım!\n",
            "Kükremiş sel gibiyim, bendimi çiğner, aşarım.\n",
            "Yırtarım dağları, enginlere sığmam, taşarım.\n",
            "\n",
            "Garbın afakını sarmışsa çelik zırhlı duvar,\n",
            "Benim iman dolu göğsüm gibi serhaddim var.\n",
            "Ulusun, korkma! Nasıl böyle bir imanı boğar,\n",
            "'Medeniyet!' dediğin tek dişi kalmış canavar?\n",
            "\n",
            "Arkadaş! Yurduma alçakları uğratma, sakın.\n",
            "Siper et gövdeni, dursun bu hayasızca akın.\n",
            "Doğacaktır sana va'dettigi günler hakk'ın...\n",
            "Kim bilir, belki yarın, belki yarından da yakın.\n",
            "\n",
            "Bastığın yerleri 'toprak!' diyerek geçme, tanı:\n",
            "Düşün altında binlerce kefensiz yatanı.\n",
            "Sen şehit oğlusun, incitme, yazıktır, atanı:\n",
            "Verme, dünyaları alsan da, bu cennet vatanı.\n",
            "\n",
            "Kim bu cennet vatanın uğruna olmaz ki feda?\n",
            "Şuheda fışkıracak toprağı sıksan, şuheda!\n",
            "Canı, cananı, bütün varımı alsın da hüda,\n",
            "Etmesin tek vatanımdan beni dünyada cüda.\n",
            "\n",
            "Ruhumun senden, ilahi, şudur ancak emeli:\n",
            "Değmesin mabedimin göğsüne namahrem eli.\n",
            "Bu ezanlar-ki şahadetleri dinin temeli,\n",
            "Ebedi yurdumun üstünde benim inlemeli.\n",
            "\n",
            "\n"
          ]
        }
      ]
    },
    {
      "cell_type": "code",
      "source": [
        "with open(\"new_meyve.csv\",\"r\", encoding=\"utf-8\") as sepet_1:\n",
        "  print(sepet_1.read())"
      ],
      "metadata": {
        "colab": {
          "base_uri": "https://localhost:8080/"
        },
        "id": "gbe1YsVkm1yN",
        "outputId": "bc8063a0-3ba3-4c52-9315-612d9a9fdaf1"
      },
      "execution_count": null,
      "outputs": [
        {
          "output_type": "stream",
          "name": "stdout",
          "text": [
            "﻿no,fruit,amount\n",
            "1,Banana,4 lb\n",
            "2,Orange,5 lb\n",
            "3,Apple,2 lb\n",
            "4,Strawberry,6 lb\n",
            "5,Cherry,3 lb\n"
          ]
        }
      ]
    },
    {
      "cell_type": "code",
      "source": [
        "import csv"
      ],
      "metadata": {
        "id": "Z3tGQDgezbqW"
      },
      "execution_count": null,
      "outputs": []
    },
    {
      "cell_type": "code",
      "source": [
        "import csv\n",
        "with open(\"new_meyve.csv\", 'r', newline ='', encoding = 'utf-8') as new_sepet:\n",
        "    csv_rows = csv.reader(new_sepet)  # reader() function takes each\n",
        "                                 # row (lines) into a list\n",
        "    for row in csv_rows: \n",
        "        print(row)        "
      ],
      "metadata": {
        "colab": {
          "base_uri": "https://localhost:8080/"
        },
        "id": "KYQ2zRkb0N26",
        "outputId": "db275e48-492d-4815-c132-931362d31ccd"
      },
      "execution_count": null,
      "outputs": [
        {
          "output_type": "stream",
          "name": "stdout",
          "text": [
            "['no', 'fruit', 'amount']\n",
            "['1', 'Banana', '4 lb']\n",
            "['2', 'Orange', '5 lb']\n",
            "['3', 'Apple', '2 lb']\n",
            "['4', 'Strawberry', '6 lb']\n",
            "['5', 'Cherry', '3 lb']\n"
          ]
        }
      ]
    },
    {
      "cell_type": "code",
      "source": [
        "print (row[1:2]) #burada oluşturduğumuz listenin içerisidne gezinebiliyoruz"
      ],
      "metadata": {
        "id": "Qs3W00Q90ZBN",
        "colab": {
          "base_uri": "https://localhost:8080/"
        },
        "outputId": "ca8dd95a-4ee4-454c-9a75-95c492a9d3c3"
      },
      "execution_count": null,
      "outputs": [
        {
          "output_type": "stream",
          "name": "stdout",
          "text": [
            "['Cherry']\n"
          ]
        }
      ]
    },
    {
      "cell_type": "code",
      "source": [
        "import csv\n",
        "with open(\"new_meyve.csv\", 'r', newline ='', encoding = 'utf-8') as new_sepet:\n",
        "    csv_rows = csv.reader(new_sepet, delimiter =\",\")  # rbir önceki örnek ile aynı sonucu verir\n",
        "                                 # delimeter ifadesinin default degeri virgüldür\n",
        "    for row in csv_rows: \n",
        "        print(row)        "
      ],
      "metadata": {
        "colab": {
          "base_uri": "https://localhost:8080/"
        },
        "id": "1-9P_B39JebO",
        "outputId": "92e027c4-a7f3-42d7-9292-bb872393d67f"
      },
      "execution_count": null,
      "outputs": [
        {
          "output_type": "stream",
          "name": "stdout",
          "text": [
            "['no', 'fruit', 'amount']\n",
            "['1', 'Banana', '4 lb']\n",
            "['2', 'Orange', '5 lb']\n",
            "['3', 'Apple', '2 lb']\n",
            "['4', 'Strawberry', '6 lb']\n",
            "['5', 'Cherry', '3 lb']\n"
          ]
        }
      ]
    },
    {
      "cell_type": "code",
      "source": [
        "import csv\n",
        "with open(\"new_meyve.csv\", 'r', newline ='', encoding = 'utf-8') as new_sepet:\n",
        "    csv_rows = csv.reader(new_sepet, delimiter =\":\")  # bir önceki örnek ile farklı sonucu verir\n",
        "                                 # delimeter ifadesinin default degeri değiştiğinde \n",
        "                                 # satırı tekbir string halinde yazr\n",
        "                                 \n",
        "    for row in csv_rows: \n",
        "        print(row)        "
      ],
      "metadata": {
        "colab": {
          "base_uri": "https://localhost:8080/"
        },
        "id": "5kmKrBYrKokl",
        "outputId": "29f1e908-ae79-4443-f2d5-bf68a612d0d6"
      },
      "execution_count": null,
      "outputs": [
        {
          "output_type": "stream",
          "name": "stdout",
          "text": [
            "['no,fruit,amount']\n",
            "['1,Banana,4 lb']\n",
            "['2,Orange,5 lb']\n",
            "['3,Apple,2 lb']\n",
            "['4,Strawberry,6 lb']\n",
            "['5,Cherry,3 lb']\n"
          ]
        }
      ]
    },
    {
      "cell_type": "code",
      "source": [
        "print (row[0:1]) #delimiter ifadesini değiştirdikten sonra elde edilen bütün halilndeki string "
      ],
      "metadata": {
        "colab": {
          "base_uri": "https://localhost:8080/"
        },
        "id": "WgiGe5xFLrvW",
        "outputId": "9968922b-09e4-43c1-ae6a-fa4f2b0d0885"
      },
      "execution_count": null,
      "outputs": [
        {
          "output_type": "stream",
          "name": "stdout",
          "text": [
            "['5,Cherry,3 lb']\n"
          ]
        }
      ]
    },
    {
      "cell_type": "code",
      "source": [
        ""
      ],
      "metadata": {
        "id": "sbDXSkRZLu9z"
      },
      "execution_count": null,
      "outputs": []
    }
  ]
}