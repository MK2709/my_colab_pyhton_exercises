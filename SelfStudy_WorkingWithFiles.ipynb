{
  "nbformat": 4,
  "nbformat_minor": 0,
  "metadata": {
    "colab": {
      "name": "SelfStudy_WorkingWithFiles.ipynb",
      "provenance": [],
      "authorship_tag": "ABX9TyPb9uFqFJo1I7ddGdp3m2dW",
      "include_colab_link": true
    },
    "kernelspec": {
      "name": "python3",
      "display_name": "Python 3"
    },
    "language_info": {
      "name": "python"
    }
  },
  "cells": [
    {
      "cell_type": "markdown",
      "metadata": {
        "id": "view-in-github",
        "colab_type": "text"
      },
      "source": [
        "<a href=\"https://colab.research.google.com/github/MK2709/my_colab_pyhton_exercises/blob/main/SelfStudy_WorkingWithFiles.ipynb\" target=\"_parent\"><img src=\"https://colab.research.google.com/assets/colab-badge.svg\" alt=\"Open In Colab\"/></a>"
      ]
    },
    {
      "cell_type": "code",
      "execution_count": 1,
      "metadata": {
        "colab": {
          "base_uri": "https://localhost:8080/"
        },
        "id": "JhFrtFuxcA8u",
        "outputId": "a38c90b3-d43d-4eb3-ab5f-acaec0be9e8e"
      },
      "outputs": [
        {
          "output_type": "stream",
          "name": "stdout",
          "text": [
            "Orca is a kind of Dolphin.\n",
            "Blue Whale is the largest animal known on earth.\n",
            "Sharks are the sister group to the Rays (batoids).\n",
            "The Tuna Fish can weigh up to 260 kg.\n",
            "Squid and Octopus are in the same class.\n"
          ]
        }
      ],
      "source": [
        "sea = open(\"fishes.txt\", 'r')   # 'r' is for read\n",
        "\n",
        "print(sea.read())  # displays the entire text content\n",
        "\n",
        "sea.close()  # be sure to close the file"
      ]
    },
    {
      "cell_type": "code",
      "source": [
        "sea = open(\"fishes.txt\", 'r')   \n",
        "\n",
        "print(sea.read(33))  # displays the first 33 chars of the text\n",
        "print()\n",
        "print(sea.read(25))  # displays the next 25 chars of the text\n",
        "print()\n",
        "sea.seek(0)  # changes the stream (cursor) position to zero\n",
        "print(sea.read(33))  # displays the first 33 chars again\n",
        "print()\n",
        "print(sea.tell())  # returns the current stream (cursor) position\n",
        "\n",
        "sea.close()"
      ],
      "metadata": {
        "colab": {
          "base_uri": "https://localhost:8080/"
        },
        "id": "rND40jJOcmtt",
        "outputId": "f435e507-41d7-4fad-d55e-157b13bd5c8e"
      },
      "execution_count": 3,
      "outputs": [
        {
          "output_type": "stream",
          "name": "stdout",
          "text": [
            "Orca is a kind of Dolphin.\n",
            "Blue W\n",
            "\n",
            "hale is the largest anima\n",
            "\n",
            "Orca is a kind of Dolphin.\n",
            "Blue W\n",
            "\n",
            "34\n"
          ]
        }
      ]
    },
    {
      "cell_type": "code",
      "source": [
        "sea = open(\"fishes.txt\", 'r')   \n",
        "\n",
        "print(sea.readline())  # displays the first line of the text\n",
        "print(sea.readline())  # displays the second line\n",
        "print(sea.readline())  # each time it goes to the new line\n",
        "\n",
        "sea.close()"
      ],
      "metadata": {
        "colab": {
          "base_uri": "https://localhost:8080/"
        },
        "id": "_94teWoMc80C",
        "outputId": "051aabe5-2d9b-41ca-fb9d-b27d440a5297"
      },
      "execution_count": 8,
      "outputs": [
        {
          "output_type": "stream",
          "name": "stdout",
          "text": [
            "Orca is a kind of Dolphin.\n",
            "\n",
            "Blue Whale is the largest animal known on earth.\n",
            "\n",
            "Sharks are the sister group to the Rays (batoids).\n",
            "\n"
          ]
        }
      ]
    },
    {
      "cell_type": "code",
      "source": [
        "sea = open(\"fishes.txt\", 'r')   \n",
        "\n",
        "print(sea.readline(13))\n",
        "print(sea.readline(13))\n",
        "print(sea.readline(13))\n",
        "print(sea.readline(13))\n",
        "\n",
        "sea.close()"
      ],
      "metadata": {
        "colab": {
          "base_uri": "https://localhost:8080/"
        },
        "id": "VnumnnDTeKZN",
        "outputId": "8dd66199-caf7-4e45-b829-07e624969c92"
      },
      "execution_count": 9,
      "outputs": [
        {
          "output_type": "stream",
          "name": "stdout",
          "text": [
            "Orca is a kin\n",
            "d of Dolphin.\n",
            "\n",
            "\n",
            "Blue Whale is\n"
          ]
        }
      ]
    },
    {
      "cell_type": "code",
      "source": [
        "sea = open(\"fishes.txt\", 'r')   \n",
        "\n",
        "print(sea.readline())  # first line\n",
        "print(sea.readlines())  # the rest of the lines\n",
        "\n",
        "sea.close()"
      ],
      "metadata": {
        "colab": {
          "base_uri": "https://localhost:8080/"
        },
        "id": "nGputwbneqcU",
        "outputId": "78586d9f-76a9-4aa2-fcd0-45212e2aac41"
      },
      "execution_count": 18,
      "outputs": [
        {
          "output_type": "stream",
          "name": "stdout",
          "text": [
            "['Orca is a kind of Dolphin.\\n', 'Blue Whale is the largest animal known on earth.\\n', 'Sharks are the sister group to the Rays (batoids).\\n', 'The Tuna Fish can weigh up to 260 kg.\\n', 'Squid and Octopus are in the same class.']\n"
          ]
        }
      ]
    },
    {
      "cell_type": "code",
      "source": [
        "sea = open(\"fishes.txt\", \"r\")\n",
        "for i in sea:\n",
        "  print (i)\n",
        "sea.close()"
      ],
      "metadata": {
        "colab": {
          "base_uri": "https://localhost:8080/"
        },
        "id": "R8RaqnMpg3jv",
        "outputId": "abf006c8-cc4c-45e8-8670-05aea6369e07"
      },
      "execution_count": 19,
      "outputs": [
        {
          "output_type": "stream",
          "name": "stdout",
          "text": [
            "Orca is a kind of Dolphin.\n",
            "\n",
            "Blue Whale is the largest animal known on earth.\n",
            "\n",
            "Sharks are the sister group to the Rays (batoids).\n",
            "\n",
            "The Tuna Fish can weigh up to 260 kg.\n",
            "\n",
            "Squid and Octopus are in the same class.\n"
          ]
        }
      ]
    },
    {
      "cell_type": "code",
      "source": [
        "sea = open(\"fishes.txt\", 'r')   \n",
        "\n",
        "for line in sea.readlines(): #burada da list olarak her satırı ayrı okuyoruz\n",
        "    print(line)\n",
        "\n",
        "sea.close()"
      ],
      "metadata": {
        "colab": {
          "base_uri": "https://localhost:8080/"
        },
        "id": "6eXfmubdiQkM",
        "outputId": "82648ceb-fb7b-439c-a22e-c023c7845f72"
      },
      "execution_count": 20,
      "outputs": [
        {
          "output_type": "stream",
          "name": "stdout",
          "text": [
            "Orca is a kind of Dolphin.\n",
            "\n",
            "Blue Whale is the largest animal known on earth.\n",
            "\n",
            "Sharks are the sister group to the Rays (batoids).\n",
            "\n",
            "The Tuna Fish can weigh up to 260 kg.\n",
            "\n",
            "Squid and Octopus are in the same class.\n"
          ]
        }
      ]
    },
    {
      "cell_type": "code",
      "source": [
        "with open(\"fishes.txt\", \"r\") as sea:\n",
        "    print(sea.read())  # needs indented code block\n",
        "\n",
        "    #in this example we do not need to use close() cuz it closes itself auto"
      ],
      "metadata": {
        "colab": {
          "base_uri": "https://localhost:8080/"
        },
        "id": "y95dvVSco0L8",
        "outputId": "e3361fdc-0cd3-4b4a-f9c9-6403391ec48f"
      },
      "execution_count": 21,
      "outputs": [
        {
          "output_type": "stream",
          "name": "stdout",
          "text": [
            "Orca is a kind of Dolphin.\n",
            "Blue Whale is the largest animal known on earth.\n",
            "Sharks are the sister group to the Rays (batoids).\n",
            "The Tuna Fish can weigh up to 260 kg.\n",
            "Squid and Octopus are in the same class.\n"
          ]
        }
      ]
    },
    {
      "cell_type": "markdown",
      "source": [
        "*****Buradan itibaren Joseph Hocanın Ders notları********"
      ],
      "metadata": {
        "id": "X4XOu_zH0QfH"
      }
    },
    {
      "cell_type": "code",
      "source": [
        "import os #os modulu dosya ile pek çok fonksiyon kullanılabbilir. araştır"
      ],
      "metadata": {
        "id": "rGWbG_VZrqrb"
      },
      "execution_count": 22,
      "outputs": []
    },
    {
      "cell_type": "code",
      "source": [
        "dosya_içeriği=os.listdir()\n",
        "dosya_içeriği"
      ],
      "metadata": {
        "colab": {
          "base_uri": "https://localhost:8080/"
        },
        "id": "6HEOvqfw0XNg",
        "outputId": "12af81d7-5ac3-4e9f-f287-0283e41eaa08"
      },
      "execution_count": 25,
      "outputs": [
        {
          "output_type": "execute_result",
          "data": {
            "text/plain": [
              "['.config', 'fishes.txt', 'sample_data']"
            ]
          },
          "metadata": {},
          "execution_count": 25
        }
      ]
    },
    {
      "cell_type": "code",
      "source": [
        "import shutil #shutill modulu dosya ile pek çok fonksiyon kullanılabbilir. araştır\n",
        "\n",
        "shutil.make_archive(\"fishes.txt\",\"zip\",\"/content\") #fishes.txt dosyasını \"zip\" formatında yaparak\n",
        "                                                  # belirttiğimiz dosya oluna kayıt ediyor."
      ],
      "metadata": {
        "colab": {
          "base_uri": "https://localhost:8080/",
          "height": 35
        },
        "id": "uk5_-O3d0yCP",
        "outputId": "6a6c00d2-ef7d-4eed-a286-0b7d64b640d4"
      },
      "execution_count": 29,
      "outputs": [
        {
          "output_type": "execute_result",
          "data": {
            "application/vnd.google.colaboratory.intrinsic+json": {
              "type": "string"
            },
            "text/plain": [
              "'/content/fishes.txt.zip'"
            ]
          },
          "metadata": {},
          "execution_count": 29
        }
      ]
    },
    {
      "cell_type": "code",
      "source": [
        "dosya_içeriği"
      ],
      "metadata": {
        "colab": {
          "base_uri": "https://localhost:8080/"
        },
        "id": "y_BTGavY2Nv4",
        "outputId": "dc9535e3-9c7c-4215-8494-d3e063e15fe0"
      },
      "execution_count": 28,
      "outputs": [
        {
          "output_type": "execute_result",
          "data": {
            "text/plain": [
              "['.config', 'fishes.txt', 'sample_data']"
            ]
          },
          "metadata": {},
          "execution_count": 28
        }
      ]
    },
    {
      "cell_type": "markdown",
      "source": [
        ""
      ],
      "metadata": {
        "id": "YWqEpt5r2Rgk"
      }
    },
    {
      "cell_type": "code",
      "source": [
        "with open(\"dummy_file.txt\", 'w', encoding=\"utf-8\") as file:  \n",
        "# we create and open the file\n",
        "\n",
        "    file.write('This is the first line of my text file')  \n",
        "    # writes str data into the file\n",
        "\n",
        "with open(\"dummy_file.txt\", 'r', encoding=\"utf-8\") as file:\n",
        "    print(file.read())  # reads the content of the 'dummy_file'"
      ],
      "metadata": {
        "colab": {
          "base_uri": "https://localhost:8080/"
        },
        "id": "1PxcMoSK2Qvg",
        "outputId": "a3f6c541-ee31-45d4-ad36-53ee65876265"
      },
      "execution_count": 30,
      "outputs": [
        {
          "output_type": "stream",
          "name": "stdout",
          "text": [
            "This is the first line of my text file\n"
          ]
        }
      ]
    },
    {
      "cell_type": "code",
      "source": [
        "with open(\"dummy_file.txt\",\"w\", encoding=\"utf-8\") as file:\n",
        "  file.write(\"this is the new line of my dummy_file\")    # we write new str data into it \n",
        "\n",
        "with open(\"dummy_file.txt\",\"r\", encoding=\"utf-8\") as file:\n",
        "  print(file.read()) # reads the content of the 'dummy_file'"
      ],
      "metadata": {
        "colab": {
          "base_uri": "https://localhost:8080/"
        },
        "id": "N8yNSFqr-id0",
        "outputId": "38f7890a-f48c-4299-dacb-aad79364bca9"
      },
      "execution_count": 40,
      "outputs": [
        {
          "output_type": "stream",
          "name": "stdout",
          "text": [
            "this is the new line of my dummy_file\n"
          ]
        }
      ]
    },
    {
      "cell_type": "code",
      "source": [
        "with open(\"dummy_file.txt\", 'w', encoding=\"utf-8\") as file:\n",
        "    file.write(\"My first Sentece, \")\n",
        "    file.write(\"My Second Sentence, \")\n",
        "    file.write(\"My Third Sentence, \\n\")\n",
        "    file.write(\"My Fourth Sentence, \")\n",
        "    file.write(\"My last/final sentence!!!\")\n",
        "\n",
        "with open(\"dummy_file.txt\",\"r\", encoding=\"utf-8\") as file:\n",
        "    print(file.read())\n"
      ],
      "metadata": {
        "colab": {
          "base_uri": "https://localhost:8080/"
        },
        "id": "xF8y2zr9_Mof",
        "outputId": "070a189d-900b-4b74-8fc6-ce7113866fd2"
      },
      "execution_count": 52,
      "outputs": [
        {
          "output_type": "stream",
          "name": "stdout",
          "text": [
            "My first Sentece, My Second Sentence, My Third Sentence, \n",
            "My Fourth Sentence, My last/final sentence!!!\n"
          ]
        }
      ]
    },
    {
      "cell_type": "code",
      "source": [
        "fruits=[\"Banana\", \"Orange\",\"Apple\", \"Cherry\"]\n",
        "\n",
        "with open(\"fruits.txt\",\"w\", encoding=\"utf-8\") as file:\n",
        "  for i in fruits:\n",
        "    file.write( i + \"\\n\")\n",
        "with open(\"fruits.txt\", \"r\", encoding=\"utf-8\") as file:\n",
        "  print(file.read())\n",
        "with open(\"fruits.txt\",\"r\", encoding=\"utf-8\") as file:\n",
        "  print(file.readlines())"
      ],
      "metadata": {
        "colab": {
          "base_uri": "https://localhost:8080/"
        },
        "id": "oXfaqxbFA_CT",
        "outputId": "9c9384fd-f757-4ddb-870b-6a1c5204a3fe"
      },
      "execution_count": 54,
      "outputs": [
        {
          "output_type": "stream",
          "name": "stdout",
          "text": [
            "Banana\n",
            "Orange\n",
            "Apple\n",
            "Cherry\n",
            "\n",
            "['Banana\\n', 'Orange\\n', 'Apple\\n', 'Cherry\\n']\n"
          ]
        }
      ]
    },
    {
      "cell_type": "code",
      "source": [
        "fruits=[\"Banana\", \"Orange\",\"Apple\", \"Cherry\"]\n",
        "\n",
        "with open(\"fruits.txt\",\"w\", encoding=\"utf-8\") as file:\n",
        "  for i in fruits:\n",
        "    file.write( i + \"\\t\")\n",
        "with open(\"fruits.txt\", \"r\", encoding=\"utf-8\") as file:\n",
        "  print(file.read())\n",
        "with open(\"fruits.txt\",\"r\", encoding=\"utf-8\") as file:\n",
        "  print(file.readlines())"
      ],
      "metadata": {
        "colab": {
          "base_uri": "https://localhost:8080/"
        },
        "id": "L_kqBT7JB9O5",
        "outputId": "bdb60b0e-7c21-4326-a1b8-f02c679d0c2b"
      },
      "execution_count": 55,
      "outputs": [
        {
          "output_type": "stream",
          "name": "stdout",
          "text": [
            "Banana\tOrange\tApple\tCherry\t\n",
            "['Banana\\tOrange\\tApple\\tCherry\\t']\n"
          ]
        }
      ]
    },
    {
      "cell_type": "code",
      "source": [
        "fruits2=[\"Banana\\n\",\"Orange\\n\",\"Apple\\n\",\"Strawbeyy\\n\",\"Cherry\\n\"]\n",
        "\n",
        "\n",
        "with open(\"fruits2.txt\",\"w\", encoding=\"utf-8\") as file:\n",
        "  file.writelines(fruits2)\n",
        "\n",
        "with open(\"fruits2.txt\", \"r\",encoding=\"utf-8\") as file:\n",
        "  print(file.read())\n",
        "with open(\"fruits2.txt\", \"r\", encoding=\"utf-8\") as file:\n",
        "  print(file.readlines())"
      ],
      "metadata": {
        "colab": {
          "base_uri": "https://localhost:8080/"
        },
        "id": "wGL5UBVzEFmT",
        "outputId": "c3705fb7-75ce-44aa-e516-93a9992140ff"
      },
      "execution_count": 61,
      "outputs": [
        {
          "output_type": "stream",
          "name": "stdout",
          "text": [
            "Banana\n",
            "Orange\n",
            "Apple\n",
            "Strawbeyy\n",
            "Cherry\n",
            "\n",
            "['Banana\\n', 'Orange\\n', 'Apple\\n', 'Strawbeyy\\n', 'Cherry\\n']\n"
          ]
        }
      ]
    },
    {
      "cell_type": "code",
      "source": [
        "fruits2=[\"Banana\\t\",\"Orange\\t\",\"Apple\\t\",\"Strawbeyy\\t\",\"Cherry\\t\"]\n",
        "\n",
        "\n",
        "with open(\"fruits2.txt\",\"w\", encoding=\"utf-8\") as file:\n",
        "  file.writelines(fruits2)\n",
        "\n",
        "with open(\"fruits2.txt\", \"r\",encoding=\"utf-8\") as file:\n",
        "  print(file.read())\n",
        "\n",
        "with open(\"fruits2.txt\", \"r\",encoding=\"utf-8\") as file:\n",
        "  print(file.readlines())"
      ],
      "metadata": {
        "colab": {
          "base_uri": "https://localhost:8080/"
        },
        "id": "y_MUHOefGnCA",
        "outputId": "2ed174c0-0b4a-4ea0-dcfb-6342ebc842b5"
      },
      "execution_count": 62,
      "outputs": [
        {
          "output_type": "stream",
          "name": "stdout",
          "text": [
            "Banana\tOrange\tApple\tStrawbeyy\tCherry\t\n",
            "['Banana\\tOrange\\tApple\\tStrawbeyy\\tCherry\\t']\n"
          ]
        }
      ]
    },
    {
      "cell_type": "code",
      "source": [
        "##Write a code that inserts a newline char \\n to between lines \n",
        "##of the text of the 'fishes.txt' file and reads the new content\n",
        "##of that file. \n",
        "\n",
        "with open(\"fishes.txt\",\"r\", encoding=\"utf-8\") as sea_2:\n",
        "    fish_lines = sea_2.readlines()\n",
        "\n",
        "with open(\"fishes.txt\",\"w\",encoding =\"utf-8\") as sea_2:\n",
        "  for reef in fish_lines:\n",
        "    sea_2.write(reef + \"\\n\")\n",
        "\n",
        "with open(\"fishes.txt\", \"r\", encoding=\"utf-8\") as sea_2:\n",
        "    print(sea_2.read())\n",
        "###bu souyuda cvbı da anlamadım#####"
      ],
      "metadata": {
        "id": "__20S-AnHVzA"
      },
      "execution_count": null,
      "outputs": []
    },
    {
      "cell_type": "code",
      "source": [
        "fruits_3=['Banana\\n', 'Orange\\n', 'Apple\\n', 'Peach\\n', 'Strawberry\\n', 'Cherry\\n']\n",
        "\n",
        "with open(\"fruits_3.txt\",\"w\",encoding=\"utf-8\") as file: \n",
        "  file.writelines(fruits_3)  # creates a file containing the elements of the list\n",
        "\n",
        "with open(\"fruits_3.txt\",\"r\", encoding=\"utf-8\") as file:\n",
        "  print(file.read()) # reads the content of the file\n",
        "\n",
        "with open(\"fruits_3.txt\", \"a\", encoding=\"utf-8\") as file:\n",
        "  file.write(\"Melon\\n\") # adds \"Melon\" to the end of the existing file\n",
        "   \n",
        "with open(\"fruits_3.txt\",\"r\", encoding=\"utf-8\") as file:\n",
        "  print(file.read())  # reads the last content of the file\n",
        "\n",
        "with open(\"fruits_3.txt\",\"r\", encoding=\"utf-8\") as file:\n",
        "  print(file.readlines())  # reads the last content of the file in same line"
      ],
      "metadata": {
        "colab": {
          "base_uri": "https://localhost:8080/"
        },
        "id": "rmG5xRnVJB_Z",
        "outputId": "c614f623-2bba-4fb4-fc8e-9a5db4a7d4a7"
      },
      "execution_count": 73,
      "outputs": [
        {
          "output_type": "stream",
          "name": "stdout",
          "text": [
            "Banana\n",
            "Orange\n",
            "Apple\n",
            "Peach\n",
            "Strawberry\n",
            "Cherry\n",
            "\n",
            "Banana\n",
            "Orange\n",
            "Apple\n",
            "Peach\n",
            "Strawberry\n",
            "Cherry\n",
            "Melon\n",
            "\n",
            "['Banana\\n', 'Orange\\n', 'Apple\\n', 'Peach\\n', 'Strawberry\\n', 'Cherry\\n', 'Melon\\n']\n"
          ]
        }
      ]
    },
    {
      "cell_type": "code",
      "source": [
        ""
      ],
      "metadata": {
        "id": "FTBNJDC_NKLX"
      },
      "execution_count": null,
      "outputs": []
    }
  ]
}