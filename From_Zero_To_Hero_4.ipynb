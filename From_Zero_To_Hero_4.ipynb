{
  "nbformat": 4,
  "nbformat_minor": 0,
  "metadata": {
    "colab": {
      "name": "From_Zero_To_Hero_4.ipynb",
      "provenance": [],
      "authorship_tag": "ABX9TyNCpzuDs7u8VFigBvSaxr0V",
      "include_colab_link": true
    },
    "kernelspec": {
      "name": "python3",
      "display_name": "Python 3"
    },
    "language_info": {
      "name": "python"
    }
  },
  "cells": [
    {
      "cell_type": "markdown",
      "metadata": {
        "id": "view-in-github",
        "colab_type": "text"
      },
      "source": [
        "<a href=\"https://colab.research.google.com/github/MK2709/my_colab_pyhton_exercises/blob/main/From_Zero_To_Hero_4.ipynb\" target=\"_parent\"><img src=\"https://colab.research.google.com/assets/colab-badge.svg\" alt=\"Open In Colab\"/></a>"
      ]
    },
    {
      "cell_type": "markdown",
      "source": [
        "Functions"
      ],
      "metadata": {
        "id": "pIHUGn3N4YVk"
      }
    },
    {
      "cell_type": "code",
      "source": [
        "##Enumerate fonksiyonunun tanimi\n",
        ">>> seasons = ['Spring', 'Summer', 'Fall', 'Winter']\n",
        ">>> list(enumerate(seasons))\n",
        "#[(0, 'Spring'), (1, 'Summer'), (2, 'Fall'), (3, 'Winter')]\n",
        ">>> list(enumerate(seasons, start=1))\n",
        "#[(1, 'Spring'), (2, 'Summer'), (3, 'Fall'), (4, 'Winter')]"
      ],
      "metadata": {
        "colab": {
          "base_uri": "https://localhost:8080/"
        },
        "id": "UEDWOr3Q4buU",
        "outputId": "b1cd0eba-823b-47ee-900d-4ce3f501d6e9"
      },
      "execution_count": null,
      "outputs": [
        {
          "output_type": "execute_result",
          "data": {
            "text/plain": [
              "[(1, 'Spring'), (2, 'Summer'), (3, 'Fall'), (4, 'Winter')]"
            ]
          },
          "metadata": {},
          "execution_count": 1
        }
      ]
    },
    {
      "cell_type": "code",
      "source": [
        "def first_function(argument_1, argument_2) : #fonksiyon tanimlaniyor\n",
        "    print(argument_1**2 + argument_2**2) #yapacagi islem belirleniyor\n",
        "\n",
        "first_function(2,3) #fonksiyon cagiriliyor"
      ],
      "metadata": {
        "colab": {
          "base_uri": "https://localhost:8080/"
        },
        "id": "fkRrkDQX6FZl",
        "outputId": "cfa94046-c544-467c-cc49-754ea92dae1e"
      },
      "execution_count": null,
      "outputs": [
        {
          "output_type": "stream",
          "name": "stdout",
          "text": [
            "13\n"
          ]
        }
      ]
    },
    {
      "cell_type": "code",
      "source": [
        "def multiply(a, b) : #baska bir fonksiyon tanimlama. Argumanlari ile \n",
        "    print(a * b)     #girilen a ve b degeri ile carpim islemi yapip ekrana yazdiriyor\n",
        "\n",
        "multiply(3, 5)\n",
        "multiply(-1, 2.5)\n",
        "multiply('amazing ', 3)  # it's really amazing, right?"
      ],
      "metadata": {
        "colab": {
          "base_uri": "https://localhost:8080/"
        },
        "id": "hTQBrr959Yot",
        "outputId": "43ead21b-cc7f-4533-ef40-707a8e869aac"
      },
      "execution_count": null,
      "outputs": [
        {
          "output_type": "stream",
          "name": "stdout",
          "text": [
            "15\n",
            "-2.5\n",
            "amazing amazing amazing \n"
          ]
        }
      ]
    },
    {
      "cell_type": "code",
      "source": [
        "def motto() : #argumanlari olmadan fonksiyon isletilebilir\n",
        "    print(\"Don't hesitate to reinvent yourself!\")\n",
        "\n",
        "motto()  # it takes no argument\n",
        "#motto(5) #hata verir!!!!"
      ],
      "metadata": {
        "colab": {
          "base_uri": "https://localhost:8080/"
        },
        "id": "jlIigxJw-Iss",
        "outputId": "862bc7d5-1af5-4f2b-a9da-c51fc648cd1f"
      },
      "execution_count": null,
      "outputs": [
        {
          "output_type": "stream",
          "name": "stdout",
          "text": [
            "Don't hesitate to reinvent yourself!\n"
          ]
        }
      ]
    },
    {
      "cell_type": "code",
      "source": [
        "def multiply_1(a, b) :\n",
        "    print(a * b)  # it prints something\n",
        "\n",
        "def multiply_2(a, b) :\n",
        "    return a * b  # returns any numeric data type value\n",
        "                  #buradan elde edilen int degeri baska bir yerde value olarak kullanabilirsin\n",
        "\n",
        "\n",
        "multiply_1(10, 5)\n",
        "print(multiply_2(10, 5))\n",
        "print(type(multiply_1(10, 5)))\n",
        "print(type(multiply_2(10, 5)))"
      ],
      "metadata": {
        "colab": {
          "base_uri": "https://localhost:8080/"
        },
        "id": "-w5mJ4rF-YMl",
        "outputId": "5c1b0048-b774-46da-d578-004a308e3f87"
      },
      "execution_count": null,
      "outputs": [
        {
          "output_type": "stream",
          "name": "stdout",
          "text": [
            "50\n",
            "50\n",
            "50\n",
            "<class 'NoneType'>\n",
            "<class 'int'>\n"
          ]
        }
      ]
    },
    {
      "cell_type": "code",
      "source": [
        "#define a function that compares the lengths of its iterable arguments and returns the longer one. \n",
        "#Try this function to compare the lengths of \"Richard\" and \"John\". \n",
        "\n",
        "def longer(a, b):\n",
        "    if len(a) >= len(b):\n",
        "        return a\n",
        "    else:\n",
        "        return b\n",
        "\n",
        "print(longer('Richard', 'John'))"
      ],
      "metadata": {
        "id": "bdWY75UCBCMv"
      },
      "execution_count": null,
      "outputs": []
    },
    {
      "cell_type": "markdown",
      "source": [
        "#Arguments\n",
        "\n",
        "\n",
        "> Positiona + KeyWord Arguments etc\n",
        "\n"
      ],
      "metadata": {
        "id": "D-mhXrUtD-Wd"
      }
    },
    {
      "cell_type": "code",
      "source": [
        "def parrot(voltage, state='a stiff', action='voom', type='Norwegian Blue'):\n",
        "    print(\"-- This parrot wouldn't\", action, end=' ')\n",
        "    print(\"if you put\", voltage, \"volts through it.\")\n",
        "    print(\"-- Lovely plumage, the\", type)\n",
        "    print(\"-- It's\", state, \"!\")"
      ],
      "metadata": {
        "id": "hMwbblVaC4MR"
      },
      "execution_count": null,
      "outputs": []
    },
    {
      "cell_type": "code",
      "source": [
        "parrot(1000)                                          # 1 positional argument\n",
        "parrot(voltage=1000)                                  # 1 keyword argument\n",
        "parrot(voltage=1000000, action='VOOOOOM')             # 2 keyword arguments\n",
        "parrot(action='VOOOOOM', voltage=1000000)             # 2 keyword arguments \n",
        "parrot('a million', 'bereft of life', 'jump')         # 3 positional arguments\n",
        "parrot('a thousand', state='pushing up the daisies')  # 1 positional, 1 keyword"
      ],
      "metadata": {
        "colab": {
          "base_uri": "https://localhost:8080/"
        },
        "id": "OdWAqPKeELOw",
        "outputId": "13f1d893-5e3d-41a9-8b18-0ed334e41443"
      },
      "execution_count": null,
      "outputs": [
        {
          "output_type": "stream",
          "name": "stdout",
          "text": [
            "-- This parrot wouldn't voom if you put 1000 volts through it.\n",
            "-- Lovely plumage, the Norwegian Blue\n",
            "-- It's a stiff !\n",
            "-- This parrot wouldn't voom if you put 1000 volts through it.\n",
            "-- Lovely plumage, the Norwegian Blue\n",
            "-- It's a stiff !\n",
            "-- This parrot wouldn't VOOOOOM if you put 1000000 volts through it.\n",
            "-- Lovely plumage, the Norwegian Blue\n",
            "-- It's a stiff !\n",
            "-- This parrot wouldn't VOOOOOM if you put 1000000 volts through it.\n",
            "-- Lovely plumage, the Norwegian Blue\n",
            "-- It's a stiff !\n",
            "-- This parrot wouldn't jump if you put a million volts through it.\n",
            "-- Lovely plumage, the Norwegian Blue\n",
            "-- It's bereft of life !\n",
            "-- This parrot wouldn't voom if you put a thousand volts through it.\n",
            "-- Lovely plumage, the Norwegian Blue\n",
            "-- It's pushing up the daisies !\n"
          ]
        }
      ]
    },
    {
      "cell_type": "code",
      "source": [
        "def city(capital, continent='Europe'): #continent default olarak Europe olarak belirlenmis. \n",
        "    print(capital, 'is in', continent)    #eger bos birakilirsa Europe yazar, yada hangi deger verilirse onu yazar\n",
        "\n",
        "city('Athens')  # we don't have to pass any arguments into 'continent'\n",
        "city('Ulaanbaatar', continent='Asia')  # we can change the default value by kwargs\n",
        "city('Cape Town', 'Africa')  # we can change the default value by positional args."
      ],
      "metadata": {
        "colab": {
          "base_uri": "https://localhost:8080/"
        },
        "id": "bac08kHNETSu",
        "outputId": "9c6b04af-fad6-4ffb-9a8f-f1bb3acca78b"
      },
      "execution_count": null,
      "outputs": [
        {
          "output_type": "stream",
          "name": "stdout",
          "text": [
            "Athens is in Europe\n",
            "Ulaanbaatar is in Asia\n",
            "Cape Town is in Africa\n"
          ]
        }
      ]
    },
    {
      "cell_type": "code",
      "source": [
        "def fruiterer(*fruit) : #burada kullanilan * isareti syntax formulu\n",
        "    print('I want to get :')\n",
        "    for i in fruit :\n",
        "        print('-', i) #As you can see above, we passed a list of fruits (arguments) into one parameter (fruit).\n",
        "        \n",
        "fruiterer('orange', 'banana', 'melon', 'ananas') #fonksiyonda 1 tane parametre tanimlanmasina ragmen\n",
        "                                                # 1 den fazla arguman gondererek islem yaptirdik"
      ],
      "metadata": {
        "colab": {
          "base_uri": "https://localhost:8080/"
        },
        "id": "N_IrNsSHEr7B",
        "outputId": "17dac3ed-5a18-428b-d8f3-c4f80f8f7fa2"
      },
      "execution_count": null,
      "outputs": [
        {
          "output_type": "stream",
          "name": "stdout",
          "text": [
            "I want to get :\n",
            "- orange\n",
            "- banana\n",
            "- melon\n",
            "- ananas\n"
          ]
        }
      ]
    },
    {
      "cell_type": "code",
      "source": [
        "def animals(**kwargs): #burada da key word argumans islemi var ** syntx formulu\n",
        "    for key, value in kwargs.items(): #key,value formulu\n",
        "        print(value, \"are\", key)\n",
        "animals(Carnivores=\"Lions\", Omnivores=\"Bears\", Herbivores=\"Deers\", Nomnivores=\"Human\")\n",
        "#ustte kullanilacagi yerler belirtilerek arguman veriliyor"
      ],
      "metadata": {
        "colab": {
          "base_uri": "https://localhost:8080/"
        },
        "id": "RnLlvKdsHIq1",
        "outputId": "da1a046d-2c60-4372-ae7e-1245a2407fd8"
      },
      "execution_count": null,
      "outputs": [
        {
          "output_type": "stream",
          "name": "stdout",
          "text": [
            "Lions are Carnivores\n",
            "Bears are Omnivores\n",
            "Deers are Herbivores\n",
            "Human are Nomnivores\n"
          ]
        }
      ]
    },
    {
      "cell_type": "code",
      "source": [
        ""
      ],
      "metadata": {
        "id": "gATv5jX0Heu7"
      },
      "execution_count": null,
      "outputs": []
    }
  ]
}