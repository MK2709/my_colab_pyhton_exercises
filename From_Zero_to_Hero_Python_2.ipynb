{
  "nbformat": 4,
  "nbformat_minor": 0,
  "metadata": {
    "colab": {
      "name": "From_Zero_to_Hero_Python-2.ipynb",
      "provenance": [],
      "collapsed_sections": [],
      "authorship_tag": "ABX9TyO+YbA2N+72lK/ItLI8IWZx",
      "include_colab_link": true
    },
    "kernelspec": {
      "name": "python3",
      "display_name": "Python 3"
    },
    "language_info": {
      "name": "python"
    }
  },
  "cells": [
    {
      "cell_type": "markdown",
      "metadata": {
        "id": "view-in-github",
        "colab_type": "text"
      },
      "source": [
        "<a href=\"https://colab.research.google.com/github/MK2709/my_colab_pyhton_exercises/blob/main/From_Zero_to_Hero_Python_2.ipynb\" target=\"_parent\"><img src=\"https://colab.research.google.com/assets/colab-badge.svg\" alt=\"Open In Colab\"/></a>"
      ]
    },
    {
      "cell_type": "markdown",
      "source": [
        "COLLECTION TYPES\n",
        "> LISTS\n"
      ],
      "metadata": {
        "id": "xsugsx1o-d93"
      }
    },
    {
      "cell_type": "code",
      "source": [
        "country = ['USA', 'Brasil', 'UK', 'Germany', 'Turkey', 'New Zealand']\n",
        "\n",
        "print(country)"
      ],
      "metadata": {
        "colab": {
          "base_uri": "https://localhost:8080/"
        },
        "id": "_fA0tgg8-iww",
        "outputId": "0b614e9a-267e-4526-eff1-741d86bba8e2"
      },
      "execution_count": null,
      "outputs": [
        {
          "output_type": "stream",
          "name": "stdout",
          "text": [
            "['USA', 'Brasil', 'UK', 'Germany', 'Turkey', 'New Zealand']\n"
          ]
        }
      ]
    },
    {
      "cell_type": "code",
      "source": [
        "string_1 = 'I quit smoking'\n",
        "\n",
        "new_list_1 = list(string_1)  # we created multi element list with list() function\n",
        "print(new_list)\n",
        "\n",
        "new_list_2 = [string_1]  # this is a single element list\n",
        "print(new_list_2)"
      ],
      "metadata": {
        "colab": {
          "base_uri": "https://localhost:8080/"
        },
        "id": "jzV6WjOYKB59",
        "outputId": "6bfbc72d-6bf5-46bc-940d-d42f7a8b60cf"
      },
      "execution_count": null,
      "outputs": [
        {
          "output_type": "stream",
          "name": "stdout",
          "text": [
            "['I', ' ', 'q', 'u', 'i', 't', ' ', 's', 'm', 'o', 'k', 'i', 'n', 'g']\n",
            "['I quit smoking']\n"
          ]
        }
      ]
    },
    {
      "cell_type": "markdown",
      "source": [
        ".append() methodu ile listeye eleman ekleme"
      ],
      "metadata": {
        "id": "ywuYiA4offMu"
      }
    },
    {
      "cell_type": "code",
      "source": [
        "city = ['New York', 'London', 'Istanbul', 'Seoul', 'Sydney']\n",
        "print(city)\n",
        "city.append('Addis Ababa') #Listenin \"SONUNA EKLER\"\n",
        "print(city) "
      ],
      "metadata": {
        "id": "giK0VDpQdVnQ",
        "colab": {
          "base_uri": "https://localhost:8080/"
        },
        "outputId": "2716efb5-d5c1-43ff-b085-e86fd012a30d"
      },
      "execution_count": null,
      "outputs": [
        {
          "output_type": "stream",
          "name": "stdout",
          "text": [
            "['New York', 'London', 'Istanbul', 'Seoul', 'Sydney']\n",
            "['New York', 'London', 'Istanbul', 'Seoul', 'Sydney', 'Addis Ababa']\n"
          ]
        }
      ]
    },
    {
      "cell_type": "code",
      "source": [
        "city = ['New York', 'London', 'Istanbul', 'Seoul', 'Sydney', 'Addis Ababa']\n",
        "print(city)\n",
        "city.insert(2, 'Stockholm') #Index numarasi ile ekleme. Index Sifirdan baslar\n",
        "print(city)\n",
        "city.insert(4,'Erzurum')\n",
        "print(city)\n",
        "print(len(city)) # len()fonksiyonu ile listenin elemanlarinin sayisini bulma\n",
        "city.remove('Erzurum')\n",
        "print(city)\n",
        "print(list(reversed(city))) # REVERSED fonksiyonun isletebilmek icin tekrar listeye donusturmen gerekir\n",
        "del city[0] #Liste icerisinde verilen indeks numarasindaki itemi silmek icin kullanilir\n",
        "print(city)\n",
        "city.insert(0,'New York')\n",
        "print(city)\n",
        "print(\"Cikartilan Sehir : \", city.pop(3))\n",
        "print(\"Updated City List :\", city)\n",
        "city.insert(3,\"Istanbul\")\n",
        "print(city)"
      ],
      "metadata": {
        "colab": {
          "base_uri": "https://localhost:8080/"
        },
        "id": "ZvxASGldfkVf",
        "outputId": "7a243450-c918-4c5a-d67a-1f6ccd79ba1c"
      },
      "execution_count": null,
      "outputs": [
        {
          "output_type": "stream",
          "name": "stdout",
          "text": [
            "['New York', 'London', 'Istanbul', 'Seoul', 'Sydney', 'Addis Ababa']\n",
            "['New York', 'London', 'Stockholm', 'Istanbul', 'Seoul', 'Sydney', 'Addis Ababa']\n",
            "['New York', 'London', 'Stockholm', 'Istanbul', 'Erzurum', 'Seoul', 'Sydney', 'Addis Ababa']\n",
            "8\n",
            "['New York', 'London', 'Stockholm', 'Istanbul', 'Seoul', 'Sydney', 'Addis Ababa']\n",
            "['Addis Ababa', 'Sydney', 'Seoul', 'Istanbul', 'Stockholm', 'London', 'New York']\n",
            "['London', 'Stockholm', 'Istanbul', 'Seoul', 'Sydney', 'Addis Ababa']\n",
            "['New York', 'London', 'Stockholm', 'Istanbul', 'Seoul', 'Sydney', 'Addis Ababa']\n",
            "Cikartilan Sehir :  Istanbul\n",
            "Updated City List : ['New York', 'London', 'Stockholm', 'Seoul', 'Sydney', 'Addis Ababa']\n",
            "['New York', 'London', 'Stockholm', 'Istanbul', 'Seoul', 'Sydney', 'Addis Ababa']\n"
          ]
        }
      ]
    },
    {
      "cell_type": "code",
      "source": [
        "# programming languages list\n",
        "languages = ['Python', 'Java', 'C++', 'Ruby', 'C']\n",
        "\n",
        "# remove and return the last item\n",
        "print('When index is not passed:') \n",
        "print('Return Value:', languages.pop()) #default value -1,en sondaki elemani cikartir\n",
        "\n",
        "print('Updated List:', languages)\n",
        "\n",
        "# remove and return the last item\n",
        "print('\\nWhen -1 is passed:') \n",
        "print('Return Value:', languages.pop(-1))\n",
        "\n",
        "print('Updated List:', languages)\n",
        "\n",
        "# remove and return the third last item\n",
        "print('\\nWhen -3 is passed:') \n",
        "print('Return Value:', languages.pop(-3))\n",
        "\n",
        "print('Updated List:', languages)"
      ],
      "metadata": {
        "colab": {
          "base_uri": "https://localhost:8080/"
        },
        "id": "bNeiIKslf0V4",
        "outputId": "da37026a-597b-44d3-85a4-214c72cff0b5"
      },
      "execution_count": null,
      "outputs": [
        {
          "output_type": "stream",
          "name": "stdout",
          "text": [
            "When index is not passed:\n",
            "Return Value: C\n",
            "Updated List: ['Python', 'Java', 'C++', 'Ruby']\n",
            "\n",
            "When -1 is passed:\n",
            "Return Value: Ruby\n",
            "Updated List: ['Python', 'Java', 'C++']\n",
            "\n",
            "When -3 is passed:\n",
            "Return Value: Python\n",
            "Updated List: ['Java', 'C++']\n"
          ]
        }
      ]
    },
    {
      "cell_type": "code",
      "source": [
        "city = ['New York', 'London', 'Istanbul', 'Seoul', 'Sydney']\n",
        "\n",
        "city_list = []\n",
        "city_list.append(city) # we have created a nested list\n",
        "\n",
        "print(city_list) #Tek bir elemani olan (city) bir lsite yaptik. \n",
        "print(city_list[0]) #listenin tek elemani Sifirinci indexte. 1 yazsaydik hata verir\n",
        "print(city_list[0][2]) #city_list'in 0'inci indeksindeki listenin 2'inci indexteki elemani\n",
        "print(city_list[0][2][4])#city_listin 0'inci indeksindeki 2'inci indeksin 4'uncu indexteki elemani"
      ],
      "metadata": {
        "colab": {
          "base_uri": "https://localhost:8080/"
        },
        "id": "EtQrRnA8kmQM",
        "outputId": "3129713e-c782-4962-85f1-c75cdcbc4242"
      },
      "execution_count": null,
      "outputs": [
        {
          "output_type": "stream",
          "name": "stdout",
          "text": [
            "[['New York', 'London', 'Istanbul', 'Seoul', 'Sydney']]\n",
            "['New York', 'London', 'Istanbul', 'Seoul', 'Sydney']\n",
            "Istanbul\n",
            "n\n"
          ]
        }
      ]
    },
    {
      "cell_type": "code",
      "source": [
        "fruits = ['apple', 'banana', 'watermelon', 'orange', 'mango', 'avocado']\n",
        "\n",
        "fruit_list = []\n",
        "fruit_list.insert(0, fruits) #fruits listeyi fruit_list'in icine komple append etti\n",
        "print(fruit_list) #yeni olusan ve 1 elemani olan  fruit_list yazdirdi\n",
        "print(fruit_list[0]) # ilk ve tek elemanini; 0'inci indeksteki elemani yazdirdi\n",
        "print(fruit_list[0][2]) # 0'inci indexteki elemanin 2'inci indeksindeki elemani\n",
        "print(fruit_list[0][2][7]) # watermelon listesinin 7'inci elemani(harfi)"
      ],
      "metadata": {
        "colab": {
          "base_uri": "https://localhost:8080/"
        },
        "id": "0B91ZITpmufY",
        "outputId": "6921d544-f487-4fbf-f62b-62ff45b4178f"
      },
      "execution_count": null,
      "outputs": [
        {
          "output_type": "stream",
          "name": "stdout",
          "text": [
            "[['apple', 'banana', 'watermelon', 'orange', 'mango', 'avocado']]\n",
            "['apple', 'banana', 'watermelon', 'orange', 'mango', 'avocado']\n",
            "watermelon\n",
            "l\n"
          ]
        }
      ]
    },
    {
      "cell_type": "code",
      "source": [
        "count = list(range(11)) #iki tane fonksiyon var.\n",
        "                        #1-list() fonksiyonu-Listeye cevirmek icin kullanilir\n",
        "                        #2-range() fonksiyonu-0'dan fonksiyonda belirtilen sayiya kadar yazar\n",
        "print(count)\n",
        "\n",
        "print(count[0:11:2]) #0 dan 11'e kadar olan listeyi 2'ser 2'ser yazdir. [start:stop:step]"
      ],
      "metadata": {
        "colab": {
          "base_uri": "https://localhost:8080/"
        },
        "id": "bUamgcCsoROo",
        "outputId": "946f6e82-225f-4267-91f1-2a21c1f8bf7d"
      },
      "execution_count": null,
      "outputs": [
        {
          "output_type": "stream",
          "name": "stdout",
          "text": [
            "[0, 1, 2, 3, 4, 5, 6, 7, 8, 9, 10]\n",
            "[0, 2, 4, 6, 8, 10]\n"
          ]
        }
      ]
    },
    {
      "cell_type": "code",
      "source": [
        "print(len([[12, 34, 56]][0]))"
      ],
      "metadata": {
        "colab": {
          "base_uri": "https://localhost:8080/"
        },
        "id": "zprjMctMqGRX",
        "outputId": "9f992dcc-3400-4dbb-c465-c59aa1b02a71"
      },
      "execution_count": null,
      "outputs": [
        {
          "output_type": "stream",
          "name": "stdout",
          "text": [
            "3\n"
          ]
        }
      ]
    },
    {
      "cell_type": "code",
      "source": [
        "fruits = ['orange', 'apple', 'pear', 'banana', 'kiwi', 'apple', 'banana']\n",
        "fruits.count('apple') # listede kac tane apple geciyor\n",
        "fruits.index('banana') #listede ilk 'banana' kacinci indexte\n",
        "fruits.reverse()#lsisteyi tersten yazadirdi\n",
        "fruits.reverse()#lsisteyi tersten yazadirdi\n",
        "fruits.append('grape') #listenin sonuna 'grape' ekledi\n",
        "fruits.sort() #listeyi elemanlarini alfabetik siraya gore dizip yeniden yazdirid\n",
        "fruits.append('avocado')\n",
        "print(sorted(fruits))\n",
        "print(fruits)\n",
        "new_fruits = fruits.sort()\n",
        "print(sorted(fruits, reverse=True)) #listeyi hem alfabetik olaraj siraladi hemde terse cevirdi\n",
        "\n",
        "\n",
        "\n"
      ],
      "metadata": {
        "colab": {
          "base_uri": "https://localhost:8080/"
        },
        "id": "RRR8tZOYqf7P",
        "outputId": "1f4a939f-8995-4ce0-ddd9-dcaa16217699"
      },
      "execution_count": null,
      "outputs": [
        {
          "output_type": "stream",
          "name": "stdout",
          "text": [
            "['apple', 'apple', 'avocado', 'banana', 'banana', 'grape', 'kiwi', 'orange', 'pear']\n",
            "['apple', 'apple', 'banana', 'banana', 'grape', 'kiwi', 'orange', 'pear', 'avocado']\n",
            "['pear', 'orange', 'kiwi', 'grape', 'banana', 'banana', 'avocado', 'apple', 'apple']\n"
          ]
        }
      ]
    },
    {
      "cell_type": "markdown",
      "source": [
        "COLLECTION TYPES\n",
        "> TUPLES\n",
        "\n"
      ],
      "metadata": {
        "id": "4KeCVkst2BCm"
      }
    },
    {
      "cell_type": "code",
      "source": [
        "my_tuple=(1, 4, 3, 4, 5, 6, 7, 4)\n",
        "print(my_tuple)\n",
        "#my_tuple.append(1)# tuple immutble, yani belirlenen liste degistirilemez\n",
        "my_list = list(my_tuple)\n",
        "print(type(my_list), my_list)\n",
        "my_list.append(12)\n",
        "print(my_list) #Tuple degistirilemiyor ama listeye cevirip degisiklik yapabiliriz"
      ],
      "metadata": {
        "colab": {
          "base_uri": "https://localhost:8080/"
        },
        "id": "o9MRXtykve3l",
        "outputId": "1fe3bcb9-d43f-4523-ed96-277fb43ca7f3"
      },
      "execution_count": null,
      "outputs": [
        {
          "output_type": "stream",
          "name": "stdout",
          "text": [
            "(1, 4, 3, 4, 5, 6, 7, 4)\n",
            "<class 'list'> [1, 4, 3, 4, 5, 6, 7, 4]\n",
            "[1, 4, 3, 4, 5, 6, 7, 4, 12]\n"
          ]
        }
      ]
    },
    {
      "cell_type": "code",
      "source": [
        "memleket = tuple('Erzurum') #stringler Tuple yapilabilir\n",
        "print(memleket) \n",
        "print(memleket[0])\n",
        "print(memleket[0:6:2]) #ayni listelerde oldugu gibi indexleme yapabiliriz\n",
        "print(len(memleket)) #tuple larda da len() fonksiyonunu kullanabiliyoruz\n",
        "count=memleket.count('z') #tuple larda da count() fonksiyonunu kullanabiliyoruz\n",
        "print(count)\n",
        "#memleket.sort() #tuple lar imutable-degistirilemez oldugu icin sort() calismaz\n",
        "print(sorted(memleket)) #burada tuple degeri degisitirilmedigi icin bu sonuc verir\n",
        "print(memleket)\n",
        "#print(memleket.reverse()) # tuple immutable oldugu icin hata verir."
      ],
      "metadata": {
        "colab": {
          "base_uri": "https://localhost:8080/"
        },
        "id": "t81vZPxA-zfJ",
        "outputId": "61fb86c5-ca10-4399-efe3-1bbabfb90ec3"
      },
      "execution_count": null,
      "outputs": [
        {
          "output_type": "stream",
          "name": "stdout",
          "text": [
            "('E', 'r', 'z', 'u', 'r', 'u', 'm')\n",
            "E\n",
            "('E', 'z', 'r')\n",
            "7\n",
            "1\n",
            "['E', 'm', 'r', 'r', 'u', 'u', 'z']\n",
            "('E', 'r', 'z', 'u', 'r', 'u', 'm')\n"
          ]
        }
      ]
    },
    {
      "cell_type": "code",
      "source": [
        "flowers = [[\"jasmine\", [\"lavender\", \"rose\"], \"tulip\"]]\n",
        "colors = [\"red\", (\"blue\", [\"yellow\", \"green\"]), \"pink\"]\n",
        "print(\"My two favorite flowers are {} and {}, two favorite colors are {} and {}.\".format(flowers[0][2],flowers[0][1][1],colors[1][0], colors[1][1][1]))\n"
      ],
      "metadata": {
        "colab": {
          "base_uri": "https://localhost:8080/"
        },
        "id": "YffH_vfy_YUe",
        "outputId": "c5063280-6dce-4abf-c303-693d71c2baaf"
      },
      "execution_count": null,
      "outputs": [
        {
          "output_type": "stream",
          "name": "stdout",
          "text": [
            "My two favorite flowers are tulip and rose, two favorite colors are blue and green.\n"
          ]
        }
      ]
    },
    {
      "cell_type": "markdown",
      "source": [
        "COLLECTION TYPES\n",
        "> DICTIONARIES\n"
      ],
      "metadata": {
        "id": "hbpRX9yX8z4s"
      }
    },
    {
      "cell_type": "code",
      "source": [
        "#my_dict = {'key1': 'value1',\n",
        " #           'key2': 'value2',\n",
        "  #          'key3': 'value3'\n",
        "   #         }\n",
        "   #DICTIONARILER OLUSTURULURKEN KEY :VALUE OLARAK OLUSTURULUR"
      ],
      "metadata": {
        "id": "_caXbi289IZl"
      },
      "execution_count": null,
      "outputs": []
    },
    {
      "cell_type": "code",
      "source": [
        "\n",
        "state_capitals = {'Arkansas': 'Little Rock',\n",
        "                  'Colorado': 'Denver',\n",
        "                  'California': 'Sacramento',\n",
        "                  'Georgia': 'Atlanta' \n",
        "                 }\n",
        "\n",
        "print(state_capitals['Colorado']) # accessing method KEY COLORADO ISE VALUE DENVER\n",
        "print(state_capitals['California']) # KEY CALIFORNIA ISE VALUE SACRAMENTO"
      ],
      "metadata": {
        "colab": {
          "base_uri": "https://localhost:8080/"
        },
        "id": "2RXoAeVd51Mr",
        "outputId": "36f7a566-51df-4a17-9c0d-bba19e880b2d"
      },
      "execution_count": null,
      "outputs": [
        {
          "output_type": "stream",
          "name": "stdout",
          "text": [
            "Denver\n",
            "Sacramento\n"
          ]
        }
      ]
    },
    {
      "cell_type": "code",
      "source": [
        "state_capitals = {'Arkansas': 'Little Rock',\n",
        "                  'Colorado': 'Denver',\n",
        "                  'California': 'Sacramento',\n",
        "                  'Georgia': 'Atlanta' \n",
        "                 }\n",
        "\n",
        "state_capitals['Virginia'] = 'Richmond' # adding a new item NOT LIKE TUPLES\n",
        "                                        #WE CAN ADD ITEM/PAIR (KEY:VALUE)\n",
        "print(state_capitals)"
      ],
      "metadata": {
        "colab": {
          "base_uri": "https://localhost:8080/"
        },
        "id": "TQYxQuC29BXN",
        "outputId": "c1b50605-ad03-4f97-9622-4d99d93aeef4"
      },
      "execution_count": null,
      "outputs": [
        {
          "output_type": "stream",
          "name": "stdout",
          "text": [
            "{'Arkansas': 'Little Rock', 'Colorado': 'Denver', 'California': 'Sacramento', 'Georgia': 'Atlanta', 'Virginia': 'Richmond'}\n"
          ]
        }
      ]
    },
    {
      "cell_type": "code",
      "source": [
        "\n",
        "#Note that keys and values can be of different types.\n",
        "# We can only index them with their key values.\n",
        "\n",
        "mix_values = {'animal': ('dog', 'cat'),  # tuple type\n",
        "              'planet': ['Neptun', 'Saturn', 'Jupiter'],  # list type\n",
        "              'number': 40,  # int type\n",
        "              'pi': 3.14,  # float type\n",
        "              'is_good': True}  # bool type\n",
        "\n",
        "mix_keys = {22 : \"integer\",\n",
        "            1.2 : \"float\",\n",
        "            True : \"boolean\",\n",
        "            \"key\" : \"string\"}\n",
        "\n",
        "print(mix_values)\n",
        "print(mix_keys)"
      ],
      "metadata": {
        "colab": {
          "base_uri": "https://localhost:8080/"
        },
        "id": "yPqXPv4uA69j",
        "outputId": "bf56c447-64d1-4f10-cc41-5ed39a9f37b1"
      },
      "execution_count": null,
      "outputs": [
        {
          "output_type": "stream",
          "name": "stdout",
          "text": [
            "{'animal': ('dog', 'cat'), 'planet': ['Neptun', 'Saturn', 'Jupiter'], 'number': 40, 'pi': 3.14, 'is_good': True}\n",
            "{22: 'integer', 1.2: 'float', True: 'boolean', 'key': 'string'}\n"
          ]
        }
      ]
    },
    {
      "cell_type": "code",
      "source": [
        "dict_by_dict = dict(animal='dog', planet='neptun', number=40, pi=3.14, is_good=True)\n",
        "\n",
        "print(dict_by_dict)"
      ],
      "metadata": {
        "colab": {
          "base_uri": "https://localhost:8080/"
        },
        "id": "kwsrTsNI9zti",
        "outputId": "0ad196ce-2af3-4f0d-8f20-c303e4864449"
      },
      "execution_count": null,
      "outputs": [
        {
          "output_type": "stream",
          "name": "stdout",
          "text": [
            "{'animal': 'dog', 'planet': 'neptun', 'number': 40, 'pi': 3.14, 'is_good': True}\n"
          ]
        }
      ]
    },
    {
      "cell_type": "code",
      "source": [
        "dict_by_dict = {'animal': 'dog',\n",
        "                'planet': 'neptun',\n",
        "                'number': 40,\n",
        "                'pi': 3.14,\n",
        "                'is_good': True}\n",
        "\n",
        "print(dict_by_dict.items(),'\\n') #items()fonksiyonu ile butun degerlere ulasabilirsin\n",
        "print(dict_by_dict.keys(), '\\n') #keys() fonksiyonu ile key degerlerine ulasabilirsin\n",
        "print(dict_by_dict.values(),'\\n') #values() fonksiyonu ile value lara ulasabilirsin"
      ],
      "metadata": {
        "colab": {
          "base_uri": "https://localhost:8080/"
        },
        "id": "1_oFjqOEAknr",
        "outputId": "cad805ec-6367-42ac-bc1c-cd59ce9082e0"
      },
      "execution_count": null,
      "outputs": [
        {
          "output_type": "stream",
          "name": "stdout",
          "text": [
            "dict_items([('animal', 'dog'), ('planet', 'neptun'), ('number', 40), ('pi', 3.14), ('is_good', True)]) \n",
            "\n",
            "dict_keys(['animal', 'planet', 'number', 'pi', 'is_good']) \n",
            "\n",
            "dict_values(['dog', 'neptun', 40, 3.14, True]) \n",
            "\n"
          ]
        }
      ]
    },
    {
      "cell_type": "code",
      "source": [
        "dict_by_dict = {'animal': 'dog',\n",
        "                'planet': 'neptun',\n",
        "                'number': 40,\n",
        "                'pi': 3.14,\n",
        "                'is_good': True}\n",
        "print(dict_by_dict)\n",
        "dict_by_dict.update({'is_bad': False}) #update() fonksiyonu ile dictionary e pair ekleyebilirsin\n",
        "print(dict_by_dict,'\\n')\n",
        "del dict_by_dict['animal'] #del fonksiyonu ile dictionary den pair silebiliriz. key yazilmali\n",
        "print(dict_by_dict)\n",
        "print('pi' in dict_by_dict) #True ve/veya False degeri dondurur\n",
        "print('animal' not in dict_by_dict) #ustteki satirlarda animal:dog pairini silmistik\n"
      ],
      "metadata": {
        "colab": {
          "base_uri": "https://localhost:8080/"
        },
        "id": "nE0g-gkyDJY-",
        "outputId": "b85317b9-86ca-4332-c833-ff97927fd08e"
      },
      "execution_count": null,
      "outputs": [
        {
          "output_type": "stream",
          "name": "stdout",
          "text": [
            "{'animal': 'dog', 'planet': 'neptun', 'number': 40, 'pi': 3.14, 'is_good': True}\n",
            "{'animal': 'dog', 'planet': 'neptun', 'number': 40, 'pi': 3.14, 'is_good': True, 'is_bad': False} \n",
            "\n",
            "{'planet': 'neptun', 'number': 40, 'pi': 3.14, 'is_good': True, 'is_bad': False}\n",
            "True\n",
            "True\n"
          ]
        }
      ]
    },
    {
      "cell_type": "code",
      "source": [
        "student_ages = {\"Harry\": 29,\n",
        "                \"Clark\": 32,\n",
        "                \"Peter\": 22,\n",
        "                \"Bruce\": 36\n",
        "                }\n",
        "print(student_ages ['Clark'])"
      ],
      "metadata": {
        "colab": {
          "base_uri": "https://localhost:8080/"
        },
        "id": "Ts-5cTK3ELy5",
        "outputId": "69e510e7-a47e-47c2-bc72-db34c4fe23e5"
      },
      "execution_count": null,
      "outputs": [
        {
          "output_type": "stream",
          "name": "stdout",
          "text": [
            "32\n"
          ]
        }
      ]
    },
    {
      "cell_type": "code",
      "source": [
        "#NESTED DISTIONARY-ic ice gecmis dictionary\n",
        "school_records={\n",
        "    \"personal_info\": \n",
        "        {\"kid\":{\"tom\": {\"class\":\"intermediate\", \"age\":10},\n",
        "                \"sue\": {\"class\":\"elementary\", \"age\":8}\n",
        "               },\n",
        "         \"teen\":{\"joseph\":{\"class\":\"college\", \"age\":19},\n",
        "                 \"marry\":{\"class\":\"high school\", \"age\":16}\n",
        "               },               \n",
        "        },\n",
        "}\n",
        "\n",
        "print(school_records['personal_info']['teen']['marry']['age'])"
      ],
      "metadata": {
        "colab": {
          "base_uri": "https://localhost:8080/"
        },
        "id": "S01-ZQ6sFzPb",
        "outputId": "66c8d5e8-d0d5-4e28-cc26-f4f1b15ada64"
      },
      "execution_count": null,
      "outputs": [
        {
          "output_type": "stream",
          "name": "stdout",
          "text": [
            "16\n"
          ]
        }
      ]
    },
    {
      "cell_type": "code",
      "source": [
        " tel = {'jack': 4098, 'sape': 4139} #dictionary tanimlandi\n",
        "tel['guido'] = 4127 #'guido' key, 4127 value pair eklendi\n",
        "tel\n",
        "{'jack': 4098, 'sape': 4139, 'guido': 4127}\n",
        "#tel['jack'] --> 4098 tel dictionarisinden jack key i ile value cagiriyor\n",
        "#del tel['sape'] del methodu ile sape ciftini siliyor\n",
        "#print (tel) --> {'jack': 4098, 'guido': 4127}\n",
        "#tel['irv'] = 4127 #distionary a pair ekleniyor\n",
        "#print(tel) --> {'jack': 4098, 'guido': 4127, 'irv': 4127}\n",
        "# list(tel) --> ['jack', 'guido', 'irv'] list metodu\n",
        "\n",
        "#print(sorted(tel))--> ['guido', 'irv', 'jack'] sorted() metodu\n",
        "\n",
        "#'guido' in tel ##TRUE\n",
        "\n",
        "#'jack' not in tel ##FALSE"
      ],
      "metadata": {
        "colab": {
          "base_uri": "https://localhost:8080/"
        },
        "id": "QUE_ZDoMIwhI",
        "outputId": "1b396a0f-f95f-4ace-ea10-4cd472804ce3"
      },
      "execution_count": null,
      "outputs": [
        {
          "output_type": "execute_result",
          "data": {
            "text/plain": [
              "{'guido': 4127, 'jack': 4098, 'sape': 4139}"
            ]
          },
          "metadata": {},
          "execution_count": 53
        }
      ]
    },
    {
      "cell_type": "code",
      "source": [
        "dict_1={x: x**2 for x in (2, 4, 6)} #for loop kullanarak Dioctionary olusturduk\n",
        "print(dict_1)"
      ],
      "metadata": {
        "colab": {
          "base_uri": "https://localhost:8080/"
        },
        "id": "jYXlb9ZoJYXu",
        "outputId": "de9962ed-2992-4d0a-9df5-aac434dfce9a"
      },
      "execution_count": null,
      "outputs": [
        {
          "output_type": "stream",
          "name": "stdout",
          "text": [
            "{2: 4, 4: 16, 6: 36}\n"
          ]
        }
      ]
    },
    {
      "cell_type": "markdown",
      "source": [
        "COLLECTION TYPES\n",
        "> SET-Kumeler"
      ],
      "metadata": {
        "id": "OlHkZdJmQDaC"
      }
    },
    {
      "cell_type": "code",
      "source": [
        "colorset = {'purple', 'orange', 'red', 'darkblue', 'yellow', 'red'} \n",
        "#bu kumede 2 adet 'red' integeri var.\n",
        "\n",
        "print(colorset) #2 adet olan 'red' integeri 1 adet olarak guncellendi\n",
        "print(colorset) #set/kumeler icerisindeki elemanlar siralamadan bagimsiz yazildi"
      ],
      "metadata": {
        "colab": {
          "base_uri": "https://localhost:8080/"
        },
        "id": "J97-TgNmLhDx",
        "outputId": "c16d08bf-114c-473d-e587-c8dd75d3d431"
      },
      "execution_count": null,
      "outputs": [
        {
          "output_type": "stream",
          "name": "stdout",
          "text": [
            "{'orange', 'purple', 'yellow', 'red', 'darkblue'}\n",
            "{'orange', 'purple', 'yellow', 'red', 'darkblue'}\n"
          ]
        }
      ]
    },
    {
      "cell_type": "code",
      "source": [
        "flower_list = ['rose', 'violet', 'carnation', 'rose', 'orchid', 'rose', 'orchid']\n",
        "flowerset = set(flower_list) #listeyi set olarak guncelledi\n",
        "flowerlist = list(flowerset) # set olani liste olarak guncelledi\n",
        "\n",
        "print(flowerset) \n",
        "print(flowerlist)"
      ],
      "metadata": {
        "colab": {
          "base_uri": "https://localhost:8080/"
        },
        "id": "MShPPxk4QyBX",
        "outputId": "4506df9e-5ef3-4cb0-fe05-ad8a1e31d716"
      },
      "execution_count": null,
      "outputs": [
        {
          "output_type": "stream",
          "name": "stdout",
          "text": [
            "{'carnation', 'rose', 'violet', 'orchid'}\n",
            "['carnation', 'rose', 'violet', 'orchid']\n"
          ]
        }
      ]
    },
    {
      "cell_type": "markdown",
      "source": [
        "SET ile yapilan islemler\n",
        "\n",
        ".add() : Adds a new item to the set.\n",
        "\n",
        ".remove() : Allows us to delete an item.\n",
        "\n",
        ".intersection() : Returns the intersection of two sets.\n",
        "\n",
        ".union() : Returns the unification of two sets.\n",
        "\n",
        ".difference() : Gets the difference of two sets.\n",
        "\n",
        "\n"
      ],
      "metadata": {
        "id": "1U8DzngfSYYJ"
      }
    },
    {
      "cell_type": "code",
      "source": [
        "a = set('abracadabra')\n",
        "b = set('alacazam')\n",
        "\n",
        "print(a)\n",
        "print(b)\n",
        "print(a - b)  # same as '.difference()' method\n",
        "print(a.difference(b)) # a difference from b iki kumenin birbirinden farki\n",
        "print(a | b)  # same as '.union()' method\n",
        "print(a.union(b)) #iki kumenin birlesimi\n",
        "print(a & b)  # same as '.intersection()' method\n",
        "print(a.intersection(b)) # intersection of a and b-- iki kumenin kesisimi\n"
      ],
      "metadata": {
        "colab": {
          "base_uri": "https://localhost:8080/"
        },
        "id": "MLIR3R4sROXW",
        "outputId": "70c3b222-9cf7-4e29-d886-65fa29be3f2b"
      },
      "execution_count": null,
      "outputs": [
        {
          "output_type": "stream",
          "name": "stdout",
          "text": [
            "{'c', 'r', 'a', 'b', 'd'}\n",
            "{'c', 'a', 'm', 'l', 'z'}\n",
            "{'r', 'b', 'd'}\n",
            "{'r', 'b', 'd'}\n",
            "{'c', 'r', 'a', 'b', 'd', 'm', 'l', 'z'}\n",
            "{'c', 'r', 'a', 'b', 'd', 'm', 'l', 'z'}\n",
            "{'c', 'a'}\n",
            "{'c', 'a'}\n",
            "{'r', 'a', 'b', 'd'}\n"
          ]
        }
      ]
    },
    {
      "cell_type": "code",
      "source": [
        "a = set('abracadabra')\n",
        "a.remove('c') #\"c\" karakterini siliyoruz.\n",
        "print(a)\n",
        "a.add('c') # 'c' karakterini ekliyoruz\n",
        "print(a)"
      ],
      "metadata": {
        "colab": {
          "base_uri": "https://localhost:8080/"
        },
        "id": "4mkANgcSSjVy",
        "outputId": "6e7426ac-cc6b-4110-c93f-b345dfed99e0"
      },
      "execution_count": null,
      "outputs": [
        {
          "output_type": "stream",
          "name": "stdout",
          "text": [
            "{'r', 'a', 'b', 'd'}\n",
            "{'c', 'r', 'a', 'b', 'd'}\n"
          ]
        }
      ]
    },
    {
      "cell_type": "code",
      "source": [
        "print(len(a))#len() fonksiyonunu calistiriyor\n",
        "print('z' not in a) # not in fonksiyonu ile True/False degeri donduruluyor.\n"
      ],
      "metadata": {
        "colab": {
          "base_uri": "https://localhost:8080/"
        },
        "id": "oZBPeMMyUGeP",
        "outputId": "d529f647-2fb1-4d00-aa55-4da591045edc"
      },
      "execution_count": null,
      "outputs": [
        {
          "output_type": "stream",
          "name": "stdout",
          "text": [
            "5\n",
            "True\n"
          ]
        }
      ]
    },
    {
      "cell_type": "code",
      "source": [
        "\n"
      ],
      "metadata": {
        "colab": {
          "base_uri": "https://localhost:8080/"
        },
        "id": "jQGg6lCLUWh9",
        "outputId": "7c06c32e-17e7-4b22-dc38-32f636b333fa"
      },
      "execution_count": 17,
      "outputs": [
        {
          "output_type": "execute_result",
          "data": {
            "text/plain": [
              "4"
            ]
          },
          "metadata": {},
          "execution_count": 17
        }
      ]
    },
    {
      "cell_type": "code",
      "source": [
        "#max(a, b, c, ...[, key=func]) -> value\n",
        "numbers_1 = [1, 3, 7, 4, 3, 0, 3, 6, 3, 6, 7, 7, 7, 7, 7, 7, 2, 4, 5, 5, 6, 6, 7, 6, 6, 12]\n",
        "the_most=max(numbers_1, key=numbers_1.count)\n",
        "print(the_most)\n",
        "a=numbers_1.count(the_most)\n",
        "print(a)\n",
        "print('the most frequent number is {} and it repeats {} times'.format(the_most, a))\n",
        "text=f'the most frequent number is {the_most} and it repeats {numbers_1.count(the_most)}'"
      ],
      "metadata": {
        "colab": {
          "base_uri": "https://localhost:8080/"
        },
        "id": "9vF0ZdyClY50",
        "outputId": "dd7a2bcf-13c1-47c3-c41b-683118388186"
      },
      "execution_count": 37,
      "outputs": [
        {
          "output_type": "stream",
          "name": "stdout",
          "text": [
            "7\n",
            "8\n",
            "the most frequent number is 7 and it repeats 8 times\n"
          ]
        }
      ]
    },
    {
      "cell_type": "code",
      "source": [
        "#Find out if the given word is \"comfortable words\" \n",
        "#in relation to the ten-finger keyboard use.\n",
        "\n",
        "left=set(\"qwertasdfgzxcvb\")\n",
        "right=set(\"yuiophjklmn\")\n",
        "word =set(input(\"word:\"))\n",
        "leftcheck=bool(word.intersection(left))\n",
        "rightcheck=bool(word.intersection(right))\n",
        "print(\"leftcheck value is \", leftcheck)\n",
        "print('rightcheck value is ', rightcheck)\n",
        "sonuc=leftcheck and rightcheck\n",
        "\n",
        "sonuc\n"
      ],
      "metadata": {
        "id": "6X3hw7eeXuY3",
        "colab": {
          "base_uri": "https://localhost:8080/"
        },
        "outputId": "5cd007c9-54fc-4296-b817-78bb4dc16983"
      },
      "execution_count": 47,
      "outputs": [
        {
          "output_type": "stream",
          "name": "stdout",
          "text": [
            "word:clarusway\n",
            "leftcheck value is  True\n",
            "rightcheck value is  True\n"
          ]
        },
        {
          "output_type": "execute_result",
          "data": {
            "text/plain": [
              "True"
            ]
          },
          "metadata": {},
          "execution_count": 47
        }
      ]
    },
    {
      "cell_type": "code",
      "source": [
        "\n"
      ],
      "metadata": {
        "id": "lucYu4yBjnyC"
      },
      "execution_count": 43,
      "outputs": []
    },
    {
      "cell_type": "code",
      "source": [
        ""
      ],
      "metadata": {
        "id": "8wNnk6TvppSF"
      },
      "execution_count": null,
      "outputs": []
    }
  ]
}