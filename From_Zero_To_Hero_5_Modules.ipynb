{
  "nbformat": 4,
  "nbformat_minor": 0,
  "metadata": {
    "colab": {
      "name": "From_Zero_To_Hero_5_Modules.ipynb",
      "provenance": [],
      "collapsed_sections": [],
      "authorship_tag": "ABX9TyPO4Qp4otFGtR2wYYaCtngX",
      "include_colab_link": true
    },
    "kernelspec": {
      "name": "python3",
      "display_name": "Python 3"
    },
    "language_info": {
      "name": "python"
    }
  },
  "cells": [
    {
      "cell_type": "markdown",
      "metadata": {
        "id": "view-in-github",
        "colab_type": "text"
      },
      "source": [
        "<a href=\"https://colab.research.google.com/github/MK2709/my_colab_pyhton_exercises/blob/main/From_Zero_To_Hero_5_Modules.ipynb\" target=\"_parent\"><img src=\"https://colab.research.google.com/assets/colab-badge.svg\" alt=\"Open In Colab\"/></a>"
      ]
    },
    {
      "cell_type": "code",
      "execution_count": 10,
      "metadata": {
        "colab": {
          "base_uri": "https://localhost:8080/"
        },
        "id": "mjzlI6rMHbC2",
        "outputId": "5bfce729-f3ca-44a8-9b51-9544bcc5b503"
      },
      "outputs": [
        {
          "output_type": "execute_result",
          "data": {
            "text/plain": [
              "120"
            ]
          },
          "metadata": {},
          "execution_count": 10
        }
      ],
      "source": [
        "def factoriel (x) :\n",
        "  result=1\n",
        "  for i in range(x):\n",
        "    result *= (i+1)\n",
        "  return result\n",
        "\n",
        "factoriel(5)\n",
        "\n"
      ]
    },
    {
      "cell_type": "code",
      "source": [
        "def fabionacci(n):\n",
        "  a,b=0,1\n",
        "  while a<n:\n",
        "    print(a, end=\"\")\n",
        "    a,b=b,a+b\n",
        "fib(1000)"
      ],
      "metadata": {
        "colab": {
          "base_uri": "https://localhost:8080/"
        },
        "id": "HGAxZqyqM2Wx",
        "outputId": "22559e54-81ac-46a6-8e30-364d2d19fde6"
      },
      "execution_count": 18,
      "outputs": [
        {
          "output_type": "stream",
          "name": "stdout",
          "text": [
            "0 1 1 2 3 5 8 13 21 34 55 89 144 233 377 610 987 "
          ]
        }
      ]
    },
    {
      "cell_type": "code",
      "source": [
        "def fib2(n):   # return Fibonacci series up to n\n",
        "    result = []\n",
        "    a, b = 0, 1\n",
        "    while a < n:\n",
        "        result.append(a)\n",
        "        a, b = b, a+b\n",
        "    return result\n",
        "\n",
        "fib2(1000)\n"
      ],
      "metadata": {
        "colab": {
          "base_uri": "https://localhost:8080/"
        },
        "id": "k3AImPwXa5kT",
        "outputId": "4c65f426-1ddb-43f7-f0d7-fff927d59bc5"
      },
      "execution_count": 23,
      "outputs": [
        {
          "output_type": "execute_result",
          "data": {
            "text/plain": [
              "[0, 1, 1, 2, 3, 5, 8, 13, 21, 34, 55, 89, 144, 233, 377, 610, 987]"
            ]
          },
          "metadata": {},
          "execution_count": 23
        }
      ]
    },
    {
      "cell_type": "code",
      "source": [
        ""
      ],
      "metadata": {
        "id": "9zYQsBnIb5Xp"
      },
      "execution_count": null,
      "outputs": []
    }
  ]
}