{
  "nbformat": 4,
  "nbformat_minor": 0,
  "metadata": {
    "colab": {
      "name": "FZTH_Max&Count&Sorted.ipynb",
      "provenance": [],
      "collapsed_sections": [],
      "authorship_tag": "ABX9TyOpwCMe1Vj4VNV9YprkDqlO",
      "include_colab_link": true
    },
    "kernelspec": {
      "name": "python3",
      "display_name": "Python 3"
    },
    "language_info": {
      "name": "python"
    }
  },
  "cells": [
    {
      "cell_type": "markdown",
      "metadata": {
        "id": "view-in-github",
        "colab_type": "text"
      },
      "source": [
        "<a href=\"https://colab.research.google.com/github/MK2709/my_colab_pyhton_exercises/blob/main/FZTH_Max%26Count%26Sorted.ipynb\" target=\"_parent\"><img src=\"https://colab.research.google.com/assets/colab-badge.svg\" alt=\"Open In Colab\"/></a>"
      ]
    },
    {
      "cell_type": "code",
      "execution_count": 6,
      "metadata": {
        "colab": {
          "base_uri": "https://localhost:8080/"
        },
        "id": "HUJPllJ9FHTD",
        "outputId": "e6101a46-221f-4920-a245-55fdf8ee05ce"
      },
      "outputs": [
        {
          "output_type": "stream",
          "name": "stdout",
          "text": [
            "96\n"
          ]
        },
        {
          "output_type": "execute_result",
          "data": {
            "text/plain": [
              "2"
            ]
          },
          "metadata": {},
          "execution_count": 6
        }
      ],
      "source": [
        "listem=[-1,2,3,5,7,8,14,96,23]\n",
        "maks=max(listem) #max() fonksiyonu liste icerisindeki en buyuk sayiyi verir\n",
        "#print(maks)\n",
        "max(2,7,4) #bu sekilde yazilirsa fonksiyona verilen argumentlerin en buyuyugunu dondurur\n",
        "min(2,7,4) #min da tam tersi en kucuggu verir ayni sekilde kullanilir\n",
        "\n"
      ]
    },
    {
      "cell_type": "code",
      "source": [
        "listem_2=[1,1,1,11,1,1,1,1,11,111,11,11,11,11,2,3,44,55,3,3,3,3,3,3,3,3]\n",
        "listem_2.count(11) #count() fonksiyonu ile belirtilen karakter/sayinin liste\n",
        "                  #liste icerisinde kac kere yazildigini bulursun\n",
        "maks_2=max(listem_2) #listem_2 icerisindeki en buyuk rakami buluyor\n",
        "maks_3=max(listem_2, key=listem_2.count) #burada listem_2 icerisinde en cok tekrar eden \n",
        "print(maks_2)                            #sayi bulunuyor.\n",
        "print(maks_3)#buradaki en onemli konu \"key=listem_2.count\" ifadesi ile liste icerisinde  \n",
        "#butun elemanlar saydiriliyor, tekrar adetleri hafizaya aliniyor, ve en yuksek sayida tekrar eden\n",
        "#rakam yaziliyor. yani 3..\n",
        "print(listem_2.count(maks_3)) # liste icerisinde en cok tekrar eden sayiyi bulup\n",
        "#tekrar sayisini ekrana yazdirir.\n"
      ],
      "metadata": {
        "colab": {
          "base_uri": "https://localhost:8080/"
        },
        "id": "OCTU9t7UFe6X",
        "outputId": "f98cc4d0-3ac7-4264-c73f-a0093fc76a08"
      },
      "execution_count": 11,
      "outputs": [
        {
          "output_type": "stream",
          "name": "stdout",
          "text": [
            "111\n",
            "3\n",
            "9\n"
          ]
        }
      ]
    },
    {
      "cell_type": "code",
      "source": [
        "listem_2=[1,1,1,11,1,1,1,1,11,111,11,11,11,11,2,3,44,55,3,3,3,3,3,3,3,3]\n",
        "maks_3=max(listem_2, key=listem_2.count)\n",
        "freq=listem_2.count(maks_3)\n",
        "print('Listede verilen sayilardan en cok tekrar eden sayi {} tekrar ile {} dir.'.format(freq,maks_3))"
      ],
      "metadata": {
        "colab": {
          "base_uri": "https://localhost:8080/"
        },
        "id": "5CZX1RaJHP--",
        "outputId": "25dc014e-8fcd-492b-935d-65a573b11606"
      },
      "execution_count": 12,
      "outputs": [
        {
          "output_type": "stream",
          "name": "stdout",
          "text": [
            "Listede verilen sayilardan en cok tekrar eden sayi 9 tekrar ile 3 dir.\n"
          ]
        }
      ]
    },
    {
      "cell_type": "code",
      "source": [
        "sehirler=['istanbul', 'agri', 'ankara', 'van']\n",
        "maks_4=max(sehirler, key=sehirler.count)\n",
        "print(sorted(sehirler)) #sorted fonksiyonu ile alfabetik siraya gpore siraladi\n",
        "print(sorted(sehirler, key=len)) #elemanlarin uzunluguna gore siralama icin fonksiyonu modifiye ettik\n",
        "print(sorted(sehirler, key=len, reverse=True)) # kisadan uzuna gore siralama yapmak icin\n",
        "print(maks_4 ) \n"
      ],
      "metadata": {
        "colab": {
          "base_uri": "https://localhost:8080/"
        },
        "id": "P-5vZF4MK65T",
        "outputId": "c8874131-abab-4490-c864-b95f3523cbba"
      },
      "execution_count": 22,
      "outputs": [
        {
          "output_type": "stream",
          "name": "stdout",
          "text": [
            "['agri', 'ankara', 'istanbul', 'van']\n",
            "['van', 'agri', 'ankara', 'istanbul']\n",
            "['istanbul', 'ankara', 'agri', 'van']\n",
            "istanbul\n"
          ]
        }
      ]
    },
    {
      "cell_type": "code",
      "source": [
        ""
      ],
      "metadata": {
        "id": "htwYk3RgLhpg"
      },
      "execution_count": null,
      "outputs": []
    }
  ]
}